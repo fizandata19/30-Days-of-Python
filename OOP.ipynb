{
  "nbformat": 4,
  "nbformat_minor": 0,
  "metadata": {
    "colab": {
      "provenance": [],
      "authorship_tag": "ABX9TyNqRq1XCP8cuNy+4bb87Ba6",
      "include_colab_link": true
    },
    "kernelspec": {
      "name": "python3",
      "display_name": "Python 3"
    },
    "language_info": {
      "name": "python"
    }
  },
  "cells": [
    {
      "cell_type": "markdown",
      "metadata": {
        "id": "view-in-github",
        "colab_type": "text"
      },
      "source": [
        "<a href=\"https://colab.research.google.com/github/fizandata19/30-Days-of-Python/blob/main/OOP.ipynb\" target=\"_parent\"><img src=\"https://colab.research.google.com/assets/colab-badge.svg\" alt=\"Open In Colab\"/></a>"
      ]
    },
    {
      "cell_type": "code",
      "source": [
        "class BankAccount:\n",
        "    def __init__(self,account_number,account_holder,balance):\n",
        "         self.account_number = account_number\n",
        "         self.account_holder = account_holder\n",
        "         self.__balance = balance\n",
        " # create a function\n",
        "    def deposit(self,amount):\n",
        "         if amount < 0:\n",
        "            return (\"Value Error\")\n",
        "         self.__balance += amount\n",
        "         return f\"Deposited ${amount}. New balance: ${self.__balance}\"\n",
        "\n",
        "    def withdraw(self,amount):\n",
        "        if amount > self.__balance:\n",
        "            return \"Insufficient Balance\"\n",
        "        self.__balance -= amount\n",
        "        return f\"Withdraw ${amount}. New balance: ${self.__balance}\"\n",
        "    def display_balance(self):\n",
        "        return f\"Account balance for {self.account_holder}: ${self.__balance}\"\n",
        "# Create an object\n",
        "Bank_Info = BankAccount(221133,\"Ahmed\",3000)\n",
        "print(Bank_Info.deposit(-2000))\n",
        "print(Bank_Info.withdraw(5000))\n",
        "print(Bank_Info.display_balance())\n"
      ],
      "metadata": {
        "colab": {
          "base_uri": "https://localhost:8080/"
        },
        "id": "2ntbViw1jCwA",
        "outputId": "c38b0946-a0d1-4c60-8800-ade21a843fda"
      },
      "execution_count": 4,
      "outputs": [
        {
          "output_type": "stream",
          "name": "stdout",
          "text": [
            "Value Error\n",
            "Insufficient Balance\n",
            "Account balance for Ahmed: $3000\n"
          ]
        }
      ]
    },
    {
      "cell_type": "code",
      "source": [],
      "metadata": {
        "id": "AzCZ-nvu5lvn"
      },
      "execution_count": null,
      "outputs": []
    }
  ]
}