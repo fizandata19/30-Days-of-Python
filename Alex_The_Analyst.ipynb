{
  "nbformat": 4,
  "nbformat_minor": 0,
  "metadata": {
    "colab": {
      "provenance": [],
      "authorship_tag": "ABX9TyPOLBlgcO3FMmCRyUnAXN1B",
      "include_colab_link": true
    },
    "kernelspec": {
      "name": "python3",
      "display_name": "Python 3"
    },
    "language_info": {
      "name": "python"
    }
  },
  "cells": [
    {
      "cell_type": "markdown",
      "metadata": {
        "id": "view-in-github",
        "colab_type": "text"
      },
      "source": [
        "<a href=\"https://colab.research.google.com/github/fizandata19/30-Days-of-Python/blob/main/Alex_The_Analyst.ipynb\" target=\"_parent\"><img src=\"https://colab.research.google.com/assets/colab-badge.svg\" alt=\"Open In Colab\"/></a>"
      ]
    },
    {
      "cell_type": "code",
      "execution_count": 5,
      "metadata": {
        "id": "M9UWDRp7hWdT"
      },
      "outputs": [],
      "source": [
        "if 10 > 24:\n",
        "  print(\"You can buy.\")"
      ]
    },
    {
      "cell_type": "code",
      "source": [
        "if 10 < 24:\n",
        "  print(\"You can buy.\")\n",
        "else:\n",
        "  print(\"You can't buy.\")"
      ],
      "metadata": {
        "colab": {
          "base_uri": "https://localhost:8080/"
        },
        "id": "yE9ZCXaURTov",
        "outputId": "c1038b9d-80fe-4705-b5b7-99e2a9df1ab6"
      },
      "execution_count": 7,
      "outputs": [
        {
          "output_type": "stream",
          "name": "stdout",
          "text": [
            "You can buy.\n"
          ]
        }
      ]
    },
    {
      "cell_type": "code",
      "source": [
        "# Write a program that takes an integer as input and prints whether it is odd or even.\n",
        "user_input = int(input('Enter your number: '))\n",
        "if user_input %2 == 0:\n",
        "    print(\"This is Even number.\")\n",
        "else:\n",
        "    print('This is an Odd number.')"
      ],
      "metadata": {
        "colab": {
          "base_uri": "https://localhost:8080/"
        },
        "id": "c-mWO05XSvoQ",
        "outputId": "bfd0c69c-3141-409d-bec7-88feaff22c3e"
      },
      "execution_count": 10,
      "outputs": [
        {
          "output_type": "stream",
          "name": "stdout",
          "text": [
            "Enter your number: 1\n",
            "This is an Odd number.\n"
          ]
        }
      ]
    },
    {
      "cell_type": "code",
      "source": [
        "User_input1 = (int(input('Enter your first number: ')))\n",
        "if User_input1 >= 90 and User_input1 <= 100:\n",
        "    print('A')\n",
        "elif User_input1 >= 80 and User_input1 <= 89:\n",
        "    print('B')\n",
        "elif User_input1 >= 70 and User_input1 <= 79:\n",
        "    print('C')\n",
        "elif User_input1 >= 60 and User_input1 <= 69:\n",
        "    print('D')\n",
        "else:\n",
        "    print('Below 60')\n",
        "\n"
      ],
      "metadata": {
        "colab": {
          "base_uri": "https://localhost:8080/"
        },
        "id": "nlZsZzrlUTr4",
        "outputId": "5aedaef9-136b-4486-a1ad-512acbaa40f7"
      },
      "execution_count": 23,
      "outputs": [
        {
          "output_type": "stream",
          "name": "stdout",
          "text": [
            "Enter your first number: 34\n",
            "Below 60\n"
          ]
        }
      ]
    },
    {
      "cell_type": "code",
      "source": [],
      "metadata": {
        "id": "Y7MGvyxMc086"
      },
      "execution_count": 21,
      "outputs": []
    },
    {
      "cell_type": "code",
      "source": [],
      "metadata": {
        "id": "XYvhVi4QEmdG"
      },
      "execution_count": null,
      "outputs": []
    }
  ]
}