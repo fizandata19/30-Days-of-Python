{
  "nbformat": 4,
  "nbformat_minor": 0,
  "metadata": {
    "colab": {
      "provenance": [],
      "authorship_tag": "ABX9TyPyOyvemWZII6T2g47oFaNl",
      "include_colab_link": true
    },
    "kernelspec": {
      "name": "python3",
      "display_name": "Python 3"
    },
    "language_info": {
      "name": "python"
    }
  },
  "cells": [
    {
      "cell_type": "markdown",
      "metadata": {
        "id": "view-in-github",
        "colab_type": "text"
      },
      "source": [
        "<a href=\"https://colab.research.google.com/github/fizandata19/30-Days-of-Python/blob/main/Alex_The_Analyst.ipynb\" target=\"_parent\"><img src=\"https://colab.research.google.com/assets/colab-badge.svg\" alt=\"Open In Colab\"/></a>"
      ]
    },
    {
      "cell_type": "code",
      "execution_count": null,
      "metadata": {
        "id": "M9UWDRp7hWdT"
      },
      "outputs": [],
      "source": [
        "if 10 > 24:\n",
        "  print(\"You can buy.\")"
      ]
    },
    {
      "cell_type": "code",
      "source": [
        "if 10 < 24:\n",
        "  print(\"You can buy.\")\n",
        "else:\n",
        "  print(\"You can't buy.\")"
      ],
      "metadata": {
        "colab": {
          "base_uri": "https://localhost:8080/"
        },
        "id": "yE9ZCXaURTov",
        "outputId": "c1038b9d-80fe-4705-b5b7-99e2a9df1ab6"
      },
      "execution_count": null,
      "outputs": [
        {
          "output_type": "stream",
          "name": "stdout",
          "text": [
            "You can buy.\n"
          ]
        }
      ]
    },
    {
      "cell_type": "code",
      "source": [
        "# Write a program that takes an integer as input and prints whether it is odd or even.\n",
        "user_input = int(input('Enter your number: '))\n",
        "if user_input %2 == 0:\n",
        "    print(\"This is Even number.\")\n",
        "else:\n",
        "    print('This is an Odd number.')"
      ],
      "metadata": {
        "colab": {
          "base_uri": "https://localhost:8080/"
        },
        "id": "c-mWO05XSvoQ",
        "outputId": "bfd0c69c-3141-409d-bec7-88feaff22c3e"
      },
      "execution_count": null,
      "outputs": [
        {
          "output_type": "stream",
          "name": "stdout",
          "text": [
            "Enter your number: 1\n",
            "This is an Odd number.\n"
          ]
        }
      ]
    },
    {
      "cell_type": "code",
      "source": [
        "User_input1 = (int(input('Enter your first number: ')))\n",
        "if User_input1 >= 90 and User_input1 <= 100:\n",
        "    print('A')\n",
        "elif User_input1 >= 80 and User_input1 <= 89:\n",
        "    print('B')\n",
        "elif User_input1 >= 70 and User_input1 <= 79:\n",
        "    print('C')\n",
        "elif User_input1 >= 60 and User_input1 <= 69:\n",
        "    print('D')\n",
        "else:\n",
        "    print('Below 60')\n",
        "\n"
      ],
      "metadata": {
        "colab": {
          "base_uri": "https://localhost:8080/"
        },
        "id": "nlZsZzrlUTr4",
        "outputId": "5aedaef9-136b-4486-a1ad-512acbaa40f7"
      },
      "execution_count": null,
      "outputs": [
        {
          "output_type": "stream",
          "name": "stdout",
          "text": [
            "Enter your first number: 34\n",
            "Below 60\n"
          ]
        }
      ]
    },
    {
      "cell_type": "code",
      "source": [],
      "metadata": {
        "id": "Y7MGvyxMc086"
      },
      "execution_count": null,
      "outputs": []
    },
    {
      "cell_type": "markdown",
      "source": [
        "FizzBuzz Write a program that prints numbers from 1 to 50:\n"
      ],
      "metadata": {
        "id": "5802_vc-Ezu9"
      }
    },
    {
      "cell_type": "code",
      "source": [
        "#  Print \"Fizz\" for numbers divisible by 3.\n",
        "# Print \"Buzz\" for numbers divisible by 5.\n",
        "# Print \"FizzBuzz\" for numbers divisible by both 3 and 5.\n",
        "\n",
        "for number in range(1,51):\n",
        "     if number % 3 == 0:\n",
        "         print('Fizz')\n",
        "     elif number % 5 == 0:\n",
        "         print('Buzz')\n",
        "     elif number % 3 == 0 and number % 5 == 0:\n",
        "         print('FizzBuzz')\n",
        "     else:\n",
        "         print(number)\n"
      ],
      "metadata": {
        "id": "XYvhVi4QEmdG",
        "colab": {
          "base_uri": "https://localhost:8080/"
        },
        "outputId": "97715108-c62f-4de0-d2a8-1e5d0cf84971"
      },
      "execution_count": null,
      "outputs": [
        {
          "output_type": "stream",
          "name": "stdout",
          "text": [
            "1\n",
            "2\n",
            "Fizz\n",
            "4\n",
            "Buzz\n",
            "Fizz\n",
            "7\n",
            "8\n",
            "Fizz\n",
            "Buzz\n",
            "11\n",
            "Fizz\n",
            "13\n",
            "14\n",
            "Fizz\n",
            "16\n",
            "17\n",
            "Fizz\n",
            "19\n",
            "Buzz\n",
            "Fizz\n",
            "22\n",
            "23\n",
            "Fizz\n",
            "Buzz\n",
            "26\n",
            "Fizz\n",
            "28\n",
            "29\n",
            "Fizz\n",
            "31\n",
            "32\n",
            "Fizz\n",
            "34\n",
            "Buzz\n",
            "Fizz\n",
            "37\n",
            "38\n",
            "Fizz\n",
            "Buzz\n",
            "41\n",
            "Fizz\n",
            "43\n",
            "44\n",
            "Fizz\n",
            "46\n",
            "47\n",
            "Fizz\n",
            "49\n",
            "Buzz\n"
          ]
        }
      ]
    },
    {
      "cell_type": "markdown",
      "source": [
        "Shopping Discount"
      ],
      "metadata": {
        "id": "JDirUyyKF3Be"
      }
    },
    {
      "cell_type": "code",
      "source": [
        "# Input: The total shopping amount.\n",
        "# Output: Calculate the discount as follows:\n",
        "# No discount if amount < $50.\n",
        "# 10% discount if $50 <= amount < $100.\n",
        "# 20% discount if amount >= $100.\n",
        "Total_Amount = int(input('Enter your purchasing amount: '))\n",
        "if Total_Amount < 50:\n",
        "    print('No discount!')\n",
        "elif Total_Amount <= 100:\n",
        "    print('10% discount!')\n",
        "else:\n",
        "    print('20% discount!')\n"
      ],
      "metadata": {
        "colab": {
          "base_uri": "https://localhost:8080/"
        },
        "id": "9ogbP1saFCzL",
        "outputId": "07c5dbe8-2fbf-4cc0-997b-25da90b82f53"
      },
      "execution_count": null,
      "outputs": [
        {
          "output_type": "stream",
          "name": "stdout",
          "text": [
            "Enter your purchasing amount: 10\n",
            "No discount!\n"
          ]
        }
      ]
    },
    {
      "cell_type": "markdown",
      "source": [
        "Login System"
      ],
      "metadata": {
        "id": "_zFGoPqiXCsD"
      }
    },
    {
      "cell_type": "code",
      "source": [
        "# Create a program that accepts a username and password.\n",
        "# If the username is \"admin\" and the password is \"12345\", print \"Access granted.\"\n",
        "# Otherwise, print \"Access denied.\"\n",
        "user_name = str(input('Enter your username: '))\n",
        "Password = int(input('Enter your password: '))\n",
        "if user_name == 'admin' and Password == '12345':\n",
        "    print('Access granted.')\n",
        "else:\n",
        "    print('Access denied.')\n"
      ],
      "metadata": {
        "colab": {
          "base_uri": "https://localhost:8080/"
        },
        "id": "y6qIvScbGBFS",
        "outputId": "6304936e-2126-4881-cb0d-9111773cbb58"
      },
      "execution_count": null,
      "outputs": [
        {
          "output_type": "stream",
          "name": "stdout",
          "text": [
            "Enter your username: admin\n",
            "Enter your password: 12345\n",
            "Access denied.\n"
          ]
        }
      ]
    },
    {
      "cell_type": "code",
      "source": [
        "# Prime Numbers Write a program to print all prime numbers between 1 and 100.\n",
        "print('Prime numbers from 1 to 100.')\n",
        "for num in range(2,101):\n",
        "  is_prime = True\n",
        "  for i in range(2, int(num**0.5)+1):\n",
        "    if num % i == 0:\n",
        "      is_prime = False\n",
        "      break\n",
        "  if is_prime:\n",
        "    print(num,end = ' ')"
      ],
      "metadata": {
        "id": "XUxxpNUtXRiu",
        "colab": {
          "base_uri": "https://localhost:8080/"
        },
        "outputId": "43e85e8c-374b-4ddb-ba0b-02139c58e657"
      },
      "execution_count": 2,
      "outputs": [
        {
          "output_type": "stream",
          "name": "stdout",
          "text": [
            "Prime numbers from 1 to 100.\n",
            "2 3 5 7 11 13 17 19 23 29 31 37 41 43 47 53 59 61 67 71 73 79 83 89 97 "
          ]
        }
      ]
    },
    {
      "cell_type": "code",
      "source": [],
      "metadata": {
        "id": "aWD3fydCr2go"
      },
      "execution_count": null,
      "outputs": []
    }
  ]
}