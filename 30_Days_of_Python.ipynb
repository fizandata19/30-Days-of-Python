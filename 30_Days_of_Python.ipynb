{
  "nbformat": 4,
  "nbformat_minor": 0,
  "metadata": {
    "colab": {
      "provenance": [],
      "authorship_tag": "ABX9TyP+4Lovf0hj9SAqlZunViyC",
      "include_colab_link": true
    },
    "kernelspec": {
      "name": "python3",
      "display_name": "Python 3"
    },
    "language_info": {
      "name": "python"
    }
  },
  "cells": [
    {
      "cell_type": "markdown",
      "metadata": {
        "id": "view-in-github",
        "colab_type": "text"
      },
      "source": [
        "<a href=\"https://colab.research.google.com/github/fizandata19/30-Days-of-Python/blob/main/30_Days_of_Python.ipynb\" target=\"_parent\"><img src=\"https://colab.research.google.com/assets/colab-badge.svg\" alt=\"Open In Colab\"/></a>"
      ]
    },
    {
      "cell_type": "markdown",
      "source": [
        "# Day 1  # Excercise Level 1"
      ],
      "metadata": {
        "id": "mmHPLHgXSHeG"
      }
    },
    {
      "cell_type": "code",
      "execution_count": null,
      "metadata": {
        "colab": {
          "base_uri": "https://localhost:8080/"
        },
        "id": "c1-fhLjURDia",
        "outputId": "59235c67-c670-48b7-a824-1061d40363b6"
      },
      "outputs": [
        {
          "output_type": "stream",
          "name": "stdout",
          "text": [
            "7\n",
            "-1\n",
            "12\n",
            "0.75\n",
            "81\n",
            "3\n",
            "0\n"
          ]
        }
      ],
      "source": [
        "# Open the python interactive shell and do the following operations. The operands are 3 and 4.\n",
        "# addition(+)\n",
        "# subtraction(-)\n",
        "# multiplication(*)\n",
        "# modulus(%)\n",
        "# division(/)\n",
        "# exponential(**)\n",
        "# floor division operator(//)\n",
        "print(3 + 4)\n",
        "print(3 - 4)\n",
        "print(3 * 4)\n",
        "print(3 / 4)\n",
        "print(3 ** 4)\n",
        "print(3 % 4)\n",
        "print(3 // 4)"
      ]
    },
    {
      "cell_type": "code",
      "source": [
        "# Write strings on the python interactive shell. The strings are the following:\n",
        "# Your name\n",
        "# Your family name\n",
        "# Your country\n",
        "# I am enjoying 30 days of python\n",
        "print(\"Fizan Latif\")\n",
        "print(\"Ansari\")\n",
        "print(\"Pakistan\")\n",
        "print(\"I am enjoying 30 days of python\")"
      ],
      "metadata": {
        "colab": {
          "base_uri": "https://localhost:8080/"
        },
        "id": "g03lbGgMRM6P",
        "outputId": "30e41c90-f811-4387-b711-4e7959b44a9d"
      },
      "execution_count": null,
      "outputs": [
        {
          "output_type": "stream",
          "name": "stdout",
          "text": [
            "Fizan Latif\n",
            "Ansari\n",
            "Pakistan\n",
            "I am enjoying 30 days of python\n"
          ]
        }
      ]
    },
    {
      "cell_type": "code",
      "source": [
        "# Check the data types of the following data:\n",
        "# 10\n",
        "# 9.8\n",
        "# 3.14\n",
        "# 4 - 4j\n",
        "# ['Asabeneh', 'Python', 'Finland']\n",
        "# Your name\n",
        "# Your family name\n",
        "# Your country\n",
        "print(type(10))\n",
        "print(type(9.8))\n",
        "print(type(3.14))\n",
        "print(type(4 - 4j))\n",
        "print(type(['Asabeneh', 'Python', 'Finland']))\n",
        "print(type(\"Fizan Latif\"))\n",
        "print(type(\"Ansari\"))\n",
        "print(type(\"Pakistan\"))"
      ],
      "metadata": {
        "colab": {
          "base_uri": "https://localhost:8080/"
        },
        "id": "O4I1kXDaS5Xh",
        "outputId": "87aa0af6-e699-41d0-968d-a0d5349548de"
      },
      "execution_count": null,
      "outputs": [
        {
          "output_type": "stream",
          "name": "stdout",
          "text": [
            "<class 'int'>\n",
            "<class 'float'>\n",
            "<class 'float'>\n",
            "<class 'complex'>\n",
            "<class 'list'>\n",
            "<class 'str'>\n",
            "<class 'str'>\n",
            "<class 'str'>\n"
          ]
        }
      ]
    },
    {
      "cell_type": "code",
      "source": [
        "# Write an example for different Python data types such as Number(Integer, Float, Complex), String, Boolean, List, Tuple, Set and Dictionary.\n",
        "print(5675757)\n",
        "print(3456.546)\n",
        "print(34 + 4j)\n",
        "print(\"StemEye\")\n",
        "print(12 < 2)\n",
        "print([12,35,\"fans\"])\n",
        "print(34,43,56,\"fans\")\n",
        "print({\"Name = Fizanlatif\"})\n",
        "print(type({\"Name = Fizanlatif\"}))\n",
        "print(type({\"Age\" : \"23\"}))"
      ],
      "metadata": {
        "colab": {
          "base_uri": "https://localhost:8080/"
        },
        "id": "1VnZRrZTVEoc",
        "outputId": "4b0c4788-8c56-4d79-c003-cfa6b8a38aa3"
      },
      "execution_count": null,
      "outputs": [
        {
          "output_type": "stream",
          "name": "stdout",
          "text": [
            "5675757\n",
            "3456.546\n",
            "(34+4j)\n",
            "StemEye\n",
            "False\n",
            "[12, 35, 'fans']\n",
            "34 43 56 fans\n",
            "{'Name = Fizanlatif'}\n",
            "<class 'set'>\n",
            "<class 'dict'>\n"
          ]
        }
      ]
    },
    {
      "cell_type": "code",
      "source": [
        "# Find an Euclidian distance between (2, 3) and (10, 8)\n"
      ],
      "metadata": {
        "id": "v3nPuQu7V_64"
      },
      "execution_count": null,
      "outputs": []
    },
    {
      "cell_type": "markdown",
      "source": [
        "Day 2 Excercise level 1"
      ],
      "metadata": {
        "id": "j0smDiTWYWfN"
      }
    },
    {
      "cell_type": "code",
      "source": [
        "# _abs_ Function\n",
        "print(abs(-23-12.576j))"
      ],
      "metadata": {
        "colab": {
          "base_uri": "https://localhost:8080/"
        },
        "id": "31ZXg1OoCCwH",
        "outputId": "e1922e10-3e52-44a1-fc27-455c7dfd7594"
      },
      "execution_count": null,
      "outputs": [
        {
          "output_type": "stream",
          "name": "stdout",
          "text": [
            "26.213656288278443\n"
          ]
        }
      ]
    },
    {
      "cell_type": "code",
      "source": [
        "# All Function\n",
        "int_list = [1,3,5,7,8]\n",
        "result = any(int_list)\n",
        "print(result)"
      ],
      "metadata": {
        "id": "nBoSWeiWCLAm",
        "colab": {
          "base_uri": "https://localhost:8080/"
        },
        "outputId": "5f9186a8-b5ac-4761-9b38-caf768301c1e"
      },
      "execution_count": null,
      "outputs": [
        {
          "output_type": "stream",
          "name": "stdout",
          "text": [
            "True\n"
          ]
        }
      ]
    },
    {
      "cell_type": "code",
      "source": [
        "def any(iterable):\n",
        "    for element in iterable:\n",
        "        if element:\n",
        "            return True\n",
        "    return False"
      ],
      "metadata": {
        "id": "Pmn9TjntE-i4"
      },
      "execution_count": null,
      "outputs": []
    },
    {
      "cell_type": "code",
      "source": [
        "int_list = ['a = 9','b = 6']\n",
        "result = any('3')\n",
        "print(result)"
      ],
      "metadata": {
        "id": "ECvY8Fd1Fqsn",
        "colab": {
          "base_uri": "https://localhost:8080/"
        },
        "outputId": "2c32dd70-84c3-49ff-ba07-208baa16f9a4"
      },
      "execution_count": null,
      "outputs": [
        {
          "output_type": "stream",
          "name": "stdout",
          "text": [
            "True\n"
          ]
        }
      ]
    },
    {
      "cell_type": "code",
      "source": [
        "format(4,'b')"
      ],
      "metadata": {
        "colab": {
          "base_uri": "https://localhost:8080/",
          "height": 36
        },
        "id": "pSI2eb9HrltX",
        "outputId": "2602d34d-b005-46ac-a834-a93d8f4f7038"
      },
      "execution_count": null,
      "outputs": [
        {
          "output_type": "execute_result",
          "data": {
            "text/plain": [
              "'100'"
            ],
            "application/vnd.google.colaboratory.intrinsic+json": {
              "type": "string"
            }
          },
          "metadata": {},
          "execution_count": 17
        }
      ]
    },
    {
      "cell_type": "code",
      "source": [
        "bin(-1245)"
      ],
      "metadata": {
        "colab": {
          "base_uri": "https://localhost:8080/",
          "height": 36
        },
        "id": "CROlXX79trW7",
        "outputId": "13e47b3e-59d5-4b6b-8b68-ad6f9ca16324"
      },
      "execution_count": null,
      "outputs": [
        {
          "output_type": "execute_result",
          "data": {
            "text/plain": [
              "'-0b10011011101'"
            ],
            "application/vnd.google.colaboratory.intrinsic+json": {
              "type": "string"
            }
          },
          "metadata": {},
          "execution_count": 18
        }
      ]
    },
    {
      "cell_type": "code",
      "source": [
        "# Write a python comment saying 'Day 2: 30 Days of python programming'\n"
      ],
      "metadata": {
        "id": "3SBQqjVSuwn-"
      },
      "execution_count": null,
      "outputs": []
    },
    {
      "cell_type": "code",
      "source": [
        "# Declare a first name variable and assign a value to it.\n",
        "first_name = 'Fizan'\n",
        "print(first_name)"
      ],
      "metadata": {
        "colab": {
          "base_uri": "https://localhost:8080/"
        },
        "id": "Hxo_qGM0Ob_B",
        "outputId": "2b457440-a1e3-49ef-e27a-34605dce30b8"
      },
      "execution_count": null,
      "outputs": [
        {
          "output_type": "stream",
          "name": "stdout",
          "text": [
            "Fizan\n"
          ]
        }
      ]
    },
    {
      "cell_type": "code",
      "source": [
        "# Declare a last name variable and assign a value to it.\n",
        "last_name = 'Latif'\n",
        "print(last_name)"
      ],
      "metadata": {
        "colab": {
          "base_uri": "https://localhost:8080/"
        },
        "id": "R7nTMmwyOs1j",
        "outputId": "20da78e3-b27f-4a36-cc65-7ec888fb9551"
      },
      "execution_count": null,
      "outputs": [
        {
          "output_type": "stream",
          "name": "stdout",
          "text": [
            "Latif\n"
          ]
        }
      ]
    },
    {
      "cell_type": "code",
      "source": [
        "# Declare a full name variable and assign a value to it.\n",
        "full_name = 'Fizan Latif'\n",
        "print(full_name)"
      ],
      "metadata": {
        "colab": {
          "base_uri": "https://localhost:8080/"
        },
        "id": "T8DV9kU6O0U6",
        "outputId": "841aef57-2679-4f44-b313-98b82c9124ed"
      },
      "execution_count": null,
      "outputs": [
        {
          "output_type": "stream",
          "name": "stdout",
          "text": [
            "Fizan Latif\n"
          ]
        }
      ]
    },
    {
      "cell_type": "code",
      "source": [
        "# Declare a country variable and assign a value to it.\n",
        "country = 'Pakistan'\n",
        "print(country)"
      ],
      "metadata": {
        "colab": {
          "base_uri": "https://localhost:8080/"
        },
        "id": "RKA3wAm7O936",
        "outputId": "6eae3209-8580-4f1b-90a0-f92e95d9f6be"
      },
      "execution_count": null,
      "outputs": [
        {
          "output_type": "stream",
          "name": "stdout",
          "text": [
            "Pakistan\n"
          ]
        }
      ]
    },
    {
      "cell_type": "code",
      "source": [
        "# Declare a city variable and assign a value to it.\n",
        "city = 'Bahawalpur'\n",
        "print(city)"
      ],
      "metadata": {
        "colab": {
          "base_uri": "https://localhost:8080/"
        },
        "id": "l_hhG1OBPmdi",
        "outputId": "a0080512-fae4-417a-e1fd-37a29e6ddbbe"
      },
      "execution_count": null,
      "outputs": [
        {
          "output_type": "stream",
          "name": "stdout",
          "text": [
            "Bahawalpur\n"
          ]
        }
      ]
    },
    {
      "cell_type": "code",
      "source": [
        "# Declare an age variable and assign a value to it.\n",
        "age = 19\n",
        "print(age)"
      ],
      "metadata": {
        "colab": {
          "base_uri": "https://localhost:8080/"
        },
        "id": "QZMSTyDtQXL5",
        "outputId": "bd95d778-8439-4d85-c59b-90850fbea249"
      },
      "execution_count": null,
      "outputs": [
        {
          "output_type": "stream",
          "name": "stdout",
          "text": [
            "19\n"
          ]
        }
      ]
    },
    {
      "cell_type": "code",
      "source": [
        "# Declare a year variable and assign a value to it.\n",
        "year = 2024\n",
        "print(year)"
      ],
      "metadata": {
        "colab": {
          "base_uri": "https://localhost:8080/"
        },
        "id": "fWFNvkTlQhT4",
        "outputId": "e6b582f2-c6ce-4731-c7b3-71bd89323fe9"
      },
      "execution_count": null,
      "outputs": [
        {
          "output_type": "stream",
          "name": "stdout",
          "text": [
            "2024\n"
          ]
        }
      ]
    },
    {
      "cell_type": "code",
      "source": [
        "# Declare a variable is_married and assign a value to it.\n",
        "is_married = False\n",
        "print(is_married)"
      ],
      "metadata": {
        "colab": {
          "base_uri": "https://localhost:8080/"
        },
        "id": "SgCC03zAQngY",
        "outputId": "35d243de-c602-4c6f-cf1d-8d1475c2c69e"
      },
      "execution_count": null,
      "outputs": [
        {
          "output_type": "stream",
          "name": "stdout",
          "text": [
            "False\n"
          ]
        }
      ]
    },
    {
      "cell_type": "code",
      "source": [
        "# Declare a variable is_true and assign a value to it.\n",
        "is_true = True\n",
        "print(is_true)"
      ],
      "metadata": {
        "colab": {
          "base_uri": "https://localhost:8080/"
        },
        "id": "dq_WW8WAQ-9P",
        "outputId": "2be71bc9-f36a-44ed-ad3d-95d15260c56a"
      },
      "execution_count": null,
      "outputs": [
        {
          "output_type": "stream",
          "name": "stdout",
          "text": [
            "True\n"
          ]
        }
      ]
    },
    {
      "cell_type": "code",
      "source": [
        "# Declare a variable is_light_on and assign a value to it.\n",
        "is_light_on = True\n",
        "print(is_light_on)"
      ],
      "metadata": {
        "colab": {
          "base_uri": "https://localhost:8080/"
        },
        "id": "vE1d8Iy7Rxju",
        "outputId": "4b2f5c5f-5725-460a-b254-16730caa780a"
      },
      "execution_count": null,
      "outputs": [
        {
          "output_type": "stream",
          "name": "stdout",
          "text": [
            "True\n"
          ]
        }
      ]
    },
    {
      "cell_type": "code",
      "source": [
        "# Declare multiple variable on one line.\n",
        "first_name, last_name, full_name = 'Fizan', 'Latif', 'Fizan Latif'\n",
        "print(first_name, last_name, full_name)"
      ],
      "metadata": {
        "colab": {
          "base_uri": "https://localhost:8080/"
        },
        "id": "RkKiFBDSSEjt",
        "outputId": "a31381eb-0edf-4385-d3cf-2e50dd27f7f4"
      },
      "execution_count": null,
      "outputs": [
        {
          "output_type": "stream",
          "name": "stdout",
          "text": [
            "Fizan Latif Fizan Latif\n"
          ]
        }
      ]
    },
    {
      "cell_type": "markdown",
      "source": [
        "Day-1\n",
        "Excercise 1"
      ],
      "metadata": {
        "id": "F38w1xJzTM_c"
      }
    },
    {
      "cell_type": "code",
      "source": [
        "# Check the data type of all your variables using type() built-in function.\n",
        "name = 'Fizan'\n",
        "print(type(name))\n",
        "num = 1 + 23j\n",
        "print(type(num))"
      ],
      "metadata": {
        "colab": {
          "base_uri": "https://localhost:8080/"
        },
        "id": "dZeHvwaDSyO1",
        "outputId": "e5ccf22b-a547-4c14-ffef-87693819de14"
      },
      "execution_count": null,
      "outputs": [
        {
          "output_type": "stream",
          "name": "stdout",
          "text": [
            "<class 'str'>\n",
            "<class 'complex'>\n"
          ]
        }
      ]
    },
    {
      "cell_type": "code",
      "source": [
        "# Using the len() built-in function, find the length of your first name.\n",
        "first_name = 'Fizan'\n",
        "print(len(first_name))"
      ],
      "metadata": {
        "colab": {
          "base_uri": "https://localhost:8080/"
        },
        "id": "Yw_pSjhbT8lB",
        "outputId": "0b08555d-8750-4d6b-d135-2adb26cf25bf"
      },
      "execution_count": null,
      "outputs": [
        {
          "output_type": "stream",
          "name": "stdout",
          "text": [
            "5\n"
          ]
        }
      ]
    },
    {
      "cell_type": "code",
      "source": [
        "# Compare the length of your first name and your last name.\n",
        "first_name = 'Fizan'\n",
        "last_name = 'Latif'\n",
        "print(len(first_name) > len(last_name))"
      ],
      "metadata": {
        "colab": {
          "base_uri": "https://localhost:8080/"
        },
        "id": "1ySpgW-DUciZ",
        "outputId": "00e70dd9-6f04-41b3-e558-ee9a99d737a4"
      },
      "execution_count": null,
      "outputs": [
        {
          "output_type": "stream",
          "name": "stdout",
          "text": [
            "False\n"
          ]
        }
      ]
    },
    {
      "cell_type": "code",
      "source": [
        "# Declare 5 as num_one and 4 as num_two\n",
        "# Add num_one and num_two and assign the value to a variable total\n",
        "num_one = 5\n",
        "num_two = 4\n",
        "total = num_one + num_two\n",
        "print(total)"
      ],
      "metadata": {
        "colab": {
          "base_uri": "https://localhost:8080/"
        },
        "id": "S01LyJkKXJKB",
        "outputId": "29cd062e-3215-4a49-a7c8-3894cdf0464d"
      },
      "execution_count": null,
      "outputs": [
        {
          "output_type": "stream",
          "name": "stdout",
          "text": [
            "9\n"
          ]
        }
      ]
    },
    {
      "cell_type": "code",
      "source": [
        "# Subtract num_two from num_one and assign the value to a variable diff\n",
        "num_two = 4\n",
        "num_one = 5\n",
        "diff = num_two - num_one\n",
        "print(diff)"
      ],
      "metadata": {
        "colab": {
          "base_uri": "https://localhost:8080/"
        },
        "id": "ZOppe7FfaqIG",
        "outputId": "e25bb32d-5e3a-4d2c-e3a7-3ef95a97af53"
      },
      "execution_count": null,
      "outputs": [
        {
          "output_type": "stream",
          "name": "stdout",
          "text": [
            "-1\n"
          ]
        }
      ]
    },
    {
      "cell_type": "code",
      "source": [
        "# Multiply num_two and num_one and assign the value to a variable product\n",
        "num_two = 4\n",
        "num_one = 5\n",
        "product = num_two * num_one\n",
        "print(product)"
      ],
      "metadata": {
        "colab": {
          "base_uri": "https://localhost:8080/"
        },
        "id": "cYRsT7PibBxN",
        "outputId": "cb305560-868f-4d57-9d96-03ed2a30fb48"
      },
      "execution_count": null,
      "outputs": [
        {
          "output_type": "stream",
          "name": "stdout",
          "text": [
            "20\n"
          ]
        }
      ]
    },
    {
      "cell_type": "code",
      "source": [
        "# Divide num_one by num_two and assign the value to a variable division\n",
        "num_one = 5\n",
        "num_two\n",
        "division = num_one/num_two\n",
        "print(division)"
      ],
      "metadata": {
        "colab": {
          "base_uri": "https://localhost:8080/"
        },
        "id": "FjUzWZaAdEiC",
        "outputId": "7472de7e-6898-44ea-988b-819acff11ad8"
      },
      "execution_count": null,
      "outputs": [
        {
          "output_type": "stream",
          "name": "stdout",
          "text": [
            "1.25\n"
          ]
        }
      ]
    },
    {
      "cell_type": "code",
      "source": [
        "# Use modulus division to find num_two divided by num_one and assign the value to a variable remainder\n",
        "num_one = 5\n",
        "num_two = 4\n",
        "remainder = num_two % num_one\n",
        "print(remainder)"
      ],
      "metadata": {
        "colab": {
          "base_uri": "https://localhost:8080/"
        },
        "id": "_YLE4HJudZDi",
        "outputId": "c040c1d0-267d-4c6b-d013-7f770d4c0aa8"
      },
      "execution_count": null,
      "outputs": [
        {
          "output_type": "stream",
          "name": "stdout",
          "text": [
            "4\n"
          ]
        }
      ]
    },
    {
      "cell_type": "code",
      "source": [
        "# Calculate num_one to the power of num_two and assign the value to a variable exp\n",
        "num_one = 5\n",
        "num_two = 4\n",
        "exp = num_one ** num_two\n",
        "print(exp)"
      ],
      "metadata": {
        "colab": {
          "base_uri": "https://localhost:8080/"
        },
        "id": "CwrVjx5seFio",
        "outputId": "21c7e5a7-fe02-4a57-dac7-68cfa7d093f6"
      },
      "execution_count": null,
      "outputs": [
        {
          "output_type": "stream",
          "name": "stdout",
          "text": [
            "625\n"
          ]
        }
      ]
    },
    {
      "cell_type": "code",
      "source": [
        "# Find floor division of num_one by num_two and assign the value to a variable floor_division\n",
        "num_one = 5\n",
        "num_two = 4\n",
        "floor_division = num_one // num_two\n",
        "print(floor_division)"
      ],
      "metadata": {
        "colab": {
          "base_uri": "https://localhost:8080/"
        },
        "id": "dwcfErrZexZf",
        "outputId": "1bab97b5-f7c6-4228-d095-464422f638f4"
      },
      "execution_count": null,
      "outputs": [
        {
          "output_type": "stream",
          "name": "stdout",
          "text": [
            "1\n"
          ]
        }
      ]
    },
    {
      "cell_type": "code",
      "source": [
        "# The radius of a circle is 30 meters.\n",
        "# Calculate the area of a circle and assign the value to a variable name of area_of_circle\n",
        "raduis = 30\n",
        "area_of_circle = 3.14 * raduis**2\n",
        "print(area_of_circle)"
      ],
      "metadata": {
        "colab": {
          "base_uri": "https://localhost:8080/"
        },
        "id": "Y5ZQeq4wfQje",
        "outputId": "45a4c153-e091-4ff5-ff13-13fb2744a64f"
      },
      "execution_count": null,
      "outputs": [
        {
          "output_type": "stream",
          "name": "stdout",
          "text": [
            "2826.0\n"
          ]
        }
      ]
    },
    {
      "cell_type": "code",
      "source": [
        "# Calculate the circumference of a circle and assign the value to a variable name of circum_of_circle\n",
        "raduis = 30\n",
        "circum_of_circle = 2 * 3.14 * raduis\n",
        "print(circum_of_circle)"
      ],
      "metadata": {
        "colab": {
          "base_uri": "https://localhost:8080/"
        },
        "id": "Zqk-tQwh5q6I",
        "outputId": "16870353-ac1b-42ad-a69d-1900359c21ca"
      },
      "execution_count": null,
      "outputs": [
        {
          "output_type": "stream",
          "name": "stdout",
          "text": [
            "188.4\n"
          ]
        }
      ]
    },
    {
      "cell_type": "code",
      "source": [
        "# Take radius as user input and calculate the area.\n",
        "user_input = int(input(\"Enter the raduis: \"))\n",
        "area_of_circle = 3.14 * user_input*2\n",
        "print(area_of_circle)"
      ],
      "metadata": {
        "colab": {
          "base_uri": "https://localhost:8080/"
        },
        "id": "rH1qthS77A_G",
        "outputId": "32e1f52c-0762-441f-a20f-3d94f696e8e6"
      },
      "execution_count": null,
      "outputs": [
        {
          "output_type": "stream",
          "name": "stdout",
          "text": [
            "Enter the raduis: 46\n",
            "288.88\n"
          ]
        }
      ]
    },
    {
      "cell_type": "code",
      "source": [
        "# Use the built-in input function to get first name, last name, country and age from a user and store the value to their corresponding variable names\n",
        "first_name = input(\"Enter your first name: \")\n",
        "last_name = input(\"Enter your last name: \")\n",
        "country = input(\"Enter your country: \")\n",
        "age = int(input(\"Enter your age: \"))"
      ],
      "metadata": {
        "colab": {
          "base_uri": "https://localhost:8080/"
        },
        "id": "5tG7Zose8J7E",
        "outputId": "7294fc6a-e121-4788-fbcc-0b78853be95b"
      },
      "execution_count": null,
      "outputs": [
        {
          "name": "stdout",
          "output_type": "stream",
          "text": [
            "Enter your first name: Fizan\n",
            "Enter your last name: Latif\n",
            "Enter your country: Pakistan\n",
            "Enter your age: 19\n"
          ]
        }
      ]
    },
    {
      "cell_type": "code",
      "source": [
        "# Run help('keywords') in Python shell or in your file to check for the Python reserved words or keywords\n",
        "help('keywords')"
      ],
      "metadata": {
        "colab": {
          "base_uri": "https://localhost:8080/"
        },
        "id": "6Kgb466tBbiX",
        "outputId": "25e31b60-7a0b-4ea0-c374-63239ece34d8"
      },
      "execution_count": null,
      "outputs": [
        {
          "output_type": "stream",
          "name": "stdout",
          "text": [
            "\n",
            "Here is a list of the Python keywords.  Enter any keyword to get more help.\n",
            "\n",
            "False               class               from                or\n",
            "None                continue            global              pass\n",
            "True                def                 if                  raise\n",
            "and                 del                 import              return\n",
            "as                  elif                in                  try\n",
            "assert              else                is                  while\n",
            "async               except              lambda              with\n",
            "await               finally             nonlocal            yield\n",
            "break               for                 not                 \n",
            "\n"
          ]
        }
      ]
    },
    {
      "cell_type": "code",
      "source": [],
      "metadata": {
        "colab": {
          "base_uri": "https://localhost:8080/"
        },
        "id": "Q-3dVVZwtGDN",
        "outputId": "4678977a-27b1-476b-d11d-0397f30dee2d"
      },
      "execution_count": null,
      "outputs": [
        {
          "output_type": "execute_result",
          "data": {
            "text/plain": [
              "False"
            ]
          },
          "metadata": {},
          "execution_count": 58
        }
      ]
    },
    {
      "cell_type": "markdown",
      "source": [
        "Day 3"
      ],
      "metadata": {
        "id": "MgS9iVOv0-Kc"
      }
    },
    {
      "cell_type": "code",
      "source": [
        "x = 3\n",
        "x <<= 3\n",
        "print(x)"
      ],
      "metadata": {
        "id": "z-bDZekrtlZl",
        "colab": {
          "base_uri": "https://localhost:8080/"
        },
        "outputId": "a1a2d7bb-0f4b-4b5c-f641-2c996d8db49c"
      },
      "execution_count": null,
      "outputs": [
        {
          "output_type": "stream",
          "name": "stdout",
          "text": [
            "24\n"
          ]
        }
      ]
    },
    {
      "cell_type": "code",
      "source": [
        "# Declare your age as integer variable\n",
        "Age = 19"
      ],
      "metadata": {
        "id": "YYPGY5J73dD0"
      },
      "execution_count": null,
      "outputs": []
    },
    {
      "cell_type": "code",
      "source": [
        "# Declare your height as a float variable\n",
        "Height = 5.7"
      ],
      "metadata": {
        "id": "I1WEHruS_x2P"
      },
      "execution_count": null,
      "outputs": []
    },
    {
      "cell_type": "code",
      "source": [
        "# Declare a variable that store a complex number\n",
        "unknown_num = 3 + 5j"
      ],
      "metadata": {
        "id": "Kedu_JnwABxW"
      },
      "execution_count": null,
      "outputs": []
    },
    {
      "cell_type": "code",
      "source": [
        "# Write a script that prompts the user to enter base and height of the triangle and calculate an area of this triangle (area = 0.5 x b x h)\n",
        "Base_value = float(input(\"Enter the base value: \"))\n",
        "Height_value = float(input(\"Enter the height value: \"))\n",
        "area_of_circle = 0.5 * Base_value * Height_value\n",
        "print(area_of_circle)"
      ],
      "metadata": {
        "colab": {
          "base_uri": "https://localhost:8080/"
        },
        "id": "oN9qSYXvAMyf",
        "outputId": "c6285e41-3172-4c21-8c36-59247e4524e5"
      },
      "execution_count": null,
      "outputs": [
        {
          "output_type": "stream",
          "name": "stdout",
          "text": [
            "Enter the base value: 20\n",
            "Enter the height value: 10\n",
            "100.0\n"
          ]
        }
      ]
    },
    {
      "cell_type": "code",
      "source": [
        "# Write a script that prompts the user to enter side a, side b, and side c of the triangle. Calculate the perimeter of the triangle (perimeter = a + b + c).\n",
        "side_a_value = input(\"Enter the side a value: \")\n",
        "side_b_value = input(\"Enter the side b value: \")\n",
        "side_c_value = input(\"Enter the side c value: \")\n",
        "perimeter_of_triangle = int(side_a_value) + int(side_b_value) + int(side_c_value)\n",
        "print(perimeter_of_triangle)"
      ],
      "metadata": {
        "colab": {
          "base_uri": "https://localhost:8080/"
        },
        "id": "4Z-iS5aXDpAQ",
        "outputId": "2da5e927-f683-4e62-b125-aa38728665d7"
      },
      "execution_count": null,
      "outputs": [
        {
          "output_type": "stream",
          "name": "stdout",
          "text": [
            "Enter the side a value: 324\n",
            "Enter the side b value: 34\n",
            "Enter the side c value: 58\n",
            "416\n"
          ]
        }
      ]
    },
    {
      "cell_type": "code",
      "source": [
        "# Get length and width of a rectangle using prompt. Calculate its area (area = length x width) and perimeter (perimeter = 2 x (length + width))\n",
        "length_of_rectangle = int(input(\"Enter the length of rectangle: \"))\n",
        "width_of_rectangle = int(input(\"Enter the width of rectangle: \"))\n",
        "area_of_rectangle = length_of_rectangle * width_of_rectangle\n",
        "perimeter_of_triangle = 2 * (length_of_rectangle + width_of_rectangle)\n",
        "print(area_of_rectangle)\n",
        "print(perimeter_of_triangle)"
      ],
      "metadata": {
        "colab": {
          "base_uri": "https://localhost:8080/"
        },
        "id": "3ybF8yzGGAZO",
        "outputId": "38b416e7-d00b-4783-ba7c-db3690406e03"
      },
      "execution_count": null,
      "outputs": [
        {
          "output_type": "stream",
          "name": "stdout",
          "text": [
            "Enter the length of rectangle: 23\n",
            "Enter the width of rectangle: 4\n",
            "92\n",
            "54\n"
          ]
        }
      ]
    },
    {
      "cell_type": "code",
      "source": [
        "# Get radius of a circle using prompt. Calculate the area (area = pi x r x r) and circumference (c = 2 x pi x r) where pi = 3.14.\n",
        "radius_of_circle = float(input(\"Enter the radius of cirlce: \"))\n",
        "area_of_circle = 3.14 * radius_of_circle * radius_of_circle\n",
        "circumference_of_circle = 2 * 3.14 * radius_of_circle\n",
        "print(area_of_circle)\n",
        "print(circumference_of_circle)"
      ],
      "metadata": {
        "colab": {
          "base_uri": "https://localhost:8080/"
        },
        "id": "4pcKiQfyLdEy",
        "outputId": "1dc12420-b614-494e-f859-09f451116b03"
      },
      "execution_count": null,
      "outputs": [
        {
          "output_type": "stream",
          "name": "stdout",
          "text": [
            "Enter the radius of cirlce: 57\n",
            "10201.86\n",
            "357.96000000000004\n"
          ]
        }
      ]
    },
    {
      "cell_type": "code",
      "source": [
        "# Calculate the slope, x-intercept and y-intercept of y = 2x -2"
      ],
      "metadata": {
        "id": "EqGJhlfGNZVH"
      },
      "execution_count": null,
      "outputs": []
    },
    {
      "cell_type": "code",
      "source": [
        "# Check if int('9.8') is equal to 10\n",
        "print(int(9.8) == 10)"
      ],
      "metadata": {
        "id": "VdsaxkJCTU_F",
        "colab": {
          "base_uri": "https://localhost:8080/"
        },
        "outputId": "e081ff31-a19f-4d8b-8823-c51237274504"
      },
      "execution_count": null,
      "outputs": [
        {
          "output_type": "stream",
          "name": "stdout",
          "text": [
            "False\n"
          ]
        }
      ]
    },
    {
      "cell_type": "code",
      "source": [
        "# Check if type of '10' is equal to type of 10\n",
        "print(type('10') == type(10))"
      ],
      "metadata": {
        "colab": {
          "base_uri": "https://localhost:8080/"
        },
        "id": "HV9nH3qHGiw8",
        "outputId": "90712358-944a-4801-feb8-33ce89110b12"
      },
      "execution_count": null,
      "outputs": [
        {
          "output_type": "stream",
          "name": "stdout",
          "text": [
            "False\n"
          ]
        }
      ]
    },
    {
      "cell_type": "code",
      "source": [
        "# Check if the floor division of 7 by 3 is equal to the int converted value of 2.7.\n",
        "print(7 // 3 == int(2.7))"
      ],
      "metadata": {
        "colab": {
          "base_uri": "https://localhost:8080/"
        },
        "id": "vANnxBRYGwoa",
        "outputId": "f036b8a6-6dee-4f36-d663-70f2f0a13b0e"
      },
      "execution_count": null,
      "outputs": [
        {
          "output_type": "stream",
          "name": "stdout",
          "text": [
            "True\n"
          ]
        }
      ]
    },
    {
      "cell_type": "code",
      "source": [
        "# Even numbers are divisible by 2 and the remainder is zero. How do you check if a number is even or not using python?\n",
        "print(2 % 2 == 0)"
      ],
      "metadata": {
        "colab": {
          "base_uri": "https://localhost:8080/"
        },
        "id": "0z_5jCPdL0uo",
        "outputId": "ffc3480f-0e93-4c9a-965c-037f18278b22"
      },
      "execution_count": null,
      "outputs": [
        {
          "output_type": "stream",
          "name": "stdout",
          "text": [
            "True\n"
          ]
        }
      ]
    },
    {
      "cell_type": "code",
      "source": [
        "# Find the length of the text python and convert the value to float and convert it to string\n",
        "print(len('Python'))\n",
        "print(float(len('Python')))\n",
        "print(str('Python'))"
      ],
      "metadata": {
        "colab": {
          "base_uri": "https://localhost:8080/"
        },
        "id": "PzWj1mPvMQTQ",
        "outputId": "4c69bb72-19f9-4f5b-e583-ba7b2b3f6d18"
      },
      "execution_count": null,
      "outputs": [
        {
          "output_type": "stream",
          "name": "stdout",
          "text": [
            "6\n",
            "6.0\n",
            "Python\n"
          ]
        }
      ]
    },
    {
      "cell_type": "code",
      "source": [
        "# Find the length of 'python' and 'dragon' and make a falsy comparison statement.\n",
        "print(len('Python')) == (len('Dragon'))"
      ],
      "metadata": {
        "id": "k3x4yt9dQgZx",
        "colab": {
          "base_uri": "https://localhost:8080/"
        },
        "outputId": "f4a0abdd-7a71-441d-875a-b3ba76cddf6b"
      },
      "execution_count": null,
      "outputs": [
        {
          "output_type": "stream",
          "name": "stdout",
          "text": [
            "6\n"
          ]
        },
        {
          "output_type": "execute_result",
          "data": {
            "text/plain": [
              "False"
            ]
          },
          "metadata": {},
          "execution_count": 7
        }
      ]
    },
    {
      "cell_type": "code",
      "source": [
        "# Use and operator to check if 'on' is found in both 'python' and 'dragon'.\n",
        "print(('on' in 'python' and 'on' in 'dragon'))"
      ],
      "metadata": {
        "colab": {
          "base_uri": "https://localhost:8080/"
        },
        "id": "vCbSxZSMMzO_",
        "outputId": "ed7cf118-132d-4e2b-c7ac-02fe57e37b02"
      },
      "execution_count": null,
      "outputs": [
        {
          "output_type": "stream",
          "name": "stdout",
          "text": [
            "True\n"
          ]
        }
      ]
    },
    {
      "cell_type": "code",
      "source": [
        "# I hope this course is not full of jargon. Use in operator to check if jargon is in the sentence.\n",
        "print('jargon' in 'I hope this course is not full of jargon')"
      ],
      "metadata": {
        "colab": {
          "base_uri": "https://localhost:8080/"
        },
        "id": "IRUIfprjNfcY",
        "outputId": "63cccae6-c279-434c-fcc3-7fc344f223d4"
      },
      "execution_count": null,
      "outputs": [
        {
          "output_type": "stream",
          "name": "stdout",
          "text": [
            "True\n"
          ]
        }
      ]
    },
    {
      "cell_type": "code",
      "source": [
        "# There is no 'on' in both dragon and python.\n",
        "print('on' not in 'dragon' and 'on' not in 'python')"
      ],
      "metadata": {
        "colab": {
          "base_uri": "https://localhost:8080/"
        },
        "id": "qIr8tnx_PbqN",
        "outputId": "ccf76fb8-78e7-4f74-8f29-124204ae6102"
      },
      "execution_count": null,
      "outputs": [
        {
          "output_type": "stream",
          "name": "stdout",
          "text": [
            "False\n"
          ]
        }
      ]
    },
    {
      "cell_type": "code",
      "source": [
        "# Find the length of the text python and convert the value to float and convert it to string\n",
        "print(len('python'))\n",
        "print(float(len('python')))\n",
        "print(str('python'))"
      ],
      "metadata": {
        "colab": {
          "base_uri": "https://localhost:8080/"
        },
        "id": "dm4z4_GLSCam",
        "outputId": "8fd7c9fc-f014-4cac-c6c2-c26249259f1d"
      },
      "execution_count": null,
      "outputs": [
        {
          "output_type": "stream",
          "name": "stdout",
          "text": [
            "6\n",
            "6.0\n",
            "python\n"
          ]
        }
      ]
    },
    {
      "cell_type": "code",
      "source": [
        "# Even numbers are divisible by 2 and the remainder is zero. How do you check if a number is even or not using python?\n",
        "print(2 % 2 == 0)"
      ],
      "metadata": {
        "colab": {
          "base_uri": "https://localhost:8080/"
        },
        "id": "zoyf0NdCSbGf",
        "outputId": "a2213853-a016-430b-eea0-1a345909edb7"
      },
      "execution_count": null,
      "outputs": [
        {
          "output_type": "stream",
          "name": "stdout",
          "text": [
            "True\n"
          ]
        }
      ]
    },
    {
      "cell_type": "code",
      "source": [
        "# Check if the floor division of 7 by 3 is equal to the int converted value of 2.7.\n",
        "print(7 // 3 == int(2.7))"
      ],
      "metadata": {
        "colab": {
          "base_uri": "https://localhost:8080/"
        },
        "id": "lF-Ld_NiSznA",
        "outputId": "86500816-476b-4891-edc8-1902b5778bd6"
      },
      "execution_count": null,
      "outputs": [
        {
          "output_type": "stream",
          "name": "stdout",
          "text": [
            "True\n"
          ]
        }
      ]
    },
    {
      "cell_type": "code",
      "source": [
        "# Check if type of '10' is equal to type of 10\n",
        "print(type('10') == type(10))"
      ],
      "metadata": {
        "colab": {
          "base_uri": "https://localhost:8080/"
        },
        "id": "oXeiJGLMW-Fb",
        "outputId": "b09e8657-4766-4071-f019-a978f37b13c4"
      },
      "execution_count": null,
      "outputs": [
        {
          "output_type": "stream",
          "name": "stdout",
          "text": [
            "False\n"
          ]
        }
      ]
    },
    {
      "cell_type": "code",
      "source": [
        "# Check if int('9.8') is equal to 10\n",
        "print(int(9.8) == 10)"
      ],
      "metadata": {
        "colab": {
          "base_uri": "https://localhost:8080/"
        },
        "id": "Hd8ahSJVXRjT",
        "outputId": "8f44d126-5c6a-430f-e57b-53529a183a01"
      },
      "execution_count": null,
      "outputs": [
        {
          "output_type": "stream",
          "name": "stdout",
          "text": [
            "False\n"
          ]
        }
      ]
    },
    {
      "cell_type": "code",
      "source": [
        "# Writ a script that prompts the user to enter hours and rate per hour. Calculate pay of the person?\n",
        "Hours = int(input('Enter hours: '))\n",
        "Rate_Per_Hour = int(input('Enter rate per hour: '))\n",
        "pay_per_person = Hours * Rate_Per_Hour\n",
        "print(pay_per_person)\n",
        "Weekly_pay = pay_per_person * 7\n",
        "print(Weekly_pay)"
      ],
      "metadata": {
        "colab": {
          "base_uri": "https://localhost:8080/"
        },
        "id": "fFlk9317XpBU",
        "outputId": "fb96283f-9baa-499d-c876-296602615f24"
      },
      "execution_count": null,
      "outputs": [
        {
          "output_type": "stream",
          "name": "stdout",
          "text": [
            "Enter hours: 8\n",
            "Enter rate per hour: 100\n",
            "800\n",
            "5600\n"
          ]
        }
      ]
    },
    {
      "cell_type": "code",
      "source": [
        "# Write a script that prompts the user to enter number of years. Calculate the number of seconds a person can live. Assume a person can live hundred years\n",
        "number_of_years = int(input('Enter number of years: '))\n",
        "number_of_second = number_of_years * 31536000\n",
        "print(number_of_second)"
      ],
      "metadata": {
        "colab": {
          "base_uri": "https://localhost:8080/"
        },
        "id": "cBK5PH3QYdGG",
        "outputId": "950cca3c-77de-4095-f5d3-27b7bec56cd9"
      },
      "execution_count": null,
      "outputs": [
        {
          "output_type": "stream",
          "name": "stdout",
          "text": [
            "Enter number of years: 100\n",
            "3153600000\n"
          ]
        }
      ]
    },
    {
      "cell_type": "code",
      "source": [
        "# Write a Python script that displays the following table\n",
        "print('1 1 1 1 1\\n2 1 2 4 8\\n3 1 3 9 27\\n4 1 4 16 64\\n5 1 5 25 125')"
      ],
      "metadata": {
        "colab": {
          "base_uri": "https://localhost:8080/"
        },
        "id": "k7sT-gRLaRBp",
        "outputId": "c4e7e792-b948-47c9-ad6f-a6437e8a7912"
      },
      "execution_count": null,
      "outputs": [
        {
          "output_type": "stream",
          "name": "stdout",
          "text": [
            "1 1 1 1 1\n",
            "2 1 2 4 8\n",
            "3 1 3 9 27\n",
            "4 1 4 16 64\n",
            "5 1 5 25 125\n"
          ]
        }
      ]
    },
    {
      "cell_type": "code",
      "source": [
        "# Calculate the slope, x-intercept and y-intercept of y = 2x -2\n",
        "print(\"y = 2x - 2 '2' is slope\")\n",
        "print('x-intercept = 0')\n",
        "print('y-intercept = -2')"
      ],
      "metadata": {
        "colab": {
          "base_uri": "https://localhost:8080/"
        },
        "id": "5oApYkAzdLbq",
        "outputId": "dad594da-923e-4379-b72f-6787241f8eca"
      },
      "execution_count": null,
      "outputs": [
        {
          "output_type": "stream",
          "name": "stdout",
          "text": [
            "y = 2x - 2 '2' is slope\n",
            "x-intercept = 0\n",
            "y-intercept = -2\n"
          ]
        }
      ]
    },
    {
      "cell_type": "code",
      "source": [
        "# y = 2x - 2\n",
        "m = 2\n",
        "b = -2\n",
        "y_intercept = -2\n",
        "print(f'y = {m}x + {b}')"
      ],
      "metadata": {
        "colab": {
          "base_uri": "https://localhost:8080/"
        },
        "id": "vGC75me1fI6_",
        "outputId": "af92a662-6398-4681-c05f-1557d30dc0f1"
      },
      "execution_count": null,
      "outputs": [
        {
          "output_type": "stream",
          "name": "stdout",
          "text": [
            "y = 2x + -2\n"
          ]
        }
      ]
    },
    {
      "cell_type": "code",
      "source": [
        "# Calculate the slope, x-intercept and y-intercept of y = 2x -2\n",
        "m = 2\n",
        "b = -2\n",
        "    #  0 = 2x - 2\n",
        "    # x = 1\n",
        "x_intercept = (1,0)\n",
        "    #  y = 2(0) - 2\n",
        "    #  y = -2\n",
        "y_intercept = (-2,0)\n",
        "print(f'y = {m}x + {b}')"
      ],
      "metadata": {
        "id": "4NGZ-rqiuQG5",
        "colab": {
          "base_uri": "https://localhost:8080/"
        },
        "outputId": "0d3528ce-f043-4d00-eed1-8cd886969cc1"
      },
      "execution_count": null,
      "outputs": [
        {
          "output_type": "stream",
          "name": "stdout",
          "text": [
            "y = 2x + -2\n"
          ]
        }
      ]
    },
    {
      "cell_type": "code",
      "source": [
        "# Slope is (m = y2-y1/x2-x1). Find the slope and Euclidean distance between point (2, 2) and point (6,10)\n",
        "m = (10 - 2)/(6 - 2)\n",
        "# d = (x2 - x1)**2 + (y2 - y1)**2\n",
        "d = (6 - 2)**2 + (10 - 2)**2\n",
        "print(d,m)"
      ],
      "metadata": {
        "colab": {
          "base_uri": "https://localhost:8080/"
        },
        "id": "9uuW1Cbrn7HP",
        "outputId": "4758f547-3628-4951-f8ba-1d3c293b1682"
      },
      "execution_count": null,
      "outputs": [
        {
          "output_type": "stream",
          "name": "stdout",
          "text": [
            "80 2.0\n"
          ]
        }
      ]
    },
    {
      "cell_type": "code",
      "source": [
        "# Compare the slopes in tasks 8 and 9.\n"
      ],
      "metadata": {
        "id": "ejOZtQDrto4N"
      },
      "execution_count": null,
      "outputs": []
    },
    {
      "cell_type": "code",
      "source": [
        "# Calculate the value of y (y = x^2 + 6x + 9). Try to use different x values and figure out at what x value y is going to be 0.\n",
        "x = 0\n",
        "y = x**2 + 6*x + 9\n",
        "print(y)"
      ],
      "metadata": {
        "colab": {
          "base_uri": "https://localhost:8080/"
        },
        "id": "ytBiQ1F81xxk",
        "outputId": "c44e0725-2dda-42db-e602-e0714cff3544"
      },
      "execution_count": null,
      "outputs": [
        {
          "output_type": "stream",
          "name": "stdout",
          "text": [
            "9\n"
          ]
        }
      ]
    },
    {
      "cell_type": "markdown",
      "source": [
        "Day-3 Excercise\n",
        "\n",
        "\n",
        "STRING"
      ],
      "metadata": {
        "id": "VBdjEPMRTZAv"
      }
    },
    {
      "cell_type": "code",
      "source": [
        "# Concatenate the string 'Thirty', 'Days', 'Of', 'Python' to a single string, 'Thirty Days Of Python'.\n",
        "print('Thirty' + ' ' + 'Days' + ' ' + 'Of'+ ' ' + 'Python')"
      ],
      "metadata": {
        "id": "e5qWKBZY7Fai",
        "colab": {
          "base_uri": "https://localhost:8080/"
        },
        "outputId": "72d814bf-1a27-4e85-bc65-4fcdf78130aa"
      },
      "execution_count": null,
      "outputs": [
        {
          "output_type": "stream",
          "name": "stdout",
          "text": [
            "Thirty Days Of Python\n"
          ]
        }
      ]
    },
    {
      "cell_type": "code",
      "source": [
        "# Concatenate the string 'Coding', 'For' , 'All' to a single string, 'Coding For All'.\n",
        "print('Coding'+ ' ' + 'For' + ' ' + 'All')\n"
      ],
      "metadata": {
        "colab": {
          "base_uri": "https://localhost:8080/"
        },
        "id": "2Y5DPbGj4E4U",
        "outputId": "ccb4b53e-e61e-4e59-c02b-81dd54646e09"
      },
      "execution_count": null,
      "outputs": [
        {
          "output_type": "stream",
          "name": "stdout",
          "text": [
            "Coding For All\n"
          ]
        }
      ]
    },
    {
      "cell_type": "code",
      "source": [
        "# Declare a variable named company and assign it to an initial value \"Coding For All\".\n",
        "company = 'Coding For All'\n",
        "print(company)"
      ],
      "metadata": {
        "colab": {
          "base_uri": "https://localhost:8080/"
        },
        "id": "iCo-kKij5CaA",
        "outputId": "d0b810a8-0935-4a54-9585-c53bd07236b9"
      },
      "execution_count": null,
      "outputs": [
        {
          "output_type": "stream",
          "name": "stdout",
          "text": [
            "Coding For All\n"
          ]
        }
      ]
    },
    {
      "cell_type": "code",
      "source": [
        "x = 8\n",
        "y = 6\n",
        "x = x + 6\n",
        "y = y + 2\n",
        "print(\"Y\")\n"
      ],
      "metadata": {
        "colab": {
          "base_uri": "https://localhost:8080/"
        },
        "id": "uWa0ypl25hFk",
        "outputId": "3e846e30-750c-4286-ac96-30d832d8e4ae"
      },
      "execution_count": null,
      "outputs": [
        {
          "output_type": "stream",
          "name": "stdout",
          "text": [
            "Y\n"
          ]
        }
      ]
    },
    {
      "cell_type": "code",
      "source": [
        "# Print the variable company using print().\n",
        "print(f'company')"
      ],
      "metadata": {
        "id": "genkCU6m533N",
        "colab": {
          "base_uri": "https://localhost:8080/"
        },
        "outputId": "49ea38cc-af7e-4e35-e674-ab6f41f67741"
      },
      "execution_count": null,
      "outputs": [
        {
          "output_type": "stream",
          "name": "stdout",
          "text": [
            "company\n"
          ]
        }
      ]
    },
    {
      "cell_type": "code",
      "source": [
        "# Print the length of the company string using len() method and print().\n",
        "company = 'Coding For All'\n",
        "print(len(company))"
      ],
      "metadata": {
        "colab": {
          "base_uri": "https://localhost:8080/"
        },
        "id": "keVepP1UjSle",
        "outputId": "d5138a04-5abb-468d-95ce-4b579e69816f"
      },
      "execution_count": null,
      "outputs": [
        {
          "output_type": "stream",
          "name": "stdout",
          "text": [
            "14\n"
          ]
        }
      ]
    },
    {
      "cell_type": "code",
      "source": [
        "# Change all the characters to uppercase letters using upper() method.\n",
        "company = 'Coding For All'\n",
        "print(company.upper())"
      ],
      "metadata": {
        "colab": {
          "base_uri": "https://localhost:8080/"
        },
        "id": "ztvkhMlsnGYE",
        "outputId": "1b4b3402-5792-476e-bd93-c50778a13640"
      },
      "execution_count": null,
      "outputs": [
        {
          "output_type": "stream",
          "name": "stdout",
          "text": [
            "CODING FOR ALL\n"
          ]
        }
      ]
    },
    {
      "cell_type": "code",
      "source": [
        "# Change all the characters to lowercase letters using lower() method.\n",
        "company = 'Coding For All'\n",
        "print(company.lower())"
      ],
      "metadata": {
        "colab": {
          "base_uri": "https://localhost:8080/"
        },
        "id": "9_0GaEBAnVWv",
        "outputId": "231adb20-c283-416b-b225-8bdf492b5d83"
      },
      "execution_count": null,
      "outputs": [
        {
          "output_type": "stream",
          "name": "stdout",
          "text": [
            "coding for all\n"
          ]
        }
      ]
    },
    {
      "cell_type": "code",
      "source": [
        "# Use capitalize(), title(), swapcase() methods to format the value of the string Coding For All.\n",
        "company = 'Coding For All'\n",
        "print(company.capitalize())\n",
        "print(company.title())\n",
        "print(company.swapcase())"
      ],
      "metadata": {
        "colab": {
          "base_uri": "https://localhost:8080/"
        },
        "id": "xmt3PunSngxF",
        "outputId": "3aa0762e-d02a-461c-db7f-74a515305a9b"
      },
      "execution_count": null,
      "outputs": [
        {
          "output_type": "stream",
          "name": "stdout",
          "text": [
            "Coding for all\n",
            "Coding For All\n",
            "cODING fOR aLL\n"
          ]
        }
      ]
    },
    {
      "cell_type": "code",
      "source": [
        "# Cut(slice) out the first word of Coding For All string.\n",
        "company = 'Coding For All'\n",
        "print(company[7: ])"
      ],
      "metadata": {
        "colab": {
          "base_uri": "https://localhost:8080/"
        },
        "id": "jza2uYZaojbe",
        "outputId": "3665d12a-50dd-453c-a4be-08067f2faabd"
      },
      "execution_count": null,
      "outputs": [
        {
          "output_type": "stream",
          "name": "stdout",
          "text": [
            "For All\n"
          ]
        }
      ]
    },
    {
      "cell_type": "code",
      "source": [
        "company = 'Coding For All'\n",
        "print(company[0:7:])"
      ],
      "metadata": {
        "colab": {
          "base_uri": "https://localhost:8080/"
        },
        "id": "RWf0pSKto_0b",
        "outputId": "f9d7a816-4dc8-4224-bc75-15cae51f32cb"
      },
      "execution_count": null,
      "outputs": [
        {
          "output_type": "stream",
          "name": "stdout",
          "text": [
            "Coding \n"
          ]
        }
      ]
    },
    {
      "cell_type": "code",
      "source": [
        "# Check if Coding For All string contains a word Coding using the method index, find or other methods.\n",
        "company = 'Coding For All'\n",
        "print(company.index('All'))\n"
      ],
      "metadata": {
        "colab": {
          "base_uri": "https://localhost:8080/"
        },
        "id": "q5O3GvVZpm7V",
        "outputId": "e514825f-780f-464d-9f2c-434ffad5c1d4"
      },
      "execution_count": null,
      "outputs": [
        {
          "output_type": "stream",
          "name": "stdout",
          "text": [
            "11\n"
          ]
        }
      ]
    },
    {
      "cell_type": "code",
      "source": [
        "# Replace the word coding in the string 'Coding For All' to Python.\n",
        "company = 'Coding For All'\n",
        "print(company.replace('Coding For All','the word coding'))"
      ],
      "metadata": {
        "id": "xMv0ymzFzi5d",
        "colab": {
          "base_uri": "https://localhost:8080/"
        },
        "outputId": "ce22539c-31f3-4661-bccf-7a01a1f4e879"
      },
      "execution_count": null,
      "outputs": [
        {
          "output_type": "stream",
          "name": "stdout",
          "text": [
            "the word coding\n"
          ]
        }
      ]
    },
    {
      "cell_type": "code",
      "source": [
        "# Change Python for Everyone to Python for All using the replace method or other methods.\n",
        "company = 'Python for Everyone'\n",
        "print(company.replace('Python for Everyone','Python for All'))"
      ],
      "metadata": {
        "colab": {
          "base_uri": "https://localhost:8080/"
        },
        "id": "kWaWhtJWKz_b",
        "outputId": "fc6c617d-2ba0-4766-cfbc-eecc3e93f356"
      },
      "execution_count": null,
      "outputs": [
        {
          "output_type": "stream",
          "name": "stdout",
          "text": [
            "Python for All\n"
          ]
        }
      ]
    },
    {
      "cell_type": "code",
      "source": [
        "# Split the string 'Coding For All' using space as the separator (split()) .\n",
        "company = 'Coding For All'\n",
        "print(company.split())"
      ],
      "metadata": {
        "colab": {
          "base_uri": "https://localhost:8080/"
        },
        "id": "Bfuh9rIFMbKd",
        "outputId": "2cbb57e6-2f8b-4c00-e976-ca258ce98d31"
      },
      "execution_count": null,
      "outputs": [
        {
          "output_type": "stream",
          "name": "stdout",
          "text": [
            "['Coding', 'For', 'All']\n"
          ]
        }
      ]
    },
    {
      "cell_type": "code",
      "source": [
        "# \"Facebook, Google, Microsoft, Apple, IBM, Oracle, Amazon\" split the string at the comma.\n",
        "company = \"Facebook, Google, Microsoft, Apple, IBM, Oracle, Amazon\"\n",
        "print(company.split())"
      ],
      "metadata": {
        "colab": {
          "base_uri": "https://localhost:8080/"
        },
        "id": "DuuNjFw_nM5k",
        "outputId": "e28d8441-e48d-4a7c-bf75-a3cc2ebbb905"
      },
      "execution_count": null,
      "outputs": [
        {
          "output_type": "stream",
          "name": "stdout",
          "text": [
            "['Facebook,', 'Google,', 'Microsoft,', 'Apple,', 'IBM,', 'Oracle,', 'Amazon']\n"
          ]
        }
      ]
    },
    {
      "cell_type": "code",
      "source": [
        "# What is the character at index 0 in the string Coding For All.\n",
        "company = 'Coding For All'\n",
        "print(company[0])"
      ],
      "metadata": {
        "id": "8SWktTiKp3O6",
        "colab": {
          "base_uri": "https://localhost:8080/"
        },
        "outputId": "2057aa5b-4aa9-40ff-bd6e-8ba6998385c5"
      },
      "execution_count": null,
      "outputs": [
        {
          "output_type": "stream",
          "name": "stdout",
          "text": [
            "C\n"
          ]
        }
      ]
    },
    {
      "cell_type": "code",
      "source": [
        "# What is the last index of the string Coding For All.\n",
        "company = 'Coding For All'\n",
        "print(company[-1])"
      ],
      "metadata": {
        "colab": {
          "base_uri": "https://localhost:8080/"
        },
        "id": "IrRbvSJM3nub",
        "outputId": "212c5eac-f30f-41f3-c2cc-66108e83c528"
      },
      "execution_count": null,
      "outputs": [
        {
          "output_type": "stream",
          "name": "stdout",
          "text": [
            "l\n"
          ]
        }
      ]
    },
    {
      "cell_type": "code",
      "source": [
        "# What character is at index 10 in \"Coding For All\" string.\n",
        "company = 'Coding For All'\n",
        "print(company[10])"
      ],
      "metadata": {
        "colab": {
          "base_uri": "https://localhost:8080/"
        },
        "id": "NHOoEhxL370C",
        "outputId": "4cb2c315-636b-46a3-86b2-7260ba3bbee5"
      },
      "execution_count": null,
      "outputs": [
        {
          "output_type": "stream",
          "name": "stdout",
          "text": [
            " \n"
          ]
        }
      ]
    },
    {
      "cell_type": "code",
      "source": [
        "# Create an acronym or an abbreviation for the name 'Python For Everyone'.\n",
        "company = 'Python For Everyone'\n",
        "print(company.replace('Python For Everyone', 'PFE'))"
      ],
      "metadata": {
        "colab": {
          "base_uri": "https://localhost:8080/"
        },
        "id": "oUXNbrUX4FQC",
        "outputId": "6c245eaf-259c-41a9-97a5-377dcf1abb03"
      },
      "execution_count": null,
      "outputs": [
        {
          "output_type": "stream",
          "name": "stdout",
          "text": [
            "PFE\n"
          ]
        }
      ]
    },
    {
      "cell_type": "code",
      "source": [
        "# Create an acronym or an abbreviation for the name 'Coding For All'.\n",
        "company = 'Coding For All'\n",
        "print(company.replace('Coding For All', 'CFA'))"
      ],
      "metadata": {
        "colab": {
          "base_uri": "https://localhost:8080/"
        },
        "id": "RZUV6KeL4rL5",
        "outputId": "f4ef3d89-702d-4d42-cfcc-1d3711ba4b05"
      },
      "execution_count": null,
      "outputs": [
        {
          "output_type": "stream",
          "name": "stdout",
          "text": [
            "CFA\n"
          ]
        }
      ]
    },
    {
      "cell_type": "code",
      "source": [
        "# Use index to determine the position of the first occurrence of C in Coding For All.\n",
        "company = 'Coding For All'\n",
        "print(company.index('C'))\n"
      ],
      "metadata": {
        "colab": {
          "base_uri": "https://localhost:8080/"
        },
        "id": "hCM2RNKt47QM",
        "outputId": "4c71703c-b2d4-40a3-d42b-0786d932a0e2"
      },
      "execution_count": null,
      "outputs": [
        {
          "output_type": "stream",
          "name": "stdout",
          "text": [
            "0\n"
          ]
        }
      ]
    },
    {
      "cell_type": "code",
      "source": [
        "# Use index to determine the position of the first occurrence of F in Coding For All.\n",
        "company = 'Coding For All'\n",
        "print(company.index('F'))"
      ],
      "metadata": {
        "colab": {
          "base_uri": "https://localhost:8080/"
        },
        "id": "6SuJUeSZ5W8l",
        "outputId": "922bae7c-9fee-4fef-9d5e-cefb0891b344"
      },
      "execution_count": null,
      "outputs": [
        {
          "output_type": "stream",
          "name": "stdout",
          "text": [
            "7\n"
          ]
        }
      ]
    },
    {
      "cell_type": "code",
      "source": [
        "# Use rfind to determine the position of the last occurrence of l in Coding For All People.\n",
        "company = 'Coding For All People'\n",
        "print(company.rfind('l'))"
      ],
      "metadata": {
        "colab": {
          "base_uri": "https://localhost:8080/"
        },
        "id": "ZaVc-uKq9y-i",
        "outputId": "8dbe7e85-7456-454f-a1d9-57f9c23d956a"
      },
      "execution_count": null,
      "outputs": [
        {
          "output_type": "stream",
          "name": "stdout",
          "text": [
            "19\n"
          ]
        }
      ]
    },
    {
      "cell_type": "code",
      "source": [
        "# Use index or find to find the position of the first occurrence of the word 'because' in the following sentence: 'You cannot end a sentence with because because because is a conjunction'\n",
        "sentence = 'You cannot end a sentence with because because because is a conjunction'\n",
        "print(sentence.index('because'))"
      ],
      "metadata": {
        "colab": {
          "base_uri": "https://localhost:8080/"
        },
        "id": "7E3_Aot8-DTA",
        "outputId": "49a3ff0b-c4c8-4a5f-9d8f-f59a25bab9fc"
      },
      "execution_count": null,
      "outputs": [
        {
          "output_type": "stream",
          "name": "stdout",
          "text": [
            "31\n"
          ]
        }
      ]
    },
    {
      "cell_type": "code",
      "source": [
        "# Use rindex to find the position of the last occurrence of the word because in the following sentence: 'You cannot end a sentence with because because because is a conjunction'\n",
        "sentence = 'You cannot end a sentence with because because because is a conjuction'\n",
        "print(sentence.rindex('because'))"
      ],
      "metadata": {
        "id": "nSc5A36b_B6P",
        "colab": {
          "base_uri": "https://localhost:8080/"
        },
        "outputId": "d3190974-9bc4-4756-c5bb-f24e6b8999a7"
      },
      "execution_count": null,
      "outputs": [
        {
          "output_type": "stream",
          "name": "stdout",
          "text": [
            "47\n"
          ]
        }
      ]
    },
    {
      "cell_type": "code",
      "source": [
        "# Slice out the phrase 'because because because' in the following sentence: 'You cannot end a sentence with because because because is a conjunction'\n"
      ],
      "metadata": {
        "id": "m1OEgGfv4YYp"
      },
      "execution_count": null,
      "outputs": []
    }
  ]
}