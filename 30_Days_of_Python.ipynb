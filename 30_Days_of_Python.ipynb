{
  "nbformat": 4,
  "nbformat_minor": 0,
  "metadata": {
    "colab": {
      "provenance": [],
      "authorship_tag": "ABX9TyOWYILkFXMwc1B35XmTB5wA",
      "include_colab_link": true
    },
    "kernelspec": {
      "name": "python3",
      "display_name": "Python 3"
    },
    "language_info": {
      "name": "python"
    }
  },
  "cells": [
    {
      "cell_type": "markdown",
      "metadata": {
        "id": "view-in-github",
        "colab_type": "text"
      },
      "source": [
        "<a href=\"https://colab.research.google.com/github/fizandata19/30-Days-of-Python/blob/main/30_Days_of_Python.ipynb\" target=\"_parent\"><img src=\"https://colab.research.google.com/assets/colab-badge.svg\" alt=\"Open In Colab\"/></a>"
      ]
    },
    {
      "cell_type": "markdown",
      "source": [
        "# Day 1  # Excercise Level 1\n",
        "#INTRODUCTION"
      ],
      "metadata": {
        "id": "mmHPLHgXSHeG"
      }
    },
    {
      "cell_type": "code",
      "execution_count": null,
      "metadata": {
        "colab": {
          "base_uri": "https://localhost:8080/"
        },
        "id": "c1-fhLjURDia",
        "outputId": "59235c67-c670-48b7-a824-1061d40363b6"
      },
      "outputs": [
        {
          "output_type": "stream",
          "name": "stdout",
          "text": [
            "7\n",
            "-1\n",
            "12\n",
            "0.75\n",
            "81\n",
            "3\n",
            "0\n"
          ]
        }
      ],
      "source": [
        "# Open the python interactive shell and do the following operations. The operands are 3 and 4.\n",
        "# addition(+)\n",
        "# subtraction(-)\n",
        "# multiplication(*)\n",
        "# modulus(%)\n",
        "# division(/)\n",
        "# exponential(**)\n",
        "# floor division operator(//)\n",
        "print(3 + 4)\n",
        "print(3 - 4)\n",
        "print(3 * 4)\n",
        "print(3 / 4)\n",
        "print(3 ** 4)\n",
        "print(3 % 4)\n",
        "print(3 // 4)"
      ]
    },
    {
      "cell_type": "code",
      "source": [
        "# Write strings on the python interactive shell. The strings are the following:\n",
        "# Your name\n",
        "# Your family name\n",
        "# Your country\n",
        "# I am enjoying 30 days of python\n",
        "print(\"Fizan Latif\")\n",
        "print(\"Ansari\")\n",
        "print(\"Pakistan\")\n",
        "print(\"I am enjoying 30 days of python\")"
      ],
      "metadata": {
        "colab": {
          "base_uri": "https://localhost:8080/"
        },
        "id": "g03lbGgMRM6P",
        "outputId": "30e41c90-f811-4387-b711-4e7959b44a9d"
      },
      "execution_count": null,
      "outputs": [
        {
          "output_type": "stream",
          "name": "stdout",
          "text": [
            "Fizan Latif\n",
            "Ansari\n",
            "Pakistan\n",
            "I am enjoying 30 days of python\n"
          ]
        }
      ]
    },
    {
      "cell_type": "code",
      "source": [
        "# Check the data types of the following data:\n",
        "# 10\n",
        "# 9.8\n",
        "# 3.14\n",
        "# 4 - 4j\n",
        "# ['Asabeneh', 'Python', 'Finland']\n",
        "# Your name\n",
        "# Your family name\n",
        "# Your country\n",
        "print(type(10))\n",
        "print(type(9.8))\n",
        "print(type(3.14))\n",
        "print(type(4 - 4j))\n",
        "print(type(['Asabeneh', 'Python', 'Finland']))\n",
        "print(type(\"Fizan Latif\"))\n",
        "print(type(\"Ansari\"))\n",
        "print(type(\"Pakistan\"))"
      ],
      "metadata": {
        "colab": {
          "base_uri": "https://localhost:8080/"
        },
        "id": "O4I1kXDaS5Xh",
        "outputId": "87aa0af6-e699-41d0-968d-a0d5349548de"
      },
      "execution_count": null,
      "outputs": [
        {
          "output_type": "stream",
          "name": "stdout",
          "text": [
            "<class 'int'>\n",
            "<class 'float'>\n",
            "<class 'float'>\n",
            "<class 'complex'>\n",
            "<class 'list'>\n",
            "<class 'str'>\n",
            "<class 'str'>\n",
            "<class 'str'>\n"
          ]
        }
      ]
    },
    {
      "cell_type": "code",
      "source": [
        "# Write an example for different Python data types such as Number(Integer, Float, Complex), String, Boolean, List, Tuple, Set and Dictionary.\n",
        "print(5675757)\n",
        "print(3456.546)\n",
        "print(34 + 4j)\n",
        "print(\"StemEye\")\n",
        "print(12 < 2)\n",
        "print([12,35,\"fans\"])\n",
        "print(34,43,56,\"fans\")\n",
        "print({\"Name = Fizanlatif\"})\n",
        "print(type({\"Name = Fizanlatif\"}))\n",
        "print(type({\"Age\" : \"23\"}))"
      ],
      "metadata": {
        "colab": {
          "base_uri": "https://localhost:8080/"
        },
        "id": "1VnZRrZTVEoc",
        "outputId": "4b0c4788-8c56-4d79-c003-cfa6b8a38aa3"
      },
      "execution_count": null,
      "outputs": [
        {
          "output_type": "stream",
          "name": "stdout",
          "text": [
            "5675757\n",
            "3456.546\n",
            "(34+4j)\n",
            "StemEye\n",
            "False\n",
            "[12, 35, 'fans']\n",
            "34 43 56 fans\n",
            "{'Name = Fizanlatif'}\n",
            "<class 'set'>\n",
            "<class 'dict'>\n"
          ]
        }
      ]
    },
    {
      "cell_type": "code",
      "source": [
        "# Find an Euclidian distance between (2, 3) and (10, 8)\n"
      ],
      "metadata": {
        "id": "v3nPuQu7V_64"
      },
      "execution_count": null,
      "outputs": []
    },
    {
      "cell_type": "markdown",
      "source": [
        "#Day 2 Excercise level 1\n",
        "#VARIABLES, BUILTIN FUNCTIONS"
      ],
      "metadata": {
        "id": "j0smDiTWYWfN"
      }
    },
    {
      "cell_type": "code",
      "source": [
        "# _abs_ Function\n",
        "print(abs(-23-12.576j))"
      ],
      "metadata": {
        "colab": {
          "base_uri": "https://localhost:8080/"
        },
        "id": "31ZXg1OoCCwH",
        "outputId": "e1922e10-3e52-44a1-fc27-455c7dfd7594"
      },
      "execution_count": null,
      "outputs": [
        {
          "output_type": "stream",
          "name": "stdout",
          "text": [
            "26.213656288278443\n"
          ]
        }
      ]
    },
    {
      "cell_type": "code",
      "source": [
        "# All Function\n",
        "int_list = [1,3,5,7,8]\n",
        "result = any(int_list)\n",
        "print(result)"
      ],
      "metadata": {
        "id": "nBoSWeiWCLAm",
        "colab": {
          "base_uri": "https://localhost:8080/"
        },
        "outputId": "5f9186a8-b5ac-4761-9b38-caf768301c1e"
      },
      "execution_count": null,
      "outputs": [
        {
          "output_type": "stream",
          "name": "stdout",
          "text": [
            "True\n"
          ]
        }
      ]
    },
    {
      "cell_type": "code",
      "source": [
        "def any(iterable):\n",
        "    for element in iterable:\n",
        "        if element:\n",
        "            return True\n",
        "    return False"
      ],
      "metadata": {
        "id": "Pmn9TjntE-i4"
      },
      "execution_count": null,
      "outputs": []
    },
    {
      "cell_type": "code",
      "source": [
        "int_list = ['a = 9','b = 6']\n",
        "result = any('3')\n",
        "print(result)"
      ],
      "metadata": {
        "id": "ECvY8Fd1Fqsn",
        "colab": {
          "base_uri": "https://localhost:8080/"
        },
        "outputId": "2c32dd70-84c3-49ff-ba07-208baa16f9a4"
      },
      "execution_count": null,
      "outputs": [
        {
          "output_type": "stream",
          "name": "stdout",
          "text": [
            "True\n"
          ]
        }
      ]
    },
    {
      "cell_type": "code",
      "source": [
        "format(4,'b')"
      ],
      "metadata": {
        "colab": {
          "base_uri": "https://localhost:8080/",
          "height": 36
        },
        "id": "pSI2eb9HrltX",
        "outputId": "2602d34d-b005-46ac-a834-a93d8f4f7038"
      },
      "execution_count": null,
      "outputs": [
        {
          "output_type": "execute_result",
          "data": {
            "text/plain": [
              "'100'"
            ],
            "application/vnd.google.colaboratory.intrinsic+json": {
              "type": "string"
            }
          },
          "metadata": {},
          "execution_count": 17
        }
      ]
    },
    {
      "cell_type": "code",
      "source": [
        "bin(-1245)"
      ],
      "metadata": {
        "colab": {
          "base_uri": "https://localhost:8080/",
          "height": 36
        },
        "id": "CROlXX79trW7",
        "outputId": "13e47b3e-59d5-4b6b-8b68-ad6f9ca16324"
      },
      "execution_count": null,
      "outputs": [
        {
          "output_type": "execute_result",
          "data": {
            "text/plain": [
              "'-0b10011011101'"
            ],
            "application/vnd.google.colaboratory.intrinsic+json": {
              "type": "string"
            }
          },
          "metadata": {},
          "execution_count": 18
        }
      ]
    },
    {
      "cell_type": "code",
      "source": [
        "# Write a python comment saying 'Day 2: 30 Days of python programming'\n"
      ],
      "metadata": {
        "id": "3SBQqjVSuwn-"
      },
      "execution_count": null,
      "outputs": []
    },
    {
      "cell_type": "code",
      "source": [
        "# Declare a first name variable and assign a value to it.\n",
        "first_name = 'Fizan'\n",
        "print(first_name)"
      ],
      "metadata": {
        "colab": {
          "base_uri": "https://localhost:8080/"
        },
        "id": "Hxo_qGM0Ob_B",
        "outputId": "2b457440-a1e3-49ef-e27a-34605dce30b8"
      },
      "execution_count": null,
      "outputs": [
        {
          "output_type": "stream",
          "name": "stdout",
          "text": [
            "Fizan\n"
          ]
        }
      ]
    },
    {
      "cell_type": "code",
      "source": [
        "# Declare a last name variable and assign a value to it.\n",
        "last_name = 'Latif'\n",
        "print(last_name)"
      ],
      "metadata": {
        "colab": {
          "base_uri": "https://localhost:8080/"
        },
        "id": "R7nTMmwyOs1j",
        "outputId": "20da78e3-b27f-4a36-cc65-7ec888fb9551"
      },
      "execution_count": null,
      "outputs": [
        {
          "output_type": "stream",
          "name": "stdout",
          "text": [
            "Latif\n"
          ]
        }
      ]
    },
    {
      "cell_type": "code",
      "source": [
        "# Declare a full name variable and assign a value to it.\n",
        "full_name = 'Fizan Latif'\n",
        "print(full_name)"
      ],
      "metadata": {
        "colab": {
          "base_uri": "https://localhost:8080/"
        },
        "id": "T8DV9kU6O0U6",
        "outputId": "841aef57-2679-4f44-b313-98b82c9124ed"
      },
      "execution_count": null,
      "outputs": [
        {
          "output_type": "stream",
          "name": "stdout",
          "text": [
            "Fizan Latif\n"
          ]
        }
      ]
    },
    {
      "cell_type": "code",
      "source": [
        "# Declare a country variable and assign a value to it.\n",
        "country = 'Pakistan'\n",
        "print(country)"
      ],
      "metadata": {
        "colab": {
          "base_uri": "https://localhost:8080/"
        },
        "id": "RKA3wAm7O936",
        "outputId": "6eae3209-8580-4f1b-90a0-f92e95d9f6be"
      },
      "execution_count": null,
      "outputs": [
        {
          "output_type": "stream",
          "name": "stdout",
          "text": [
            "Pakistan\n"
          ]
        }
      ]
    },
    {
      "cell_type": "code",
      "source": [
        "# Declare a city variable and assign a value to it.\n",
        "city = 'Bahawalpur'\n",
        "print(city)"
      ],
      "metadata": {
        "colab": {
          "base_uri": "https://localhost:8080/"
        },
        "id": "l_hhG1OBPmdi",
        "outputId": "a0080512-fae4-417a-e1fd-37a29e6ddbbe"
      },
      "execution_count": null,
      "outputs": [
        {
          "output_type": "stream",
          "name": "stdout",
          "text": [
            "Bahawalpur\n"
          ]
        }
      ]
    },
    {
      "cell_type": "code",
      "source": [
        "# Declare an age variable and assign a value to it.\n",
        "age = 19\n",
        "print(age)"
      ],
      "metadata": {
        "colab": {
          "base_uri": "https://localhost:8080/"
        },
        "id": "QZMSTyDtQXL5",
        "outputId": "bd95d778-8439-4d85-c59b-90850fbea249"
      },
      "execution_count": null,
      "outputs": [
        {
          "output_type": "stream",
          "name": "stdout",
          "text": [
            "19\n"
          ]
        }
      ]
    },
    {
      "cell_type": "code",
      "source": [
        "# Declare a year variable and assign a value to it.\n",
        "year = 2024\n",
        "print(year)"
      ],
      "metadata": {
        "colab": {
          "base_uri": "https://localhost:8080/"
        },
        "id": "fWFNvkTlQhT4",
        "outputId": "e6b582f2-c6ce-4731-c7b3-71bd89323fe9"
      },
      "execution_count": null,
      "outputs": [
        {
          "output_type": "stream",
          "name": "stdout",
          "text": [
            "2024\n"
          ]
        }
      ]
    },
    {
      "cell_type": "code",
      "source": [
        "# Declare a variable is_married and assign a value to it.\n",
        "is_married = False\n",
        "print(is_married)"
      ],
      "metadata": {
        "colab": {
          "base_uri": "https://localhost:8080/"
        },
        "id": "SgCC03zAQngY",
        "outputId": "35d243de-c602-4c6f-cf1d-8d1475c2c69e"
      },
      "execution_count": null,
      "outputs": [
        {
          "output_type": "stream",
          "name": "stdout",
          "text": [
            "False\n"
          ]
        }
      ]
    },
    {
      "cell_type": "code",
      "source": [
        "# Declare a variable is_true and assign a value to it.\n",
        "is_true = True\n",
        "print(is_true)"
      ],
      "metadata": {
        "colab": {
          "base_uri": "https://localhost:8080/"
        },
        "id": "dq_WW8WAQ-9P",
        "outputId": "2be71bc9-f36a-44ed-ad3d-95d15260c56a"
      },
      "execution_count": null,
      "outputs": [
        {
          "output_type": "stream",
          "name": "stdout",
          "text": [
            "True\n"
          ]
        }
      ]
    },
    {
      "cell_type": "code",
      "source": [
        "# Declare a variable is_light_on and assign a value to it.\n",
        "is_light_on = True\n",
        "print(is_light_on)"
      ],
      "metadata": {
        "colab": {
          "base_uri": "https://localhost:8080/"
        },
        "id": "vE1d8Iy7Rxju",
        "outputId": "4b2f5c5f-5725-460a-b254-16730caa780a"
      },
      "execution_count": null,
      "outputs": [
        {
          "output_type": "stream",
          "name": "stdout",
          "text": [
            "True\n"
          ]
        }
      ]
    },
    {
      "cell_type": "code",
      "source": [
        "# Declare multiple variable on one line.\n",
        "first_name, last_name, full_name = 'Fizan', 'Latif', 'Fizan Latif'\n",
        "print(first_name, last_name, full_name)"
      ],
      "metadata": {
        "colab": {
          "base_uri": "https://localhost:8080/"
        },
        "id": "RkKiFBDSSEjt",
        "outputId": "a31381eb-0edf-4385-d3cf-2e50dd27f7f4"
      },
      "execution_count": null,
      "outputs": [
        {
          "output_type": "stream",
          "name": "stdout",
          "text": [
            "Fizan Latif Fizan Latif\n"
          ]
        }
      ]
    },
    {
      "cell_type": "markdown",
      "source": [
        "#Day-1 Excercise 1\n",
        "#BUILTIN FUNCTIONS"
      ],
      "metadata": {
        "id": "F38w1xJzTM_c"
      }
    },
    {
      "cell_type": "code",
      "source": [
        "# Check the data type of all your variables using type() built-in function.\n",
        "name = 'Fizan'\n",
        "print(type(name))\n",
        "num = 1 + 23j\n",
        "print(type(num))"
      ],
      "metadata": {
        "colab": {
          "base_uri": "https://localhost:8080/"
        },
        "id": "dZeHvwaDSyO1",
        "outputId": "e5ccf22b-a547-4c14-ffef-87693819de14"
      },
      "execution_count": null,
      "outputs": [
        {
          "output_type": "stream",
          "name": "stdout",
          "text": [
            "<class 'str'>\n",
            "<class 'complex'>\n"
          ]
        }
      ]
    },
    {
      "cell_type": "code",
      "source": [
        "# Using the len() built-in function, find the length of your first name.\n",
        "first_name = 'Fizan'\n",
        "print(len(first_name))"
      ],
      "metadata": {
        "colab": {
          "base_uri": "https://localhost:8080/"
        },
        "id": "Yw_pSjhbT8lB",
        "outputId": "0b08555d-8750-4d6b-d135-2adb26cf25bf"
      },
      "execution_count": null,
      "outputs": [
        {
          "output_type": "stream",
          "name": "stdout",
          "text": [
            "5\n"
          ]
        }
      ]
    },
    {
      "cell_type": "code",
      "source": [
        "# Compare the length of your first name and your last name.\n",
        "first_name = 'Fizan'\n",
        "last_name = 'Latif'\n",
        "print(len(first_name) > len(last_name))"
      ],
      "metadata": {
        "colab": {
          "base_uri": "https://localhost:8080/"
        },
        "id": "1ySpgW-DUciZ",
        "outputId": "00e70dd9-6f04-41b3-e558-ee9a99d737a4"
      },
      "execution_count": null,
      "outputs": [
        {
          "output_type": "stream",
          "name": "stdout",
          "text": [
            "False\n"
          ]
        }
      ]
    },
    {
      "cell_type": "code",
      "source": [
        "# Declare 5 as num_one and 4 as num_two\n",
        "# Add num_one and num_two and assign the value to a variable total\n",
        "num_one = 5\n",
        "num_two = 4\n",
        "total = num_one + num_two\n",
        "print(total)"
      ],
      "metadata": {
        "colab": {
          "base_uri": "https://localhost:8080/"
        },
        "id": "S01LyJkKXJKB",
        "outputId": "29cd062e-3215-4a49-a7c8-3894cdf0464d"
      },
      "execution_count": null,
      "outputs": [
        {
          "output_type": "stream",
          "name": "stdout",
          "text": [
            "9\n"
          ]
        }
      ]
    },
    {
      "cell_type": "code",
      "source": [
        "# Subtract num_two from num_one and assign the value to a variable diff\n",
        "num_two = 4\n",
        "num_one = 5\n",
        "diff = num_two - num_one\n",
        "print(diff)"
      ],
      "metadata": {
        "colab": {
          "base_uri": "https://localhost:8080/"
        },
        "id": "ZOppe7FfaqIG",
        "outputId": "e25bb32d-5e3a-4d2c-e3a7-3ef95a97af53"
      },
      "execution_count": null,
      "outputs": [
        {
          "output_type": "stream",
          "name": "stdout",
          "text": [
            "-1\n"
          ]
        }
      ]
    },
    {
      "cell_type": "code",
      "source": [
        "# Multiply num_two and num_one and assign the value to a variable product\n",
        "num_two = 4\n",
        "num_one = 5\n",
        "product = num_two * num_one\n",
        "print(product)"
      ],
      "metadata": {
        "colab": {
          "base_uri": "https://localhost:8080/"
        },
        "id": "cYRsT7PibBxN",
        "outputId": "cb305560-868f-4d57-9d96-03ed2a30fb48"
      },
      "execution_count": null,
      "outputs": [
        {
          "output_type": "stream",
          "name": "stdout",
          "text": [
            "20\n"
          ]
        }
      ]
    },
    {
      "cell_type": "code",
      "source": [
        "# Divide num_one by num_two and assign the value to a variable division\n",
        "num_one = 5\n",
        "num_two\n",
        "division = num_one/num_two\n",
        "print(division)"
      ],
      "metadata": {
        "colab": {
          "base_uri": "https://localhost:8080/"
        },
        "id": "FjUzWZaAdEiC",
        "outputId": "7472de7e-6898-44ea-988b-819acff11ad8"
      },
      "execution_count": null,
      "outputs": [
        {
          "output_type": "stream",
          "name": "stdout",
          "text": [
            "1.25\n"
          ]
        }
      ]
    },
    {
      "cell_type": "code",
      "source": [
        "# Use modulus division to find num_two divided by num_one and assign the value to a variable remainder\n",
        "num_one = 5\n",
        "num_two = 4\n",
        "remainder = num_two % num_one\n",
        "print(remainder)"
      ],
      "metadata": {
        "colab": {
          "base_uri": "https://localhost:8080/"
        },
        "id": "_YLE4HJudZDi",
        "outputId": "c040c1d0-267d-4c6b-d013-7f770d4c0aa8"
      },
      "execution_count": null,
      "outputs": [
        {
          "output_type": "stream",
          "name": "stdout",
          "text": [
            "4\n"
          ]
        }
      ]
    },
    {
      "cell_type": "code",
      "source": [
        "# Calculate num_one to the power of num_two and assign the value to a variable exp\n",
        "num_one = 5\n",
        "num_two = 4\n",
        "exp = num_one ** num_two\n",
        "print(exp)"
      ],
      "metadata": {
        "colab": {
          "base_uri": "https://localhost:8080/"
        },
        "id": "CwrVjx5seFio",
        "outputId": "21c7e5a7-fe02-4a57-dac7-68cfa7d093f6"
      },
      "execution_count": null,
      "outputs": [
        {
          "output_type": "stream",
          "name": "stdout",
          "text": [
            "625\n"
          ]
        }
      ]
    },
    {
      "cell_type": "code",
      "source": [
        "# Find floor division of num_one by num_two and assign the value to a variable floor_division\n",
        "num_one = 5\n",
        "num_two = 4\n",
        "floor_division = num_one // num_two\n",
        "print(floor_division)"
      ],
      "metadata": {
        "colab": {
          "base_uri": "https://localhost:8080/"
        },
        "id": "dwcfErrZexZf",
        "outputId": "1bab97b5-f7c6-4228-d095-464422f638f4"
      },
      "execution_count": null,
      "outputs": [
        {
          "output_type": "stream",
          "name": "stdout",
          "text": [
            "1\n"
          ]
        }
      ]
    },
    {
      "cell_type": "code",
      "source": [
        "# The radius of a circle is 30 meters.\n",
        "# Calculate the area of a circle and assign the value to a variable name of area_of_circle\n",
        "raduis = 30\n",
        "area_of_circle = 3.14 * raduis**2\n",
        "print(area_of_circle)"
      ],
      "metadata": {
        "colab": {
          "base_uri": "https://localhost:8080/"
        },
        "id": "Y5ZQeq4wfQje",
        "outputId": "45a4c153-e091-4ff5-ff13-13fb2744a64f"
      },
      "execution_count": null,
      "outputs": [
        {
          "output_type": "stream",
          "name": "stdout",
          "text": [
            "2826.0\n"
          ]
        }
      ]
    },
    {
      "cell_type": "code",
      "source": [
        "# Calculate the circumference of a circle and assign the value to a variable name of circum_of_circle\n",
        "raduis = 30\n",
        "circum_of_circle = 2 * 3.14 * raduis\n",
        "print(circum_of_circle)"
      ],
      "metadata": {
        "colab": {
          "base_uri": "https://localhost:8080/"
        },
        "id": "Zqk-tQwh5q6I",
        "outputId": "16870353-ac1b-42ad-a69d-1900359c21ca"
      },
      "execution_count": null,
      "outputs": [
        {
          "output_type": "stream",
          "name": "stdout",
          "text": [
            "188.4\n"
          ]
        }
      ]
    },
    {
      "cell_type": "code",
      "source": [
        "# Take radius as user input and calculate the area.\n",
        "user_input = int(input(\"Enter the raduis: \"))\n",
        "area_of_circle = 3.14 * user_input*2\n",
        "print(area_of_circle)"
      ],
      "metadata": {
        "colab": {
          "base_uri": "https://localhost:8080/"
        },
        "id": "rH1qthS77A_G",
        "outputId": "32e1f52c-0762-441f-a20f-3d94f696e8e6"
      },
      "execution_count": null,
      "outputs": [
        {
          "output_type": "stream",
          "name": "stdout",
          "text": [
            "Enter the raduis: 46\n",
            "288.88\n"
          ]
        }
      ]
    },
    {
      "cell_type": "code",
      "source": [
        "# Use the built-in input function to get first name, last name, country and age from a user and store the value to their corresponding variable names\n",
        "first_name = input(\"Enter your first name: \")\n",
        "last_name = input(\"Enter your last name: \")\n",
        "country = input(\"Enter your country: \")\n",
        "age = int(input(\"Enter your age: \"))"
      ],
      "metadata": {
        "colab": {
          "base_uri": "https://localhost:8080/"
        },
        "id": "5tG7Zose8J7E",
        "outputId": "7294fc6a-e121-4788-fbcc-0b78853be95b"
      },
      "execution_count": null,
      "outputs": [
        {
          "name": "stdout",
          "output_type": "stream",
          "text": [
            "Enter your first name: Fizan\n",
            "Enter your last name: Latif\n",
            "Enter your country: Pakistan\n",
            "Enter your age: 19\n"
          ]
        }
      ]
    },
    {
      "cell_type": "code",
      "source": [
        "# Run help('keywords') in Python shell or in your file to check for the Python reserved words or keywords\n",
        "help('keywords')"
      ],
      "metadata": {
        "colab": {
          "base_uri": "https://localhost:8080/"
        },
        "id": "6Kgb466tBbiX",
        "outputId": "25e31b60-7a0b-4ea0-c374-63239ece34d8"
      },
      "execution_count": null,
      "outputs": [
        {
          "output_type": "stream",
          "name": "stdout",
          "text": [
            "\n",
            "Here is a list of the Python keywords.  Enter any keyword to get more help.\n",
            "\n",
            "False               class               from                or\n",
            "None                continue            global              pass\n",
            "True                def                 if                  raise\n",
            "and                 del                 import              return\n",
            "as                  elif                in                  try\n",
            "assert              else                is                  while\n",
            "async               except              lambda              with\n",
            "await               finally             nonlocal            yield\n",
            "break               for                 not                 \n",
            "\n"
          ]
        }
      ]
    },
    {
      "cell_type": "code",
      "source": [],
      "metadata": {
        "colab": {
          "base_uri": "https://localhost:8080/"
        },
        "id": "Q-3dVVZwtGDN",
        "outputId": "4678977a-27b1-476b-d11d-0397f30dee2d"
      },
      "execution_count": null,
      "outputs": [
        {
          "output_type": "execute_result",
          "data": {
            "text/plain": [
              "False"
            ]
          },
          "metadata": {},
          "execution_count": 58
        }
      ]
    },
    {
      "cell_type": "markdown",
      "source": [
        "#Day 3\n",
        "#OPERATORS"
      ],
      "metadata": {
        "id": "MgS9iVOv0-Kc"
      }
    },
    {
      "cell_type": "code",
      "source": [
        "x = 3\n",
        "x <<= 3\n",
        "print(x)"
      ],
      "metadata": {
        "id": "z-bDZekrtlZl",
        "colab": {
          "base_uri": "https://localhost:8080/"
        },
        "outputId": "a1a2d7bb-0f4b-4b5c-f641-2c996d8db49c"
      },
      "execution_count": null,
      "outputs": [
        {
          "output_type": "stream",
          "name": "stdout",
          "text": [
            "24\n"
          ]
        }
      ]
    },
    {
      "cell_type": "code",
      "source": [
        "# Declare your age as integer variable\n",
        "Age = 19"
      ],
      "metadata": {
        "id": "YYPGY5J73dD0"
      },
      "execution_count": null,
      "outputs": []
    },
    {
      "cell_type": "code",
      "source": [
        "# Declare your height as a float variable\n",
        "Height = 5.7"
      ],
      "metadata": {
        "id": "I1WEHruS_x2P"
      },
      "execution_count": null,
      "outputs": []
    },
    {
      "cell_type": "code",
      "source": [
        "# Declare a variable that store a complex number\n",
        "unknown_num = 3 + 5j"
      ],
      "metadata": {
        "id": "Kedu_JnwABxW"
      },
      "execution_count": null,
      "outputs": []
    },
    {
      "cell_type": "code",
      "source": [
        "# Write a script that prompts the user to enter base and height of the triangle and calculate an area of this triangle (area = 0.5 x b x h)\n",
        "Base_value = float(input(\"Enter the base value: \"))\n",
        "Height_value = float(input(\"Enter the height value: \"))\n",
        "area_of_circle = 0.5 * Base_value * Height_value\n",
        "print(area_of_circle)"
      ],
      "metadata": {
        "colab": {
          "base_uri": "https://localhost:8080/"
        },
        "id": "oN9qSYXvAMyf",
        "outputId": "c6285e41-3172-4c21-8c36-59247e4524e5"
      },
      "execution_count": null,
      "outputs": [
        {
          "output_type": "stream",
          "name": "stdout",
          "text": [
            "Enter the base value: 20\n",
            "Enter the height value: 10\n",
            "100.0\n"
          ]
        }
      ]
    },
    {
      "cell_type": "code",
      "source": [
        "# Write a script that prompts the user to enter side a, side b, and side c of the triangle. Calculate the perimeter of the triangle (perimeter = a + b + c).\n",
        "side_a_value = input(\"Enter the side a value: \")\n",
        "side_b_value = input(\"Enter the side b value: \")\n",
        "side_c_value = input(\"Enter the side c value: \")\n",
        "perimeter_of_triangle = int(side_a_value) + int(side_b_value) + int(side_c_value)\n",
        "print(perimeter_of_triangle)"
      ],
      "metadata": {
        "colab": {
          "base_uri": "https://localhost:8080/"
        },
        "id": "4Z-iS5aXDpAQ",
        "outputId": "2da5e927-f683-4e62-b125-aa38728665d7"
      },
      "execution_count": null,
      "outputs": [
        {
          "output_type": "stream",
          "name": "stdout",
          "text": [
            "Enter the side a value: 324\n",
            "Enter the side b value: 34\n",
            "Enter the side c value: 58\n",
            "416\n"
          ]
        }
      ]
    },
    {
      "cell_type": "code",
      "source": [
        "# Get length and width of a rectangle using prompt. Calculate its area (area = length x width) and perimeter (perimeter = 2 x (length + width))\n",
        "length_of_rectangle = int(input(\"Enter the length of rectangle: \"))\n",
        "width_of_rectangle = int(input(\"Enter the width of rectangle: \"))\n",
        "area_of_rectangle = length_of_rectangle * width_of_rectangle\n",
        "perimeter_of_triangle = 2 * (length_of_rectangle + width_of_rectangle)\n",
        "print(area_of_rectangle)\n",
        "print(perimeter_of_triangle)"
      ],
      "metadata": {
        "colab": {
          "base_uri": "https://localhost:8080/"
        },
        "id": "3ybF8yzGGAZO",
        "outputId": "38b416e7-d00b-4783-ba7c-db3690406e03"
      },
      "execution_count": null,
      "outputs": [
        {
          "output_type": "stream",
          "name": "stdout",
          "text": [
            "Enter the length of rectangle: 23\n",
            "Enter the width of rectangle: 4\n",
            "92\n",
            "54\n"
          ]
        }
      ]
    },
    {
      "cell_type": "code",
      "source": [
        "# Get radius of a circle using prompt. Calculate the area (area = pi x r x r) and circumference (c = 2 x pi x r) where pi = 3.14.\n",
        "radius_of_circle = float(input(\"Enter the radius of cirlce: \"))\n",
        "area_of_circle = 3.14 * radius_of_circle * radius_of_circle\n",
        "circumference_of_circle = 2 * 3.14 * radius_of_circle\n",
        "print(area_of_circle)\n",
        "print(circumference_of_circle)"
      ],
      "metadata": {
        "colab": {
          "base_uri": "https://localhost:8080/"
        },
        "id": "4pcKiQfyLdEy",
        "outputId": "1dc12420-b614-494e-f859-09f451116b03"
      },
      "execution_count": null,
      "outputs": [
        {
          "output_type": "stream",
          "name": "stdout",
          "text": [
            "Enter the radius of cirlce: 57\n",
            "10201.86\n",
            "357.96000000000004\n"
          ]
        }
      ]
    },
    {
      "cell_type": "code",
      "source": [
        "# Calculate the slope, x-intercept and y-intercept of y = 2x -2"
      ],
      "metadata": {
        "id": "EqGJhlfGNZVH"
      },
      "execution_count": null,
      "outputs": []
    },
    {
      "cell_type": "code",
      "source": [
        "# Check if int('9.8') is equal to 10\n",
        "print(int(9.8) == 10)"
      ],
      "metadata": {
        "id": "VdsaxkJCTU_F",
        "colab": {
          "base_uri": "https://localhost:8080/"
        },
        "outputId": "e081ff31-a19f-4d8b-8823-c51237274504"
      },
      "execution_count": null,
      "outputs": [
        {
          "output_type": "stream",
          "name": "stdout",
          "text": [
            "False\n"
          ]
        }
      ]
    },
    {
      "cell_type": "code",
      "source": [
        "# Check if type of '10' is equal to type of 10\n",
        "print(type('10') == type(10))"
      ],
      "metadata": {
        "colab": {
          "base_uri": "https://localhost:8080/"
        },
        "id": "HV9nH3qHGiw8",
        "outputId": "90712358-944a-4801-feb8-33ce89110b12"
      },
      "execution_count": null,
      "outputs": [
        {
          "output_type": "stream",
          "name": "stdout",
          "text": [
            "False\n"
          ]
        }
      ]
    },
    {
      "cell_type": "code",
      "source": [
        "# Check if the floor division of 7 by 3 is equal to the int converted value of 2.7.\n",
        "print(7 // 3 == int(2.7))"
      ],
      "metadata": {
        "colab": {
          "base_uri": "https://localhost:8080/"
        },
        "id": "vANnxBRYGwoa",
        "outputId": "f036b8a6-6dee-4f36-d663-70f2f0a13b0e"
      },
      "execution_count": null,
      "outputs": [
        {
          "output_type": "stream",
          "name": "stdout",
          "text": [
            "True\n"
          ]
        }
      ]
    },
    {
      "cell_type": "code",
      "source": [
        "# Even numbers are divisible by 2 and the remainder is zero. How do you check if a number is even or not using python?\n",
        "print(2 % 2 == 0)"
      ],
      "metadata": {
        "colab": {
          "base_uri": "https://localhost:8080/"
        },
        "id": "0z_5jCPdL0uo",
        "outputId": "ffc3480f-0e93-4c9a-965c-037f18278b22"
      },
      "execution_count": null,
      "outputs": [
        {
          "output_type": "stream",
          "name": "stdout",
          "text": [
            "True\n"
          ]
        }
      ]
    },
    {
      "cell_type": "code",
      "source": [
        "# Find the length of the text python and convert the value to float and convert it to string\n",
        "print(len('Python'))\n",
        "print(float(len('Python')))\n",
        "print(str('Python'))"
      ],
      "metadata": {
        "colab": {
          "base_uri": "https://localhost:8080/"
        },
        "id": "PzWj1mPvMQTQ",
        "outputId": "4c69bb72-19f9-4f5b-e583-ba7b2b3f6d18"
      },
      "execution_count": null,
      "outputs": [
        {
          "output_type": "stream",
          "name": "stdout",
          "text": [
            "6\n",
            "6.0\n",
            "Python\n"
          ]
        }
      ]
    },
    {
      "cell_type": "code",
      "source": [
        "# Find the length of 'python' and 'dragon' and make a falsy comparison statement.\n",
        "print(len('Python')) == (len('Dragon'))"
      ],
      "metadata": {
        "id": "k3x4yt9dQgZx",
        "colab": {
          "base_uri": "https://localhost:8080/"
        },
        "outputId": "f4a0abdd-7a71-441d-875a-b3ba76cddf6b"
      },
      "execution_count": null,
      "outputs": [
        {
          "output_type": "stream",
          "name": "stdout",
          "text": [
            "6\n"
          ]
        },
        {
          "output_type": "execute_result",
          "data": {
            "text/plain": [
              "False"
            ]
          },
          "metadata": {},
          "execution_count": 7
        }
      ]
    },
    {
      "cell_type": "code",
      "source": [
        "# Use and operator to check if 'on' is found in both 'python' and 'dragon'.\n",
        "print(('on' in 'python' and 'on' in 'dragon'))"
      ],
      "metadata": {
        "colab": {
          "base_uri": "https://localhost:8080/"
        },
        "id": "vCbSxZSMMzO_",
        "outputId": "ed7cf118-132d-4e2b-c7ac-02fe57e37b02"
      },
      "execution_count": null,
      "outputs": [
        {
          "output_type": "stream",
          "name": "stdout",
          "text": [
            "True\n"
          ]
        }
      ]
    },
    {
      "cell_type": "code",
      "source": [
        "# I hope this course is not full of jargon. Use in operator to check if jargon is in the sentence.\n",
        "print('jargon' in 'I hope this course is not full of jargon')"
      ],
      "metadata": {
        "colab": {
          "base_uri": "https://localhost:8080/"
        },
        "id": "IRUIfprjNfcY",
        "outputId": "63cccae6-c279-434c-fcc3-7fc344f223d4"
      },
      "execution_count": null,
      "outputs": [
        {
          "output_type": "stream",
          "name": "stdout",
          "text": [
            "True\n"
          ]
        }
      ]
    },
    {
      "cell_type": "code",
      "source": [
        "# There is no 'on' in both dragon and python.\n",
        "print('on' not in 'dragon' and 'on' not in 'python')"
      ],
      "metadata": {
        "colab": {
          "base_uri": "https://localhost:8080/"
        },
        "id": "qIr8tnx_PbqN",
        "outputId": "ccf76fb8-78e7-4f74-8f29-124204ae6102"
      },
      "execution_count": null,
      "outputs": [
        {
          "output_type": "stream",
          "name": "stdout",
          "text": [
            "False\n"
          ]
        }
      ]
    },
    {
      "cell_type": "code",
      "source": [
        "# Find the length of the text python and convert the value to float and convert it to string\n",
        "print(len('python'))\n",
        "print(float(len('python')))\n",
        "print(str('python'))"
      ],
      "metadata": {
        "colab": {
          "base_uri": "https://localhost:8080/"
        },
        "id": "dm4z4_GLSCam",
        "outputId": "8fd7c9fc-f014-4cac-c6c2-c26249259f1d"
      },
      "execution_count": null,
      "outputs": [
        {
          "output_type": "stream",
          "name": "stdout",
          "text": [
            "6\n",
            "6.0\n",
            "python\n"
          ]
        }
      ]
    },
    {
      "cell_type": "code",
      "source": [
        "# Even numbers are divisible by 2 and the remainder is zero. How do you check if a number is even or not using python?\n",
        "print(2 % 2 == 0)"
      ],
      "metadata": {
        "colab": {
          "base_uri": "https://localhost:8080/"
        },
        "id": "zoyf0NdCSbGf",
        "outputId": "a2213853-a016-430b-eea0-1a345909edb7"
      },
      "execution_count": null,
      "outputs": [
        {
          "output_type": "stream",
          "name": "stdout",
          "text": [
            "True\n"
          ]
        }
      ]
    },
    {
      "cell_type": "code",
      "source": [
        "# Check if the floor division of 7 by 3 is equal to the int converted value of 2.7.\n",
        "print(7 // 3 == int(2.7))"
      ],
      "metadata": {
        "colab": {
          "base_uri": "https://localhost:8080/"
        },
        "id": "lF-Ld_NiSznA",
        "outputId": "86500816-476b-4891-edc8-1902b5778bd6"
      },
      "execution_count": null,
      "outputs": [
        {
          "output_type": "stream",
          "name": "stdout",
          "text": [
            "True\n"
          ]
        }
      ]
    },
    {
      "cell_type": "code",
      "source": [
        "# Check if type of '10' is equal to type of 10\n",
        "print(type('10') == type(10))"
      ],
      "metadata": {
        "colab": {
          "base_uri": "https://localhost:8080/"
        },
        "id": "oXeiJGLMW-Fb",
        "outputId": "b09e8657-4766-4071-f019-a978f37b13c4"
      },
      "execution_count": null,
      "outputs": [
        {
          "output_type": "stream",
          "name": "stdout",
          "text": [
            "False\n"
          ]
        }
      ]
    },
    {
      "cell_type": "code",
      "source": [
        "# Check if int('9.8') is equal to 10\n",
        "print(int(9.8) == 10)"
      ],
      "metadata": {
        "colab": {
          "base_uri": "https://localhost:8080/"
        },
        "id": "Hd8ahSJVXRjT",
        "outputId": "8f44d126-5c6a-430f-e57b-53529a183a01"
      },
      "execution_count": null,
      "outputs": [
        {
          "output_type": "stream",
          "name": "stdout",
          "text": [
            "False\n"
          ]
        }
      ]
    },
    {
      "cell_type": "code",
      "source": [
        "# Writ a script that prompts the user to enter hours and rate per hour. Calculate pay of the person?\n",
        "Hours = int(input('Enter hours: '))\n",
        "Rate_Per_Hour = int(input('Enter rate per hour: '))\n",
        "pay_per_person = Hours * Rate_Per_Hour\n",
        "print(pay_per_person)\n",
        "Weekly_pay = pay_per_person * 7\n",
        "print(Weekly_pay)"
      ],
      "metadata": {
        "colab": {
          "base_uri": "https://localhost:8080/"
        },
        "id": "fFlk9317XpBU",
        "outputId": "fb96283f-9baa-499d-c876-296602615f24"
      },
      "execution_count": null,
      "outputs": [
        {
          "output_type": "stream",
          "name": "stdout",
          "text": [
            "Enter hours: 8\n",
            "Enter rate per hour: 100\n",
            "800\n",
            "5600\n"
          ]
        }
      ]
    },
    {
      "cell_type": "code",
      "source": [
        "# Write a script that prompts the user to enter number of years. Calculate the number of seconds a person can live. Assume a person can live hundred years\n",
        "number_of_years = int(input('Enter number of years: '))\n",
        "number_of_second = number_of_years * 31536000\n",
        "print(number_of_second)"
      ],
      "metadata": {
        "colab": {
          "base_uri": "https://localhost:8080/"
        },
        "id": "cBK5PH3QYdGG",
        "outputId": "950cca3c-77de-4095-f5d3-27b7bec56cd9"
      },
      "execution_count": null,
      "outputs": [
        {
          "output_type": "stream",
          "name": "stdout",
          "text": [
            "Enter number of years: 100\n",
            "3153600000\n"
          ]
        }
      ]
    },
    {
      "cell_type": "code",
      "source": [
        "# Write a Python script that displays the following table\n",
        "print('1 1 1 1 1\\n2 1 2 4 8\\n3 1 3 9 27\\n4 1 4 16 64\\n5 1 5 25 125')"
      ],
      "metadata": {
        "colab": {
          "base_uri": "https://localhost:8080/"
        },
        "id": "k7sT-gRLaRBp",
        "outputId": "c4e7e792-b948-47c9-ad6f-a6437e8a7912"
      },
      "execution_count": null,
      "outputs": [
        {
          "output_type": "stream",
          "name": "stdout",
          "text": [
            "1 1 1 1 1\n",
            "2 1 2 4 8\n",
            "3 1 3 9 27\n",
            "4 1 4 16 64\n",
            "5 1 5 25 125\n"
          ]
        }
      ]
    },
    {
      "cell_type": "code",
      "source": [
        "# Calculate the slope, x-intercept and y-intercept of y = 2x -2\n",
        "print(\"y = 2x - 2 '2' is slope\")\n",
        "print('x-intercept = 0')\n",
        "print('y-intercept = -2')"
      ],
      "metadata": {
        "colab": {
          "base_uri": "https://localhost:8080/"
        },
        "id": "5oApYkAzdLbq",
        "outputId": "dad594da-923e-4379-b72f-6787241f8eca"
      },
      "execution_count": null,
      "outputs": [
        {
          "output_type": "stream",
          "name": "stdout",
          "text": [
            "y = 2x - 2 '2' is slope\n",
            "x-intercept = 0\n",
            "y-intercept = -2\n"
          ]
        }
      ]
    },
    {
      "cell_type": "code",
      "source": [
        "# y = 2x - 2\n",
        "m = 2\n",
        "b = -2\n",
        "y_intercept = -2\n",
        "print(f'y = {m}x + {b}')"
      ],
      "metadata": {
        "colab": {
          "base_uri": "https://localhost:8080/"
        },
        "id": "vGC75me1fI6_",
        "outputId": "af92a662-6398-4681-c05f-1557d30dc0f1"
      },
      "execution_count": null,
      "outputs": [
        {
          "output_type": "stream",
          "name": "stdout",
          "text": [
            "y = 2x + -2\n"
          ]
        }
      ]
    },
    {
      "cell_type": "code",
      "source": [
        "# Calculate the slope, x-intercept and y-intercept of y = 2x -2\n",
        "m = 2\n",
        "b = -2\n",
        "    #  0 = 2x - 2\n",
        "    # x = 1\n",
        "x_intercept = (1,0)\n",
        "    #  y = 2(0) - 2\n",
        "    #  y = -2\n",
        "y_intercept = (-2,0)\n",
        "print(f'y = {m}x + {b}')"
      ],
      "metadata": {
        "id": "4NGZ-rqiuQG5",
        "colab": {
          "base_uri": "https://localhost:8080/"
        },
        "outputId": "0d3528ce-f043-4d00-eed1-8cd886969cc1"
      },
      "execution_count": null,
      "outputs": [
        {
          "output_type": "stream",
          "name": "stdout",
          "text": [
            "y = 2x + -2\n"
          ]
        }
      ]
    },
    {
      "cell_type": "code",
      "source": [
        "# Slope is (m = y2-y1/x2-x1). Find the slope and Euclidean distance between point (2, 2) and point (6,10)\n",
        "m = (10 - 2)/(6 - 2)\n",
        "# d = (x2 - x1)**2 + (y2 - y1)**2\n",
        "d = (6 - 2)**2 + (10 - 2)**2\n",
        "print(d,m)"
      ],
      "metadata": {
        "colab": {
          "base_uri": "https://localhost:8080/"
        },
        "id": "9uuW1Cbrn7HP",
        "outputId": "4758f547-3628-4951-f8ba-1d3c293b1682"
      },
      "execution_count": null,
      "outputs": [
        {
          "output_type": "stream",
          "name": "stdout",
          "text": [
            "80 2.0\n"
          ]
        }
      ]
    },
    {
      "cell_type": "code",
      "source": [
        "# Compare the slopes in tasks 8 and 9.\n"
      ],
      "metadata": {
        "id": "ejOZtQDrto4N"
      },
      "execution_count": null,
      "outputs": []
    },
    {
      "cell_type": "code",
      "source": [
        "# Calculate the value of y (y = x^2 + 6x + 9). Try to use different x values and figure out at what x value y is going to be 0.\n",
        "x = 0\n",
        "y = x**2 + 6*x + 9\n",
        "print(y)"
      ],
      "metadata": {
        "colab": {
          "base_uri": "https://localhost:8080/"
        },
        "id": "ytBiQ1F81xxk",
        "outputId": "c44e0725-2dda-42db-e602-e0714cff3544"
      },
      "execution_count": null,
      "outputs": [
        {
          "output_type": "stream",
          "name": "stdout",
          "text": [
            "9\n"
          ]
        }
      ]
    },
    {
      "cell_type": "markdown",
      "source": [
        "#Day-3 Excercise\n",
        "\n",
        "\n",
        "#STRINGS"
      ],
      "metadata": {
        "id": "VBdjEPMRTZAv"
      }
    },
    {
      "cell_type": "code",
      "source": [
        "# Concatenate the string 'Thirty', 'Days', 'Of', 'Python' to a single string, 'Thirty Days Of Python'.\n",
        "print('Thirty' + ' ' + 'Days' + ' ' + 'Of'+ ' ' + 'Python')"
      ],
      "metadata": {
        "id": "e5qWKBZY7Fai",
        "colab": {
          "base_uri": "https://localhost:8080/"
        },
        "outputId": "72d814bf-1a27-4e85-bc65-4fcdf78130aa"
      },
      "execution_count": null,
      "outputs": [
        {
          "output_type": "stream",
          "name": "stdout",
          "text": [
            "Thirty Days Of Python\n"
          ]
        }
      ]
    },
    {
      "cell_type": "code",
      "source": [
        "# Concatenate the string 'Coding', 'For' , 'All' to a single string, 'Coding For All'.\n",
        "print('Coding'+ ' ' + 'For' + ' ' + 'All')\n"
      ],
      "metadata": {
        "colab": {
          "base_uri": "https://localhost:8080/"
        },
        "id": "2Y5DPbGj4E4U",
        "outputId": "ccb4b53e-e61e-4e59-c02b-81dd54646e09"
      },
      "execution_count": null,
      "outputs": [
        {
          "output_type": "stream",
          "name": "stdout",
          "text": [
            "Coding For All\n"
          ]
        }
      ]
    },
    {
      "cell_type": "code",
      "source": [
        "# Declare a variable named company and assign it to an initial value \"Coding For All\".\n",
        "company = 'Coding For All'\n",
        "print(company)"
      ],
      "metadata": {
        "colab": {
          "base_uri": "https://localhost:8080/"
        },
        "id": "iCo-kKij5CaA",
        "outputId": "d0b810a8-0935-4a54-9585-c53bd07236b9"
      },
      "execution_count": null,
      "outputs": [
        {
          "output_type": "stream",
          "name": "stdout",
          "text": [
            "Coding For All\n"
          ]
        }
      ]
    },
    {
      "cell_type": "code",
      "source": [
        "x = 8\n",
        "y = 6\n",
        "x = x + 6\n",
        "y = y + 2\n",
        "print(\"Y\")\n"
      ],
      "metadata": {
        "colab": {
          "base_uri": "https://localhost:8080/"
        },
        "id": "uWa0ypl25hFk",
        "outputId": "3e846e30-750c-4286-ac96-30d832d8e4ae"
      },
      "execution_count": null,
      "outputs": [
        {
          "output_type": "stream",
          "name": "stdout",
          "text": [
            "Y\n"
          ]
        }
      ]
    },
    {
      "cell_type": "code",
      "source": [
        "# Print the variable company using print().\n",
        "print(f'company')"
      ],
      "metadata": {
        "id": "genkCU6m533N",
        "colab": {
          "base_uri": "https://localhost:8080/"
        },
        "outputId": "49ea38cc-af7e-4e35-e674-ab6f41f67741"
      },
      "execution_count": null,
      "outputs": [
        {
          "output_type": "stream",
          "name": "stdout",
          "text": [
            "company\n"
          ]
        }
      ]
    },
    {
      "cell_type": "code",
      "source": [
        "# Print the length of the company string using len() method and print().\n",
        "company = 'Coding For All'\n",
        "print(len(company))"
      ],
      "metadata": {
        "colab": {
          "base_uri": "https://localhost:8080/"
        },
        "id": "keVepP1UjSle",
        "outputId": "d5138a04-5abb-468d-95ce-4b579e69816f"
      },
      "execution_count": null,
      "outputs": [
        {
          "output_type": "stream",
          "name": "stdout",
          "text": [
            "14\n"
          ]
        }
      ]
    },
    {
      "cell_type": "code",
      "source": [
        "# Change all the characters to uppercase letters using upper() method.\n",
        "company = 'Coding For All'\n",
        "print(company.upper())"
      ],
      "metadata": {
        "colab": {
          "base_uri": "https://localhost:8080/"
        },
        "id": "ztvkhMlsnGYE",
        "outputId": "1b4b3402-5792-476e-bd93-c50778a13640"
      },
      "execution_count": null,
      "outputs": [
        {
          "output_type": "stream",
          "name": "stdout",
          "text": [
            "CODING FOR ALL\n"
          ]
        }
      ]
    },
    {
      "cell_type": "code",
      "source": [
        "# Change all the characters to lowercase letters using lower() method.\n",
        "company = 'Coding For All'\n",
        "print(company.lower())"
      ],
      "metadata": {
        "colab": {
          "base_uri": "https://localhost:8080/"
        },
        "id": "9_0GaEBAnVWv",
        "outputId": "231adb20-c283-416b-b225-8bdf492b5d83"
      },
      "execution_count": null,
      "outputs": [
        {
          "output_type": "stream",
          "name": "stdout",
          "text": [
            "coding for all\n"
          ]
        }
      ]
    },
    {
      "cell_type": "code",
      "source": [
        "# Use capitalize(), title(), swapcase() methods to format the value of the string Coding For All.\n",
        "company = 'Coding For All'\n",
        "print(company.capitalize())\n",
        "print(company.title())\n",
        "print(company.swapcase())"
      ],
      "metadata": {
        "colab": {
          "base_uri": "https://localhost:8080/"
        },
        "id": "xmt3PunSngxF",
        "outputId": "3aa0762e-d02a-461c-db7f-74a515305a9b"
      },
      "execution_count": null,
      "outputs": [
        {
          "output_type": "stream",
          "name": "stdout",
          "text": [
            "Coding for all\n",
            "Coding For All\n",
            "cODING fOR aLL\n"
          ]
        }
      ]
    },
    {
      "cell_type": "code",
      "source": [
        "# Cut(slice) out the first word of Coding For All string.\n",
        "company = 'Coding For All'\n",
        "print(company[7: ])"
      ],
      "metadata": {
        "colab": {
          "base_uri": "https://localhost:8080/"
        },
        "id": "jza2uYZaojbe",
        "outputId": "3665d12a-50dd-453c-a4be-08067f2faabd"
      },
      "execution_count": null,
      "outputs": [
        {
          "output_type": "stream",
          "name": "stdout",
          "text": [
            "For All\n"
          ]
        }
      ]
    },
    {
      "cell_type": "code",
      "source": [
        "company = 'Coding For All'\n",
        "print(company[0:7:])"
      ],
      "metadata": {
        "colab": {
          "base_uri": "https://localhost:8080/"
        },
        "id": "RWf0pSKto_0b",
        "outputId": "f9d7a816-4dc8-4224-bc75-15cae51f32cb"
      },
      "execution_count": null,
      "outputs": [
        {
          "output_type": "stream",
          "name": "stdout",
          "text": [
            "Coding \n"
          ]
        }
      ]
    },
    {
      "cell_type": "code",
      "source": [
        "# Check if Coding For All string contains a word Coding using the method index, find or other methods.\n",
        "company = 'Coding For All'\n",
        "print(company.index('All'))\n"
      ],
      "metadata": {
        "colab": {
          "base_uri": "https://localhost:8080/"
        },
        "id": "q5O3GvVZpm7V",
        "outputId": "e514825f-780f-464d-9f2c-434ffad5c1d4"
      },
      "execution_count": null,
      "outputs": [
        {
          "output_type": "stream",
          "name": "stdout",
          "text": [
            "11\n"
          ]
        }
      ]
    },
    {
      "cell_type": "code",
      "source": [
        "# Replace the word coding in the string 'Coding For All' to Python.\n",
        "company = 'Coding For All'\n",
        "print(company.replace('Coding For All','the word coding'))"
      ],
      "metadata": {
        "id": "xMv0ymzFzi5d",
        "colab": {
          "base_uri": "https://localhost:8080/"
        },
        "outputId": "ce22539c-31f3-4661-bccf-7a01a1f4e879"
      },
      "execution_count": null,
      "outputs": [
        {
          "output_type": "stream",
          "name": "stdout",
          "text": [
            "the word coding\n"
          ]
        }
      ]
    },
    {
      "cell_type": "code",
      "source": [
        "# Change Python for Everyone to Python for All using the replace method or other methods.\n",
        "company = 'Python for Everyone'\n",
        "print(company.replace('Python for Everyone','Python for All'))"
      ],
      "metadata": {
        "colab": {
          "base_uri": "https://localhost:8080/"
        },
        "id": "kWaWhtJWKz_b",
        "outputId": "fc6c617d-2ba0-4766-cfbc-eecc3e93f356"
      },
      "execution_count": null,
      "outputs": [
        {
          "output_type": "stream",
          "name": "stdout",
          "text": [
            "Python for All\n"
          ]
        }
      ]
    },
    {
      "cell_type": "code",
      "source": [
        "# Split the string 'Coding For All' using space as the separator (split()) .\n",
        "company = 'Coding For All'\n",
        "print(company.split())"
      ],
      "metadata": {
        "colab": {
          "base_uri": "https://localhost:8080/"
        },
        "id": "Bfuh9rIFMbKd",
        "outputId": "2cbb57e6-2f8b-4c00-e976-ca258ce98d31"
      },
      "execution_count": null,
      "outputs": [
        {
          "output_type": "stream",
          "name": "stdout",
          "text": [
            "['Coding', 'For', 'All']\n"
          ]
        }
      ]
    },
    {
      "cell_type": "code",
      "source": [
        "# \"Facebook, Google, Microsoft, Apple, IBM, Oracle, Amazon\" split the string at the comma.\n",
        "company = \"Facebook, Google, Microsoft, Apple, IBM, Oracle, Amazon\"\n",
        "print(company.split())"
      ],
      "metadata": {
        "colab": {
          "base_uri": "https://localhost:8080/"
        },
        "id": "DuuNjFw_nM5k",
        "outputId": "e28d8441-e48d-4a7c-bf75-a3cc2ebbb905"
      },
      "execution_count": null,
      "outputs": [
        {
          "output_type": "stream",
          "name": "stdout",
          "text": [
            "['Facebook,', 'Google,', 'Microsoft,', 'Apple,', 'IBM,', 'Oracle,', 'Amazon']\n"
          ]
        }
      ]
    },
    {
      "cell_type": "code",
      "source": [
        "# What is the character at index 0 in the string Coding For All.\n",
        "company = 'Coding For All'\n",
        "print(company[0])"
      ],
      "metadata": {
        "id": "8SWktTiKp3O6",
        "colab": {
          "base_uri": "https://localhost:8080/"
        },
        "outputId": "2057aa5b-4aa9-40ff-bd6e-8ba6998385c5"
      },
      "execution_count": null,
      "outputs": [
        {
          "output_type": "stream",
          "name": "stdout",
          "text": [
            "C\n"
          ]
        }
      ]
    },
    {
      "cell_type": "code",
      "source": [
        "# What is the last index of the string Coding For All.\n",
        "company = 'Coding For All'\n",
        "print(company[-1])"
      ],
      "metadata": {
        "colab": {
          "base_uri": "https://localhost:8080/"
        },
        "id": "IrRbvSJM3nub",
        "outputId": "212c5eac-f30f-41f3-c2cc-66108e83c528"
      },
      "execution_count": null,
      "outputs": [
        {
          "output_type": "stream",
          "name": "stdout",
          "text": [
            "l\n"
          ]
        }
      ]
    },
    {
      "cell_type": "code",
      "source": [
        "# What character is at index 10 in \"Coding For All\" string.\n",
        "company = 'Coding For All'\n",
        "print(company[10])"
      ],
      "metadata": {
        "colab": {
          "base_uri": "https://localhost:8080/"
        },
        "id": "NHOoEhxL370C",
        "outputId": "4cb2c315-636b-46a3-86b2-7260ba3bbee5"
      },
      "execution_count": null,
      "outputs": [
        {
          "output_type": "stream",
          "name": "stdout",
          "text": [
            " \n"
          ]
        }
      ]
    },
    {
      "cell_type": "code",
      "source": [
        "# Create an acronym or an abbreviation for the name 'Python For Everyone'.\n",
        "company = 'Python For Everyone'\n",
        "print(company.replace('Python For Everyone', 'PFE'))"
      ],
      "metadata": {
        "colab": {
          "base_uri": "https://localhost:8080/"
        },
        "id": "oUXNbrUX4FQC",
        "outputId": "6c245eaf-259c-41a9-97a5-377dcf1abb03"
      },
      "execution_count": null,
      "outputs": [
        {
          "output_type": "stream",
          "name": "stdout",
          "text": [
            "PFE\n"
          ]
        }
      ]
    },
    {
      "cell_type": "code",
      "source": [
        "# Create an acronym or an abbreviation for the name 'Coding For All'.\n",
        "company = 'Coding For All'\n",
        "print(company.replace('Coding For All', 'CFA'))"
      ],
      "metadata": {
        "colab": {
          "base_uri": "https://localhost:8080/"
        },
        "id": "RZUV6KeL4rL5",
        "outputId": "f4ef3d89-702d-4d42-cfcc-1d3711ba4b05"
      },
      "execution_count": null,
      "outputs": [
        {
          "output_type": "stream",
          "name": "stdout",
          "text": [
            "CFA\n"
          ]
        }
      ]
    },
    {
      "cell_type": "code",
      "source": [
        "# Use index to determine the position of the first occurrence of C in Coding For All.\n",
        "company = 'Coding For All'\n",
        "print(company.index('C'))\n"
      ],
      "metadata": {
        "colab": {
          "base_uri": "https://localhost:8080/"
        },
        "id": "hCM2RNKt47QM",
        "outputId": "4c71703c-b2d4-40a3-d42b-0786d932a0e2"
      },
      "execution_count": null,
      "outputs": [
        {
          "output_type": "stream",
          "name": "stdout",
          "text": [
            "0\n"
          ]
        }
      ]
    },
    {
      "cell_type": "code",
      "source": [
        "# Use index to determine the position of the first occurrence of F in Coding For All.\n",
        "company = 'Coding For All'\n",
        "print(company.index('F'))"
      ],
      "metadata": {
        "colab": {
          "base_uri": "https://localhost:8080/"
        },
        "id": "6SuJUeSZ5W8l",
        "outputId": "922bae7c-9fee-4fef-9d5e-cefb0891b344"
      },
      "execution_count": null,
      "outputs": [
        {
          "output_type": "stream",
          "name": "stdout",
          "text": [
            "7\n"
          ]
        }
      ]
    },
    {
      "cell_type": "code",
      "source": [
        "# Use rfind to determine the position of the last occurrence of l in Coding For All People.\n",
        "company = 'Coding For All People'\n",
        "print(company.rfind('l'))"
      ],
      "metadata": {
        "colab": {
          "base_uri": "https://localhost:8080/"
        },
        "id": "ZaVc-uKq9y-i",
        "outputId": "8dbe7e85-7456-454f-a1d9-57f9c23d956a"
      },
      "execution_count": null,
      "outputs": [
        {
          "output_type": "stream",
          "name": "stdout",
          "text": [
            "19\n"
          ]
        }
      ]
    },
    {
      "cell_type": "code",
      "source": [
        "# Use index or find to find the position of the first occurrence of the word 'because' in the following sentence: 'You cannot end a sentence with because because because is a conjunction'\n",
        "sentence = 'You cannot end a sentence with because because because is a conjunction'\n",
        "print(sentence.index('because'))"
      ],
      "metadata": {
        "colab": {
          "base_uri": "https://localhost:8080/"
        },
        "id": "7E3_Aot8-DTA",
        "outputId": "49a3ff0b-c4c8-4a5f-9d8f-f59a25bab9fc"
      },
      "execution_count": null,
      "outputs": [
        {
          "output_type": "stream",
          "name": "stdout",
          "text": [
            "31\n"
          ]
        }
      ]
    },
    {
      "cell_type": "code",
      "source": [
        "# Use rindex to find the position of the last occurrence of the word because in the following sentence: 'You cannot end a sentence with because because because is a conjunction'\n",
        "sentence = 'You cannot end a sentence with because because because is a conjuction'\n",
        "print(sentence.rindex('because'))"
      ],
      "metadata": {
        "id": "nSc5A36b_B6P",
        "colab": {
          "base_uri": "https://localhost:8080/"
        },
        "outputId": "d3190974-9bc4-4756-c5bb-f24e6b8999a7"
      },
      "execution_count": null,
      "outputs": [
        {
          "output_type": "stream",
          "name": "stdout",
          "text": [
            "47\n"
          ]
        }
      ]
    },
    {
      "cell_type": "code",
      "source": [
        "# Slice out the phrase 'because because because' in the following sentence: 'You cannot end a sentence with because because because is a conjunction'\\\n",
        "sentence = 'You cannot end a sentence with because because because is a conjunction'\n",
        "print(sentence.index('because'))\n",
        "print(sentence[31:39])\n",
        "print(sentence[31:54])"
      ],
      "metadata": {
        "id": "m1OEgGfv4YYp",
        "colab": {
          "base_uri": "https://localhost:8080/"
        },
        "outputId": "3d7d7666-89fa-4e9d-f774-91e8a2f0914b"
      },
      "execution_count": null,
      "outputs": [
        {
          "output_type": "stream",
          "name": "stdout",
          "text": [
            "31\n",
            "because \n",
            "because because because\n"
          ]
        }
      ]
    },
    {
      "cell_type": "code",
      "source": [
        "# Find the position of the first occurrence of the word 'because' in the following sentence: 'You cannot end a sentence with because because because is a conjunction'\n",
        "sentence = 'You cannot end a sentence with because because because is a conjunction'\n",
        "print(sentence.index('because'))"
      ],
      "metadata": {
        "colab": {
          "base_uri": "https://localhost:8080/"
        },
        "id": "E0OoyZBazrDg",
        "outputId": "5e2d9e98-924a-47d1-cbe9-595210dd7c92"
      },
      "execution_count": null,
      "outputs": [
        {
          "output_type": "stream",
          "name": "stdout",
          "text": [
            "31\n"
          ]
        }
      ]
    },
    {
      "cell_type": "code",
      "source": [
        "# Slice out the phrase 'because because because' in the following sentence: 'You cannot end a sentence with because because because is a conjunction'\n",
        "sentence = 'You cannot end a sentence with because because because is a conjunction'\n",
        "print(sentence[31:39])"
      ],
      "metadata": {
        "colab": {
          "base_uri": "https://localhost:8080/"
        },
        "id": "da4RCKzZ7RtZ",
        "outputId": "78d953f9-81c0-4be1-f25a-4313c9f728d7"
      },
      "execution_count": null,
      "outputs": [
        {
          "output_type": "stream",
          "name": "stdout",
          "text": [
            "because \n"
          ]
        }
      ]
    },
    {
      "cell_type": "code",
      "source": [
        "# Does ''Coding For All' start with a substring Coding?\n",
        "company = 'Coding For All'\n",
        "print(company.startswith('For'))"
      ],
      "metadata": {
        "colab": {
          "base_uri": "https://localhost:8080/"
        },
        "id": "3Huzy00p7tx2",
        "outputId": "5f3b3f3c-557e-4232-c613-420e3450699b"
      },
      "execution_count": null,
      "outputs": [
        {
          "output_type": "stream",
          "name": "stdout",
          "text": [
            "False\n"
          ]
        }
      ]
    },
    {
      "cell_type": "code",
      "source": [
        "# Does 'Coding For All' end with a substring coding?\n",
        "company = 'Coding For All'\n",
        "print(company.endswith('All'))"
      ],
      "metadata": {
        "colab": {
          "base_uri": "https://localhost:8080/"
        },
        "id": "rcpK0sNw9vga",
        "outputId": "f2833d30-1ac1-4378-e7bb-20bc16f8df8e"
      },
      "execution_count": null,
      "outputs": [
        {
          "output_type": "stream",
          "name": "stdout",
          "text": [
            "True\n"
          ]
        }
      ]
    },
    {
      "cell_type": "code",
      "source": [
        "# '   Coding For All      '  , remove the left and right trailing spaces in the given string.\n",
        "company = '   Coding For All      '\n",
        "print(company.strip())"
      ],
      "metadata": {
        "colab": {
          "base_uri": "https://localhost:8080/"
        },
        "id": "k7ogPhljKv8E",
        "outputId": "3c026411-2f02-4082-dd9f-fea903997be3"
      },
      "execution_count": null,
      "outputs": [
        {
          "output_type": "stream",
          "name": "stdout",
          "text": [
            "Coding For All\n"
          ]
        }
      ]
    },
    {
      "cell_type": "code",
      "source": [
        "# Which one of the following variables return True when we use the method isidentifier():\n",
        "# 30DaysOfPython\n",
        "# thirty_days_of_python\n",
        "company = '30DaysOfPython'\n",
        "company_1 = 'thirty_days_of_python'\n",
        "print(company.isidentifier())\n",
        "print(company_1.isidentifier())"
      ],
      "metadata": {
        "colab": {
          "base_uri": "https://localhost:8080/"
        },
        "id": "QM6OGduALT_J",
        "outputId": "43ca890a-cf05-4650-f0d9-f6de05a81542"
      },
      "execution_count": null,
      "outputs": [
        {
          "output_type": "stream",
          "name": "stdout",
          "text": [
            "False\n",
            "True\n"
          ]
        }
      ]
    },
    {
      "cell_type": "code",
      "source": [
        "# The following list contains the names of some of python libraries: ['Django', 'Flask', 'Bottle', 'Pyramid', 'Falcon']. Join the list with a hash with space string.\n",
        "Df = ['Django','Flask','Bottle','Pyramid','Falcon']\n",
        "result = ('# '.join(Df))\n",
        "print(result)"
      ],
      "metadata": {
        "colab": {
          "base_uri": "https://localhost:8080/"
        },
        "id": "RD6fPIAWMsgF",
        "outputId": "b5c1560d-8bb3-41ba-d4a9-a8f600afa06b"
      },
      "execution_count": null,
      "outputs": [
        {
          "output_type": "stream",
          "name": "stdout",
          "text": [
            "Django# Flask# Bottle# Pyramid# Falcon\n"
          ]
        }
      ]
    },
    {
      "cell_type": "code",
      "source": [
        "# Use the new line escape sequence to separate the following sentences.\n",
        "print('I am enjoying this challenge.\\nI just wonder what is next.')"
      ],
      "metadata": {
        "colab": {
          "base_uri": "https://localhost:8080/"
        },
        "id": "RnlRx6HwPXYA",
        "outputId": "eabacdac-a277-44d4-c8b1-2e43267f1e0c"
      },
      "execution_count": null,
      "outputs": [
        {
          "output_type": "stream",
          "name": "stdout",
          "text": [
            "I am enjoying this challenge.\n",
            "I just wonder what is next.\n"
          ]
        }
      ]
    },
    {
      "cell_type": "code",
      "source": [
        "# Use a tab escape sequence to write the following lines.\n",
        "Intro = ('NameAge,Country,City\\nAsabeneh,250,Finland,Helsinki')\n",
        "logic = (Intro.replace(',','\\t'))\n",
        "print(logic)"
      ],
      "metadata": {
        "colab": {
          "base_uri": "https://localhost:8080/"
        },
        "id": "I4O_YLrnb_cx",
        "outputId": "4a287e73-ca1a-4deb-c380-2146e4ef9501"
      },
      "execution_count": null,
      "outputs": [
        {
          "output_type": "stream",
          "name": "stdout",
          "text": [
            "NameAge\tCountry\tCity\n",
            "Asabeneh\t250\tFinland\tHelsinki\n"
          ]
        }
      ]
    },
    {
      "cell_type": "code",
      "source": [
        "# Use the string formatting method to display the following:\n",
        "radius = 10\n",
        "area = 3.14 * radius ** 2\n",
        "result = 'The area of a circle with radius {} is {} meters square.'.format(radius,area)\n",
        "print(result)"
      ],
      "metadata": {
        "colab": {
          "base_uri": "https://localhost:8080/"
        },
        "id": "SNCJa6FBeHYW",
        "outputId": "2dc05008-6de0-4383-ad38-2ed81de1e037"
      },
      "execution_count": null,
      "outputs": [
        {
          "output_type": "stream",
          "name": "stdout",
          "text": [
            "The area of a circle with radius 10 is 314.0 meters square.\n"
          ]
        }
      ]
    },
    {
      "cell_type": "code",
      "source": [
        "# Make the following using string formatting methods:\n",
        "# 8 + 6 = 14\n",
        "# 8 - 6 = 2\n",
        "# 8 * 6 = 48\n",
        "# 8 / 6 = 1.33\n",
        "# 8 % 6 = 2\n",
        "# 8 // 6 = 1\n",
        "# 8 ** 6 = 262144\n",
        "num1 = 8\n",
        "num2 = 6\n",
        "Add = ('The addition of {} and {} is {}.').format(num1,num2,num1 + num2)\n",
        "print(Add)\n",
        "num1 = 8\n",
        "num2 = 6\n",
        "Subtract = ('The subtraction of {} and {} is {}.').format(num1,num2,num1 - num2)\n",
        "print(Subtract)\n",
        "num1 = 8\n",
        "num2 = 6\n",
        "Multiply = ('The multiplication of {} and {} is {}.').format(num1,num2,num1 * num2)\n",
        "print(Multiply)\n",
        "num1 = 8\n",
        "num2 = 6\n",
        "Divide = ('The division of {} and {} is {}.').format(num1,num2,num1 / num2)\n",
        "print(Divide)\n",
        "num1 = 8\n",
        "num2 = 6\n",
        "Remainder = ('The remainder of {} and {} is {}.').format(num1,num2,num1%num2)\n",
        "print(Remainder)\n",
        "num1 = 8\n",
        "num2 = 6\n",
        "floor_division = ('The floor division of {} and {} is {}.').format(num1,num2,num1//num2)\n",
        "print(floor_division)\n",
        "num1 = 8\n",
        "num2 = 6\n",
        "Exponent = ('The exponent of {} and {} is {}.').format(num1,num2,num1**num2)\n",
        "print(Exponent)"
      ],
      "metadata": {
        "colab": {
          "base_uri": "https://localhost:8080/"
        },
        "id": "CXphGGxHIbQD",
        "outputId": "5f0aa3c2-d2d8-4a7b-8689-6e340f1e57dc"
      },
      "execution_count": null,
      "outputs": [
        {
          "output_type": "stream",
          "name": "stdout",
          "text": [
            "The addition of 8 and 6 is 14.\n",
            "The subtraction of 8 and 6 is 2.\n",
            "The multiplication of 8 and 6 is 48.\n",
            "The division of 8 and 6 is 1.3333333333333333.\n",
            "The remainder of 8 and 6 is 2.\n",
            "The floor division of 8 and 6 is 1.\n",
            "The exponent of 8 and 6 is 262144.\n"
          ]
        }
      ]
    },
    {
      "cell_type": "markdown",
      "source": [
        "#DAY 5\n",
        "#List"
      ],
      "metadata": {
        "id": "1JyX2PDQQbyr"
      }
    },
    {
      "cell_type": "code",
      "source": [
        "lst = [1,'Fizan']\n",
        "print(lst)"
      ],
      "metadata": {
        "id": "LVA8JzkgLw9E",
        "colab": {
          "base_uri": "https://localhost:8080/"
        },
        "outputId": "77265c12-9afb-4e35-db00-612a96b6e97e"
      },
      "execution_count": null,
      "outputs": [
        {
          "output_type": "stream",
          "name": "stdout",
          "text": [
            "[1, 'Fizan']\n"
          ]
        }
      ]
    },
    {
      "cell_type": "code",
      "source": [
        "lst1 = []\n",
        "print(lst1)"
      ],
      "metadata": {
        "id": "0-v5s3vs7YmO",
        "colab": {
          "base_uri": "https://localhost:8080/"
        },
        "outputId": "776832df-e039-413a-b3b2-01dc8489da47"
      },
      "execution_count": null,
      "outputs": [
        {
          "output_type": "stream",
          "name": "stdout",
          "text": [
            "[]\n"
          ]
        }
      ]
    },
    {
      "cell_type": "code",
      "source": [
        "dict = {'Name': 'Fizan Latif','City': 'Bahawalpur'}\n",
        "print(type(dict))\n",
        "print(dict)\n",
        "print(dict['Name'])\n"
      ],
      "metadata": {
        "id": "StUCMNBSKaG2",
        "colab": {
          "base_uri": "https://localhost:8080/"
        },
        "outputId": "fae6ee85-a9dd-4af0-9611-97750e3ae457"
      },
      "execution_count": null,
      "outputs": [
        {
          "output_type": "stream",
          "name": "stdout",
          "text": [
            "<class 'dict'>\n",
            "{'Name': 'Fizan Latif', 'City': 'Bahawalpur'}\n",
            "Fizan Latif\n"
          ]
        }
      ]
    },
    {
      "cell_type": "code",
      "source": [
        "fruits = ['Apple','Banana','Orange','Mango','Grapes']\n",
        "Fruits = fruits[-3]\n",
        "print(Fruits)"
      ],
      "metadata": {
        "colab": {
          "base_uri": "https://localhost:8080/"
        },
        "id": "qpE0m9O2fYII",
        "outputId": "b0e0e2fe-03d6-4c22-f399-169060a62b17"
      },
      "execution_count": null,
      "outputs": [
        {
          "output_type": "stream",
          "name": "stdout",
          "text": [
            "Orange\n"
          ]
        }
      ]
    },
    {
      "cell_type": "code",
      "source": [
        "# Unpacking List Items\n",
        "counting = [1,3,5,7,8,9,4,3,7,10]\n",
        "first_num,second_num, *rest,tenth,seventh = counting\n",
        "print(first_num)\n",
        "print(second_num)\n",
        "print(rest)\n",
        "print(tenth)\n",
        "print(seventh)"
      ],
      "metadata": {
        "colab": {
          "base_uri": "https://localhost:8080/"
        },
        "id": "mcmOW-9Qkd6j",
        "outputId": "6683ebac-8edf-4f3a-9844-a2451eab6db1"
      },
      "execution_count": null,
      "outputs": [
        {
          "output_type": "stream",
          "name": "stdout",
          "text": [
            "1\n",
            "3\n",
            "[5, 7, 8, 9, 4, 3]\n",
            "7\n",
            "10\n"
          ]
        }
      ]
    },
    {
      "cell_type": "code",
      "source": [
        "# Slicing Items from a List\n",
        "lst = ['Apple','Banana','Orange','Mango','Grapes']\n",
        "print(lst[::-1])\n",
        "vegetable = ['Carrot','Potato','Tomato','Ladyfinger']\n",
        "print(vegetable[1:3])"
      ],
      "metadata": {
        "id": "6mKa7VmGyqyn",
        "colab": {
          "base_uri": "https://localhost:8080/"
        },
        "outputId": "661736d1-b75f-44ba-ffc8-f7e5daf2c5a8"
      },
      "execution_count": null,
      "outputs": [
        {
          "output_type": "stream",
          "name": "stdout",
          "text": [
            "['Grapes', 'Mango', 'Orange', 'Banana', 'Apple']\n",
            "['Potato', 'Tomato']\n"
          ]
        }
      ]
    },
    {
      "cell_type": "code",
      "source": [
        "# Modifying List\n",
        "fruits = ['Apple','Banana','Orange','Mango','Grapes']\n",
        "fruits[0] = 'Pineapple'\n",
        "print(fruits)\n",
        "animals = ['Lion','Tiger','Leopard','Monkey']\n",
        "animals[2] = 'Donkey'\n",
        "print(animals)"
      ],
      "metadata": {
        "colab": {
          "base_uri": "https://localhost:8080/"
        },
        "id": "IuhBfDXHLPUY",
        "outputId": "6eac50fd-22f0-4d38-e5fb-a9ee11a22ed3"
      },
      "execution_count": null,
      "outputs": [
        {
          "output_type": "stream",
          "name": "stdout",
          "text": [
            "['Pineapple', 'Banana', 'Orange', 'Mango', 'Grapes']\n",
            "['Lion', 'Tiger', 'Donkey', 'Monkey']\n"
          ]
        }
      ]
    },
    {
      "cell_type": "code",
      "source": [
        "# Checking Items in a List\n",
        "fruits = ['Apple','Banana','Orange','Mango','Grapes']\n",
        "does_exist = 'Orange' in fruits\n",
        "print(does_exist)\n",
        "does_not_exist = 'Pineapple' in fruits\n",
        "print(does_not_exist)"
      ],
      "metadata": {
        "colab": {
          "base_uri": "https://localhost:8080/"
        },
        "id": "bjLNOFx7URNX",
        "outputId": "64f067c7-1a37-42d8-df5a-a3844a96bed3"
      },
      "execution_count": null,
      "outputs": [
        {
          "output_type": "stream",
          "name": "stdout",
          "text": [
            "True\n",
            "False\n"
          ]
        }
      ]
    },
    {
      "cell_type": "code",
      "source": [
        "# Adding Items to a List\n",
        "fruits = ['Apple','Banana','Orange','Mango','Grapes']\n",
        "fruits.append('Pineapple')\n",
        "print(fruits)\n",
        "vegetable = ['Carrot','Potato','Tomato','Ladyfinger']\n",
        "vegetable.append('Onion')\n",
        "print(vegetable)"
      ],
      "metadata": {
        "colab": {
          "base_uri": "https://localhost:8080/"
        },
        "id": "6YADNISyV88y",
        "outputId": "fb08254a-74f4-4ae4-8a70-058442f1ca5e"
      },
      "execution_count": null,
      "outputs": [
        {
          "output_type": "stream",
          "name": "stdout",
          "text": [
            "['Apple', 'Banana', 'Orange', 'Mango', 'Grapes', 'Pineapple']\n",
            "['Carrot', 'Potato', 'Tomato', 'Ladyfinger', 'Onion']\n"
          ]
        }
      ]
    },
    {
      "cell_type": "code",
      "source": [
        "# Inserting Items into a List\n",
        "fruits = ['Apple','Banana','Orange','Mango','Grapes']\n",
        "fruits.insert(2,'Pineapple')\n",
        "print(fruits)\n",
        "vegetable = ['Carrot','Potato','Tomato','Ladyfinger']\n",
        "vegetable.insert(3,'Onion')\n",
        "print(vegetable)"
      ],
      "metadata": {
        "id": "ok97EQmYWg0q",
        "colab": {
          "base_uri": "https://localhost:8080/"
        },
        "outputId": "ad867ce0-7d30-43ca-b68b-2deec1a19c69"
      },
      "execution_count": null,
      "outputs": [
        {
          "output_type": "stream",
          "name": "stdout",
          "text": [
            "['Apple', 'Banana', 'Pineapple', 'Orange', 'Mango', 'Grapes']\n",
            "['Carrot', 'Potato', 'Tomato', 'Onion', 'Ladyfinger']\n"
          ]
        }
      ]
    },
    {
      "cell_type": "code",
      "source": [
        "# Removing Items from a List\n",
        "fruits = ['Apple','Banana','Orange','Mango','Grapes']\n",
        "fruits.remove('Apple')\n",
        "print(fruits)\n",
        "vegetable = ['Carrot','Potato','Tomato','Ladyfinger']\n",
        "vegetable.remove('Potato')\n",
        "print(vegetable)"
      ],
      "metadata": {
        "colab": {
          "base_uri": "https://localhost:8080/"
        },
        "id": "9PV4fTYVBzvn",
        "outputId": "34593253-0523-4fd0-b3de-8dfcdfd4d335"
      },
      "execution_count": null,
      "outputs": [
        {
          "output_type": "stream",
          "name": "stdout",
          "text": [
            "['Banana', 'Orange', 'Mango', 'Grapes']\n",
            "['Carrot', 'Tomato', 'Ladyfinger']\n"
          ]
        }
      ]
    },
    {
      "cell_type": "code",
      "source": [
        "# Removing Items Using Pop\n",
        "fruits = ['Apple','Banana','Orange','Mango','Grapes']\n",
        "fruits.pop()\n",
        "print(fruits)\n",
        "vegetable = ['Carrot','Potato','Tomato','Ladyfinger']\n",
        "vegetable.pop(2)\n",
        "print(vegetable)"
      ],
      "metadata": {
        "colab": {
          "base_uri": "https://localhost:8080/"
        },
        "id": "UC1UAqRmCKX2",
        "outputId": "b16e0ca3-a37a-40b6-863f-c4ab96d9ff7b"
      },
      "execution_count": null,
      "outputs": [
        {
          "output_type": "stream",
          "name": "stdout",
          "text": [
            "['Apple', 'Banana', 'Orange', 'Mango']\n",
            "['Carrot', 'Potato', 'Ladyfinger']\n"
          ]
        }
      ]
    },
    {
      "cell_type": "code",
      "source": [
        "# Removing Items Using del\n",
        "fruits = ['Apple','Banana','Orange','Mango','Grapes']\n",
        "del fruits[0:4]\n",
        "print(fruits)\n",
        "vegetable = ['Carrot','Potato','Tomato','Ladyfinger']\n",
        "del vegetable[3]\n",
        "print(vegetable)"
      ],
      "metadata": {
        "colab": {
          "base_uri": "https://localhost:8080/"
        },
        "id": "h0FfUnkAErgF",
        "outputId": "bd4c4fc2-d3f3-414d-e861-23d7214ab671"
      },
      "execution_count": null,
      "outputs": [
        {
          "output_type": "stream",
          "name": "stdout",
          "text": [
            "['Grapes']\n",
            "['Carrot', 'Potato', 'Tomato']\n"
          ]
        }
      ]
    },
    {
      "cell_type": "code",
      "source": [
        "# Clearing List Items\n",
        "fruits = ['Apple','Banana','Orange','Mango','Grapes']\n",
        "fruits.clear()\n",
        "print(fruits)"
      ],
      "metadata": {
        "colab": {
          "base_uri": "https://localhost:8080/"
        },
        "id": "8UbQjK9UFjKb",
        "outputId": "35f22d43-eb89-4ba6-b96b-7cf60c53ade7"
      },
      "execution_count": null,
      "outputs": [
        {
          "output_type": "stream",
          "name": "stdout",
          "text": [
            "[]\n"
          ]
        }
      ]
    },
    {
      "cell_type": "code",
      "source": [
        "# Copying a List\n",
        "fruits = ['Apple','Banana','Orange','Mango','Grapes']\n",
        "fruits_copy = fruits.copy()\n",
        "fruits_copy.append('Pineapple')\n",
        "print(fruits_copy)"
      ],
      "metadata": {
        "colab": {
          "base_uri": "https://localhost:8080/"
        },
        "id": "4nrkj_XaGWDB",
        "outputId": "6947a810-9dcb-4168-c167-4d25a187e215"
      },
      "execution_count": null,
      "outputs": [
        {
          "output_type": "stream",
          "name": "stdout",
          "text": [
            "['Apple', 'Banana', 'Orange', 'Mango', 'Grapes', 'Pineapple']\n"
          ]
        }
      ]
    },
    {
      "cell_type": "code",
      "source": [
        "# Joining Lists\n",
        "fruits = ['Apple','Banana','Orange','Mango','Grapes']\n",
        "vegetable = ['Carrot','Potato','Tomato','Ladyfinger']\n",
        "veg_fru = fruits + vegetable\n",
        "print(veg_fru)\n",
        "vegetable.extend(fruits)\n",
        "print(vegetable)"
      ],
      "metadata": {
        "colab": {
          "base_uri": "https://localhost:8080/"
        },
        "id": "pJgRPiuNGygw",
        "outputId": "5f632587-41bd-4125-bb7d-062fd56248d0"
      },
      "execution_count": null,
      "outputs": [
        {
          "output_type": "stream",
          "name": "stdout",
          "text": [
            "['Apple', 'Banana', 'Orange', 'Mango', 'Grapes', 'Carrot', 'Potato', 'Tomato', 'Ladyfinger']\n",
            "['Carrot', 'Potato', 'Tomato', 'Ladyfinger', 'Apple', 'Banana', 'Orange', 'Mango', 'Grapes']\n"
          ]
        }
      ]
    },
    {
      "cell_type": "code",
      "source": [
        "# Reversing a List\n",
        "fruits = ['Apple','Banana','Orange','Mango','Grapes']\n",
        "fruits.reverse()\n",
        "print(fruits)\n",
        "vegetable = ['Carrot','Potato','Tomato','Ladyfinger']\n",
        "vegetable.reverse()\n",
        "print(vegetable)"
      ],
      "metadata": {
        "colab": {
          "base_uri": "https://localhost:8080/"
        },
        "id": "nShvwvWSgBFK",
        "outputId": "4cdb9d71-59eb-4e20-b132-14d3b76a4043"
      },
      "execution_count": null,
      "outputs": [
        {
          "output_type": "stream",
          "name": "stdout",
          "text": [
            "['Grapes', 'Mango', 'Orange', 'Banana', 'Apple']\n",
            "['Ladyfinger', 'Tomato', 'Potato', 'Carrot']\n"
          ]
        }
      ]
    },
    {
      "cell_type": "code",
      "source": [
        "# Sorting List Items\n",
        "fruits = ['Apple','Banana','Orange','Mango','Grapes']\n",
        "fruits.sort(reverse = True)\n",
        "print(fruits)"
      ],
      "metadata": {
        "colab": {
          "base_uri": "https://localhost:8080/"
        },
        "id": "43tZSnWF4PBf",
        "outputId": "c180351d-a8ff-4fc2-fd10-b2b359733ccd"
      },
      "execution_count": null,
      "outputs": [
        {
          "output_type": "stream",
          "name": "stdout",
          "text": [
            "['Orange', 'Mango', 'Grapes', 'Banana', 'Apple']\n"
          ]
        }
      ]
    },
    {
      "cell_type": "code",
      "source": [
        "# Sorted List Items\n",
        "fruits = ['Apple','Banana','Orange','Mango','Grapes']\n",
        "sorted_fruits = sorted(fruits)\n",
        "print(sorted_fruits)"
      ],
      "metadata": {
        "colab": {
          "base_uri": "https://localhost:8080/"
        },
        "id": "D90JY_L94gUn",
        "outputId": "c11d878d-271c-4d55-9f85-47fd65e59326"
      },
      "execution_count": null,
      "outputs": [
        {
          "output_type": "stream",
          "name": "stdout",
          "text": [
            "['Apple', 'Banana', 'Grapes', 'Mango', 'Orange']\n"
          ]
        }
      ]
    },
    {
      "cell_type": "markdown",
      "source": [
        "#💻 Exercises: Day 5\n"
      ],
      "metadata": {
        "id": "Y3CFgAhc5Cs5"
      }
    },
    {
      "cell_type": "code",
      "source": [
        "# Declare an empty list\n",
        "lst = []\n",
        "print(lst)"
      ],
      "metadata": {
        "colab": {
          "base_uri": "https://localhost:8080/"
        },
        "id": "HdNIh8YS4-zJ",
        "outputId": "978bf418-6fc0-4a24-f7c3-4593da9a18fc"
      },
      "execution_count": null,
      "outputs": [
        {
          "output_type": "stream",
          "name": "stdout",
          "text": [
            "[]\n"
          ]
        }
      ]
    },
    {
      "cell_type": "code",
      "source": [
        "# Declare a list with more than 5 items\n",
        "numbers = [3,5,7,4,3,2,1]\n",
        "print(numbers)"
      ],
      "metadata": {
        "colab": {
          "base_uri": "https://localhost:8080/"
        },
        "id": "MRrw_Bkn5bfZ",
        "outputId": "d909716f-5ef7-4967-dda5-f023098490b2"
      },
      "execution_count": null,
      "outputs": [
        {
          "output_type": "stream",
          "name": "stdout",
          "text": [
            "[3, 5, 7, 4, 3, 2, 1]\n"
          ]
        }
      ]
    },
    {
      "cell_type": "code",
      "source": [
        "# Find the length of your list\n",
        "numbers = [3,5,7,4,3,2,1]\n",
        "print(len(numbers))"
      ],
      "metadata": {
        "colab": {
          "base_uri": "https://localhost:8080/"
        },
        "id": "CBQx_kiP5nCZ",
        "outputId": "3f954d78-46e2-4dea-af56-2546dc133e7f"
      },
      "execution_count": null,
      "outputs": [
        {
          "output_type": "stream",
          "name": "stdout",
          "text": [
            "7\n"
          ]
        }
      ]
    },
    {
      "cell_type": "code",
      "source": [
        "# Get the first item, the middle item and the last item of the list\n",
        "numbers = [3,5,7,4,3,2,1]\n",
        "print(numbers[0])\n",
        "print(numbers[-1])\n",
        "print(numbers[3])"
      ],
      "metadata": {
        "colab": {
          "base_uri": "https://localhost:8080/"
        },
        "id": "H7Xslvvd52Uz",
        "outputId": "6369888f-0260-48ae-c4ef-c587d2c5bcf5"
      },
      "execution_count": null,
      "outputs": [
        {
          "output_type": "stream",
          "name": "stdout",
          "text": [
            "3\n",
            "1\n",
            "4\n"
          ]
        }
      ]
    },
    {
      "cell_type": "code",
      "source": [
        "# Declare a list called mixed_data_types, put your(name, age, height, marital status, address)\n",
        "mixed_data_types = ['FizanLatif',19,5.8,'Non Married','Pakistan']\n",
        "print(mixed_data_types)"
      ],
      "metadata": {
        "colab": {
          "base_uri": "https://localhost:8080/"
        },
        "id": "5LnLe7iTAHV5",
        "outputId": "2828d26d-c6e5-4bd3-b599-7bc53e6af428"
      },
      "execution_count": null,
      "outputs": [
        {
          "output_type": "stream",
          "name": "stdout",
          "text": [
            "['FizanLatif', 19, 5.8, 'Non Married', 'Pakistan']\n"
          ]
        }
      ]
    },
    {
      "cell_type": "code",
      "source": [
        "# Declare a list variable named it_companies and assign initial values Facebook, Google, Microsoft, Apple, IBM, Oracle and Amazon.\n",
        "it_companies = ['Facebook','Google','Microsoft','Apple','IBM','Oracle','Amazon']\n",
        "print(it_companies)"
      ],
      "metadata": {
        "colab": {
          "base_uri": "https://localhost:8080/"
        },
        "id": "uVKe3egyD4OW",
        "outputId": "abaa6529-4470-47a3-8115-54d8a83b73cf"
      },
      "execution_count": null,
      "outputs": [
        {
          "output_type": "stream",
          "name": "stdout",
          "text": [
            "['Facebook', 'Google', 'Microsoft', 'Apple', 'IBM', 'Oracle', 'Amazon']\n"
          ]
        }
      ]
    },
    {
      "cell_type": "code",
      "source": [
        "# Print the list using print()\n",
        "print(it_companies)"
      ],
      "metadata": {
        "colab": {
          "base_uri": "https://localhost:8080/"
        },
        "id": "cGbaV-bYEW2k",
        "outputId": "fbe44993-2447-4126-8fb0-0b739457771f"
      },
      "execution_count": null,
      "outputs": [
        {
          "output_type": "stream",
          "name": "stdout",
          "text": [
            "['Facebook', 'Google', 'Microsoft', 'Apple', 'IBM', 'Oracle', 'Amazon']\n"
          ]
        }
      ]
    },
    {
      "cell_type": "code",
      "source": [
        "# Print the number of companies in the list\n",
        "print(len(it_companies))"
      ],
      "metadata": {
        "colab": {
          "base_uri": "https://localhost:8080/"
        },
        "id": "EFn7L_ThEdeD",
        "outputId": "0472b881-304e-4287-aa12-3789f20564b2"
      },
      "execution_count": null,
      "outputs": [
        {
          "output_type": "stream",
          "name": "stdout",
          "text": [
            "7\n"
          ]
        }
      ]
    },
    {
      "cell_type": "code",
      "source": [
        "# Print the first, middle and last company\n",
        "print(it_companies[0])\n",
        "print(it_companies[3])\n",
        "print(it_companies[-1])"
      ],
      "metadata": {
        "colab": {
          "base_uri": "https://localhost:8080/"
        },
        "id": "TVWhKMjqEks8",
        "outputId": "5b14574b-97f0-47ad-f1f7-895af5fbf818"
      },
      "execution_count": null,
      "outputs": [
        {
          "output_type": "stream",
          "name": "stdout",
          "text": [
            "Facebook\n",
            "Apple\n",
            "Amazon\n"
          ]
        }
      ]
    },
    {
      "cell_type": "code",
      "source": [
        "# Print the list after modifying one of the companies\n",
        "it_companies[2] = 'Tesla'\n",
        "print(it_companies)"
      ],
      "metadata": {
        "colab": {
          "base_uri": "https://localhost:8080/"
        },
        "id": "OO0C5e5NE93F",
        "outputId": "44867349-3246-4820-b7a6-f90c3035e432"
      },
      "execution_count": null,
      "outputs": [
        {
          "output_type": "stream",
          "name": "stdout",
          "text": [
            "['Facebook', 'Google', 'Tesla', 'Apple', 'IBM', 'Oracle', 'Amazon']\n"
          ]
        }
      ]
    },
    {
      "cell_type": "code",
      "source": [
        "# Add an IT company to it_companies\n",
        "it_companies.append('Openai')\n",
        "print(it_companies)"
      ],
      "metadata": {
        "colab": {
          "base_uri": "https://localhost:8080/"
        },
        "id": "1gkdMsAaH7vf",
        "outputId": "07a52c55-68a4-4072-c2b2-ff230938efb6"
      },
      "execution_count": null,
      "outputs": [
        {
          "output_type": "stream",
          "name": "stdout",
          "text": [
            "['Facebook', 'Google', 'Tesla', 'Apple', 'IBM', 'Oracle', 'Amazon', 'Openai']\n"
          ]
        }
      ]
    },
    {
      "cell_type": "code",
      "source": [
        "# Insert an IT company in the middle of the companies list\n",
        "it_companies = ['Facebook', 'Google', 'Tesla', 'Apple', 'IBM', 'Oracle', 'Amazon', 'Openai']\n",
        "it_companies.insert(3,'X')\n",
        "print(it_companies)"
      ],
      "metadata": {
        "colab": {
          "base_uri": "https://localhost:8080/"
        },
        "id": "MSisgz39InW5",
        "outputId": "d6d34b8c-5e42-47b0-daf6-eac3f1fe0154"
      },
      "execution_count": null,
      "outputs": [
        {
          "output_type": "stream",
          "name": "stdout",
          "text": [
            "['Facebook', 'Google', 'Tesla', 'X', 'Apple', 'IBM', 'Oracle', 'Amazon', 'Openai']\n"
          ]
        }
      ]
    },
    {
      "cell_type": "code",
      "source": [
        "# Change one of the it_companies names to uppercase (IBM excluded!)\n",
        "it_companies[1] = 'GOOGLE'\n",
        "print(it_companies)"
      ],
      "metadata": {
        "colab": {
          "base_uri": "https://localhost:8080/"
        },
        "id": "JszbNgJ2t9Pa",
        "outputId": "441fda1a-0fea-4dd1-de56-22f818b2a167"
      },
      "execution_count": null,
      "outputs": [
        {
          "output_type": "stream",
          "name": "stdout",
          "text": [
            "['Facebook', 'GOOGLE', 'Tesla', 'X', 'Apple', 'IBM', 'Oracle', 'Amazon', 'Openai']\n"
          ]
        }
      ]
    },
    {
      "cell_type": "code",
      "source": [
        "# Join the it_companies with a string '#;  '\n",
        "it_companies = ['Facebook', 'GOOGLE', 'Tesla', 'X', 'Apple', 'IBM', 'Oracle', 'Amazon', 'Openai']\n",
        "print('# '.join(it_companies))\n"
      ],
      "metadata": {
        "colab": {
          "base_uri": "https://localhost:8080/"
        },
        "id": "_j-hVqEBvzEb",
        "outputId": "99193f1e-9b61-485a-a83c-835eb09ba4a5"
      },
      "execution_count": null,
      "outputs": [
        {
          "output_type": "stream",
          "name": "stdout",
          "text": [
            "Facebook# GOOGLE# Tesla# X# Apple# IBM# Oracle# Amazon# Openai\n"
          ]
        }
      ]
    },
    {
      "cell_type": "code",
      "source": [
        "# Check if a certain company exists in the it_companies list.\n",
        "print('WhatsApp' in  it_companies)"
      ],
      "metadata": {
        "colab": {
          "base_uri": "https://localhost:8080/"
        },
        "id": "T6v9zVLfwWq2",
        "outputId": "357476e8-a288-4532-9dbd-b5f360ad5855"
      },
      "execution_count": null,
      "outputs": [
        {
          "output_type": "stream",
          "name": "stdout",
          "text": [
            "False\n"
          ]
        }
      ]
    },
    {
      "cell_type": "code",
      "source": [
        "# Sort the list using sort() method\n",
        "it_companies.sort()\n",
        "print(it_companies)"
      ],
      "metadata": {
        "colab": {
          "base_uri": "https://localhost:8080/"
        },
        "id": "qCaJuaLv6jAN",
        "outputId": "4831c650-951c-4c5b-f479-89db1fb3a55d"
      },
      "execution_count": null,
      "outputs": [
        {
          "output_type": "stream",
          "name": "stdout",
          "text": [
            "['Amazon', 'Apple', 'Facebook', 'GOOGLE', 'IBM', 'Openai', 'Oracle', 'Tesla', 'X']\n"
          ]
        }
      ]
    },
    {
      "cell_type": "code",
      "source": [
        "# Reverse the list in descending order using reverse() method\n",
        "it_companies.reverse()\n",
        "print(it_companies)"
      ],
      "metadata": {
        "colab": {
          "base_uri": "https://localhost:8080/"
        },
        "id": "ODO1vHOW7O_A",
        "outputId": "fd5473c7-e553-478f-ebd4-9a6116587035"
      },
      "execution_count": null,
      "outputs": [
        {
          "output_type": "stream",
          "name": "stdout",
          "text": [
            "['X', 'Tesla', 'Oracle', 'Openai', 'IBM', 'GOOGLE', 'Facebook', 'Apple', 'Amazon']\n"
          ]
        }
      ]
    },
    {
      "cell_type": "code",
      "source": [
        "# Slice out the first 3 companies from the list\n",
        "it_companies.sort()\n",
        "print(it_companies[0:3])"
      ],
      "metadata": {
        "colab": {
          "base_uri": "https://localhost:8080/"
        },
        "id": "oGs170e27jgJ",
        "outputId": "81e815c4-ef7e-42a5-f4b0-91d2f847a654"
      },
      "execution_count": null,
      "outputs": [
        {
          "output_type": "stream",
          "name": "stdout",
          "text": [
            "['Amazon', 'Apple', 'Facebook']\n"
          ]
        }
      ]
    },
    {
      "cell_type": "code",
      "source": [
        "# Slice out the last 3 companies from the list\n",
        "print(it_companies[-3:])"
      ],
      "metadata": {
        "colab": {
          "base_uri": "https://localhost:8080/"
        },
        "id": "oVXcQjJK7t7Y",
        "outputId": "22fea253-fe1e-416a-9cf3-f8f094c058e0"
      },
      "execution_count": null,
      "outputs": [
        {
          "output_type": "stream",
          "name": "stdout",
          "text": [
            "['Oracle', 'Tesla', 'X']\n"
          ]
        }
      ]
    },
    {
      "cell_type": "code",
      "source": [
        "# Slice out the middle IT company or companies from the list\n",
        "print(len(it_companies))\n",
        "print(it_companies)\n",
        "print(it_companies[4])"
      ],
      "metadata": {
        "colab": {
          "base_uri": "https://localhost:8080/"
        },
        "id": "PyRymUKL7_Ei",
        "outputId": "5ccc36a8-1d01-4ffe-b785-a948ee55c0b8"
      },
      "execution_count": null,
      "outputs": [
        {
          "output_type": "stream",
          "name": "stdout",
          "text": [
            "9\n",
            "['Amazon', 'Apple', 'Facebook', 'GOOGLE', 'IBM', 'Openai', 'Oracle', 'Tesla', 'X']\n",
            "IBM\n"
          ]
        }
      ]
    },
    {
      "cell_type": "code",
      "source": [
        "# Remove the first IT company from the list\n",
        "it_companies.remove('Apple')\n",
        "print(it_companies)"
      ],
      "metadata": {
        "colab": {
          "base_uri": "https://localhost:8080/"
        },
        "id": "zes7EqgJ8L9a",
        "outputId": "1a991261-d5eb-498a-f94e-0d374cb235f7"
      },
      "execution_count": null,
      "outputs": [
        {
          "output_type": "stream",
          "name": "stdout",
          "text": [
            "['GOOGLE', 'IBM', 'Openai', 'Oracle', 'Tesla']\n"
          ]
        }
      ]
    },
    {
      "cell_type": "code",
      "source": [
        "# Remove the middle IT company or companies from the list\n",
        "print(it_companies)\n",
        "print(it_companies.pop(2))\n",
        "print(it_companies)"
      ],
      "metadata": {
        "colab": {
          "base_uri": "https://localhost:8080/"
        },
        "id": "QIeo7TOCAl6V",
        "outputId": "a02200f9-ebff-43d1-9a1e-bb5297fba0b4"
      },
      "execution_count": null,
      "outputs": [
        {
          "output_type": "stream",
          "name": "stdout",
          "text": [
            "['GOOGLE', 'IBM', 'Oracle']\n",
            "Oracle\n",
            "['GOOGLE', 'IBM']\n"
          ]
        }
      ]
    },
    {
      "cell_type": "code",
      "source": [
        "# Remove all IT companies from the list\n",
        "it_companies = ['Facebook', 'GOOGLE', 'Tesla', 'X', 'Apple', 'IBM', 'Oracle', 'Amazon', 'Openai']\n",
        "it_companies.clear()\n",
        "print(it_companies)"
      ],
      "metadata": {
        "colab": {
          "base_uri": "https://localhost:8080/"
        },
        "id": "0nDud5NAI4M6",
        "outputId": "2bd5582d-7b3e-4249-e327-87f688dfb429"
      },
      "execution_count": null,
      "outputs": [
        {
          "output_type": "stream",
          "name": "stdout",
          "text": [
            "[]\n"
          ]
        }
      ]
    },
    {
      "cell_type": "code",
      "source": [
        "# Destroy the IT companies list\n",
        "it_companies = ['Facebook', 'GOOGLE', 'Tesla', 'X', 'Apple', 'IBM', 'Oracle', 'Amazon', 'Openai']\n",
        "del it_companies"
      ],
      "metadata": {
        "id": "ScdQf-xoKCLt"
      },
      "execution_count": null,
      "outputs": []
    },
    {
      "cell_type": "code",
      "source": [
        "# Join the following lists:\n",
        "front_end = ['HTML', 'CSS', 'JS', 'React', 'Redux']\n",
        "back_end = ['Node','Express', 'MongoDB']\n",
        "joined_lst = front_end + back_end\n",
        "print(joined_lst)"
      ],
      "metadata": {
        "colab": {
          "base_uri": "https://localhost:8080/"
        },
        "id": "Gq4gRjwpKPCl",
        "outputId": "f9f98e09-90b5-44d9-9214-fa8ddccfbf34"
      },
      "execution_count": null,
      "outputs": [
        {
          "output_type": "stream",
          "name": "stdout",
          "text": [
            "['HTML', 'CSS', 'JS', 'React', 'Redux', 'Node', 'Express', 'MongoDB']\n"
          ]
        }
      ]
    },
    {
      "cell_type": "code",
      "source": [
        "# After joining the lists in question 26. Copy the joined list and assign it to a variable full_stack. Then insert Python and SQL after Redux.\n",
        "full_stack = joined_lst.copy()\n",
        "print(full_stack)\n",
        "full_stack.insert(4,'Python')\n",
        "full_stack.insert(2,'SQL')\n",
        "print(full_stack)"
      ],
      "metadata": {
        "colab": {
          "base_uri": "https://localhost:8080/"
        },
        "id": "QZudtsUONBHB",
        "outputId": "1f168986-2ac3-4daf-8531-77e259cf3f20"
      },
      "execution_count": null,
      "outputs": [
        {
          "output_type": "stream",
          "name": "stdout",
          "text": [
            "['HTML', 'CSS', 'JS', 'React', 'Redux', 'Node', 'Express', 'MongoDB']\n",
            "['HTML', 'CSS', 'SQL', 'JS', 'React', 'Python', 'Redux', 'Node', 'Express', 'MongoDB']\n"
          ]
        }
      ]
    },
    {
      "cell_type": "markdown",
      "source": [
        "#Exercises: Level 2\n"
      ],
      "metadata": {
        "id": "JjA_pToaQC3x"
      }
    },
    {
      "cell_type": "code",
      "source": [
        "ages = [19, 22, 19, 24, 20, 25, 26, 24, 25, 24]\n",
        "#Sort the list and find the min and max age\n",
        "ages.sort()\n",
        "print(ages)\n",
        "min_age = (ages[0])\n",
        "max_age = (ages[-1])\n",
        "print(ages[0])\n",
        "print(ages[-1])\n",
        "#Add the min age and the max age again to the list\n",
        "add_Ages = min_age + max_age\n",
        "x = ('The sum of {} and {} are {}.').format(min_age, max_age,add_Ages)\n",
        "print(x)"
      ],
      "metadata": {
        "colab": {
          "base_uri": "https://localhost:8080/"
        },
        "id": "uy9TZmRfQWC6",
        "outputId": "fa82d2bd-7e27-4e4c-8c27-04b569c117fe"
      },
      "execution_count": null,
      "outputs": [
        {
          "output_type": "stream",
          "name": "stdout",
          "text": [
            "[19, 19, 20, 22, 24, 24, 24, 25, 25, 26]\n",
            "19\n",
            "26\n",
            "The sum of 19 and 26 are 45.\n"
          ]
        }
      ]
    },
    {
      "cell_type": "code",
      "source": [
        "# Find the median age (one middle item or two middle items divided by two)\n",
        "ages = [19, 22, 19, 24, 20, 25, 26, 24, 25, 24]\n",
        "ages.sort()\n",
        "add = (ages[4] + ages[5])//2\n",
        "print(add)"
      ],
      "metadata": {
        "colab": {
          "base_uri": "https://localhost:8080/"
        },
        "id": "nhIvdLjvduCo",
        "outputId": "3c39a9a7-0177-4002-eee3-985b5ad4212e"
      },
      "execution_count": null,
      "outputs": [
        {
          "output_type": "stream",
          "name": "stdout",
          "text": [
            "24\n"
          ]
        }
      ]
    },
    {
      "cell_type": "code",
      "source": [
        "# Find the average age (sum of all items divided by their number )\n",
        "ages = [19, 22, 19, 24, 20, 25, 26, 24, 25, 24]\n",
        "ages.sort()\n",
        "add = sum(ages)\n",
        "print(add/len(ages))"
      ],
      "metadata": {
        "id": "0HFu5dQx0AeQ",
        "colab": {
          "base_uri": "https://localhost:8080/"
        },
        "outputId": "3bf48f5b-e524-4a5e-a313-a8af944d6b1c"
      },
      "execution_count": null,
      "outputs": [
        {
          "output_type": "stream",
          "name": "stdout",
          "text": [
            "22.8\n"
          ]
        }
      ]
    },
    {
      "cell_type": "code",
      "source": [
        "# Find the range of the ages (max minus min)\n",
        "ages = [19, 22, 19, 24, 20, 25, 26, 24, 25, 24]\n",
        "ages.sort()\n",
        "print(ages[-1] - ages[0])"
      ],
      "metadata": {
        "colab": {
          "base_uri": "https://localhost:8080/"
        },
        "id": "5HAqK0BTMgMd",
        "outputId": "5cb09cd3-c444-417d-d327-668f58702c3c"
      },
      "execution_count": null,
      "outputs": [
        {
          "output_type": "stream",
          "name": "stdout",
          "text": [
            "7\n"
          ]
        }
      ]
    },
    {
      "cell_type": "code",
      "source": [
        "# Compare the value of (min - average) and (max - average), use abs() method\n",
        "ages = [19, 22, 19, 24, 20, 25, 26, 24, 25, 24]\n",
        "ages.sort()\n",
        "print(ages)\n",
        "min = ages[0]\n",
        "max = ages[-1]\n",
        "avg = sum(ages)/len(ages)\n",
        "print(abs(min - avg))\n",
        "print(abs(max - avg))"
      ],
      "metadata": {
        "colab": {
          "base_uri": "https://localhost:8080/"
        },
        "id": "XvoOY66Re1yA",
        "outputId": "1bf2d1e5-1151-4a0c-b64f-635a15463ddb"
      },
      "execution_count": null,
      "outputs": [
        {
          "output_type": "stream",
          "name": "stdout",
          "text": [
            "[19, 19, 20, 22, 24, 24, 24, 25, 25, 26]\n",
            "3.8000000000000007\n",
            "3.1999999999999993\n"
          ]
        }
      ]
    },
    {
      "cell_type": "code",
      "source": [
        "countries = [\n",
        "  'Afghanistan',\n",
        "  'Albania',\n",
        "  'Algeria',\n",
        "  'Andorra',\n",
        "  'Angola',\n",
        "  'Antigua and Barbuda',\n",
        "  'Argentina',\n",
        "  'Armenia',\n",
        "  'Australia',\n",
        "  'Austria',\n",
        "  'Azerbaijan',\n",
        "  'Bahamas',\n",
        "  'Bahrain',\n",
        "  'Bangladesh',\n",
        "  'Barbados',\n",
        "  'Belarus',\n",
        "  'Belgium',\n",
        "  'Belize',\n",
        "  'Benin',\n",
        "  'Bhutan',\n",
        "  'Bolivia',\n",
        "  'Bosnia and Herzegovina',\n",
        "  'Botswana',\n",
        "  'Brazil',\n",
        "  'Brunei',\n",
        "  'Bulgaria',\n",
        "  'Burkina Faso',\n",
        "  'Burundi',\n",
        "  'Cambodia',\n",
        "  'Cameroon',\n",
        "  'Canada',\n",
        "  'Cape Verde',\n",
        "  'Central African Republic',\n",
        "  'Chad',\n",
        "  'Chile',\n",
        "  'China',\n",
        "  'Colombi',\n",
        "  'Comoros',\n",
        "  'Congo (Brazzaville)',\n",
        "  'Congo',\n",
        "  'Costa Rica',\n",
        "  \"Cote d'Ivoire\",\n",
        "  'Croatia',\n",
        "  'Cuba',\n",
        "  'Cyprus',\n",
        "  'Czech Republic',\n",
        "  'Denmark',\n",
        "  'Djibouti',\n",
        "  'Dominica',\n",
        "  'Dominican Republic',\n",
        "  'East Timor (Timor Timur)',\n",
        "  'Ecuador',\n",
        "  'Egypt',\n",
        "  'El Salvador',\n",
        "  'Equatorial Guinea',\n",
        "  'Eritrea',\n",
        "  'Estonia',\n",
        "  'Ethiopia',\n",
        "  'Fiji',\n",
        "  'Finland',\n",
        "  'France',\n",
        "  'Gabon',\n",
        "  'Gambia, The',\n",
        "  'Georgia',\n",
        "  'Germany',\n",
        "  'Ghana',\n",
        "  'Greece',\n",
        "  'Grenada',\n",
        "  'Guatemala',\n",
        "  'Guinea',\n",
        "  'Guinea-Bissau',\n",
        "  'Guyana',\n",
        "  'Haiti',\n",
        "  'Honduras',\n",
        "  'Hungary',\n",
        "  'Iceland',\n",
        "  'India',\n",
        "  'Indonesia',\n",
        "  'Iran',\n",
        "  'Iraq',\n",
        "  'Ireland',\n",
        "  'Israel',\n",
        "  'Italy',\n",
        "  'Jamaica',\n",
        "  'Japan',\n",
        "  'Jordan',\n",
        "  'Kazakhstan',\n",
        "  'Kenya',\n",
        "  'Kiribati',\n",
        "  'Korea, North',\n",
        "  'Korea, South',\n",
        "  'Kuwait',\n",
        "  'Kyrgyzstan',\n",
        "  'Laos',\n",
        "  'Latvia',\n",
        "  'Lebanon',\n",
        "  'Lesotho',\n",
        "  'Liberia',\n",
        "  'Libya',\n",
        "  'Liechtenstein',\n",
        "  'Lithuania',\n",
        "  'Luxembourg',\n",
        "  'Macedonia',\n",
        "  'Madagascar',\n",
        "  'Malawi',\n",
        "  'Malaysia',\n",
        "  'Maldives',\n",
        "  'Mali',\n",
        "  'Malta',\n",
        "  'Marshall Islands',\n",
        "  'Mauritania',\n",
        "  'Mauritius',\n",
        "  'Mexico',\n",
        "  'Micronesia',\n",
        "  'Moldova',\n",
        "  'Monaco',\n",
        "  'Mongolia',\n",
        "  'Morocco',\n",
        "  'Mozambique',\n",
        "  'Myanmar',\n",
        "  'Namibia',\n",
        "  'Nauru',\n",
        "  'Nepal',\n",
        "  'Netherlands',\n",
        "  'New Zealand',\n",
        "  'Nicaragua',\n",
        "  'Niger',\n",
        "  'Nigeria',\n",
        "  'Norway',\n",
        "  'Oman',\n",
        "  'Pakistan',\n",
        "  'Palau',\n",
        "  'Panama',\n",
        "  'Papua New Guinea',\n",
        "  'Paraguay',\n",
        "  'Peru',\n",
        "  'Philippines',\n",
        "  'Poland',\n",
        "  'Portugal',\n",
        "  'Qatar',\n",
        "  'Romania',\n",
        "  'Russia',\n",
        "  'Rwanda',\n",
        "  'Saint Kitts and Nevis',\n",
        "  'Saint Lucia',\n",
        "  'Saint Vincent',\n",
        "  'Samoa',\n",
        "  'San Marino',\n",
        "  'Sao Tome and Principe',\n",
        "  'Saudi Arabia',\n",
        "  'Senegal',\n",
        "  'Serbia and Montenegro',\n",
        "  'Seychelles',\n",
        "  'Sierra Leone',\n",
        "  'Singapore',\n",
        "  'Slovakia',\n",
        "  'Slovenia',\n",
        "  'Solomon Islands',\n",
        "  'Somalia',\n",
        "  'South Africa',\n",
        "  'Spain',\n",
        "  'Sri Lanka',\n",
        "  'Sudan',\n",
        "  'Suriname',\n",
        "  'Swaziland',\n",
        "  'Sweden',\n",
        "  'Switzerland',\n",
        "  'Syria',\n",
        "  'Taiwan',\n",
        "  'Tajikistan',\n",
        "  'Tanzania',\n",
        "  'Thailand',\n",
        "  'Togo',\n",
        "  'Tonga',\n",
        "  'Trinidad and Tobago',\n",
        "  'Tunisia',\n",
        "  'Turkey',\n",
        "  'Turkmenistan',\n",
        "  'Tuvalu',\n",
        "  'Uganda',\n",
        "  'Ukraine',\n",
        "  'United Arab Emirates',\n",
        "  'United Kingdom',\n",
        "  'United States',\n",
        "  'Uruguay',\n",
        "  'Uzbekistan',\n",
        "  'Vanuatu',\n",
        "  'Vatican City',\n",
        "  'Venezuela',\n",
        "  'Vietnam',\n",
        "  'Yemen',\n",
        "  'Zambia',\n",
        "  'Zimbabwe',\n",
        "];\n",
        "x = (len(countries))\n",
        "y = (len(countries))//2\n",
        "print(x)\n",
        "print(y)\n",
        "print(countries[96])"
      ],
      "metadata": {
        "colab": {
          "base_uri": "https://localhost:8080/"
        },
        "id": "_XvnoD5kxKlN",
        "outputId": "c11c4b69-ac0f-455d-c496-68616d3e07c7"
      },
      "execution_count": null,
      "outputs": [
        {
          "output_type": "stream",
          "name": "stdout",
          "text": [
            "193\n",
            "96\n",
            "Lesotho\n"
          ]
        }
      ]
    },
    {
      "cell_type": "code",
      "source": [
        "# Divide the countries list into two equal lists if it is even if not one more country for the first half."
      ],
      "metadata": {
        "id": "Y1uTKaEb0cJt"
      },
      "execution_count": null,
      "outputs": []
    },
    {
      "cell_type": "code",
      "source": [
        "# ['China', 'Russia', 'USA', 'Finland', 'Sweden', 'Norway', 'Denmark']. Unpack the first three countries and the rest as scandic countries.\n",
        "countries = ['China', 'Russia', 'USA', 'Finland', 'Sweden', 'Norway', 'Denmark']\n",
        "first_country, Second_country, Third_country, *scandic_countries = countries\n",
        "print(first_country)\n",
        "print(Second_country)\n",
        "print(Third_country)\n",
        "print(scandic_countries)"
      ],
      "metadata": {
        "colab": {
          "base_uri": "https://localhost:8080/"
        },
        "id": "dr3pBRT2QLco",
        "outputId": "9c1ad9c2-a0cc-46d2-a85a-c5c0f1fcea69"
      },
      "execution_count": null,
      "outputs": [
        {
          "output_type": "stream",
          "name": "stdout",
          "text": [
            "China\n",
            "Russia\n",
            "USA\n",
            "['Finland', 'Sweden', 'Norway', 'Denmark']\n"
          ]
        }
      ]
    },
    {
      "cell_type": "markdown",
      "source": [
        "# Day 6\n",
        "# Tuple\n",
        "# Excercise: Day 6"
      ],
      "metadata": {
        "id": "dzygdd2TTPfY"
      }
    },
    {
      "cell_type": "code",
      "source": [
        "# Create an empty tuple\n",
        "tlp = ()\n",
        "print(tlp)"
      ],
      "metadata": {
        "id": "EJ4rOie_S4Fi",
        "colab": {
          "base_uri": "https://localhost:8080/"
        },
        "outputId": "af7055e7-c5e1-467c-b364-9d8624e230b0"
      },
      "execution_count": null,
      "outputs": [
        {
          "output_type": "stream",
          "name": "stdout",
          "text": [
            "()\n"
          ]
        }
      ]
    },
    {
      "cell_type": "code",
      "source": [
        "# Create a tuple containing names of your sisters and your brothers (imaginary siblings are fine)\n",
        "sis_tlp = ('Olivia','Emma','Charlotte','Amelia','Sophia','Mia','Isabella','Ava')\n",
        "bro_tlp = ('Romeo','Josue','Francisco','Bodhi','Cyrus','Koa','Angelo','Aidan')\n",
        "print(sis_tlp)\n",
        "print(bro_tlp)\n",
        "# Join brothers and sisters tuples and assign it to siblings\n",
        "sibling = sis_tlp + bro_tlp\n",
        "print(sibling)\n",
        "# How many siblings do you have?\n",
        "print(len(sibling))"
      ],
      "metadata": {
        "id": "cciUNQlj0YR3",
        "colab": {
          "base_uri": "https://localhost:8080/"
        },
        "outputId": "0530d0dc-317e-4c3b-9ca3-15f5f952d26c"
      },
      "execution_count": null,
      "outputs": [
        {
          "output_type": "stream",
          "name": "stdout",
          "text": [
            "('Olivia', 'Emma', 'Charlotte', 'Amelia', 'Sophia', 'Mia', 'Isabella', 'Ava')\n",
            "('Romeo', 'Josue', 'Francisco', 'Bodhi', 'Cyrus', 'Koa', 'Angelo', 'Aidan')\n",
            "('Olivia', 'Emma', 'Charlotte', 'Amelia', 'Sophia', 'Mia', 'Isabella', 'Ava', 'Romeo', 'Josue', 'Francisco', 'Bodhi', 'Cyrus', 'Koa', 'Angelo', 'Aidan')\n",
            "16\n"
          ]
        }
      ]
    },
    {
      "cell_type": "code",
      "source": [
        "from typing import List\n",
        "# Modify the siblings tuple and add the name of your father and mother and assign it to family_members\n",
        "sibling = ('Olivia', 'Emma', 'Charlotte', 'Amelia', 'Sophia', 'Mia', 'Isabella', 'Ava', 'Romeo', 'Josue', 'Francisco', 'Bodhi', 'Cyrus', 'Koa', 'Angelo', 'Aidan')\n",
        "sibling = list(sibling)\n",
        "sibling.remove('Isabella')\n",
        "sibling.append('Naura')\n",
        "sibling.append('Ayesha')\n",
        "family_members= tuple(sibling)\n",
        "print(family_members)"
      ],
      "metadata": {
        "colab": {
          "base_uri": "https://localhost:8080/"
        },
        "id": "So_5lby_J7sz",
        "outputId": "cf050748-32f8-4a0c-a082-24a30d14117d"
      },
      "execution_count": null,
      "outputs": [
        {
          "output_type": "stream",
          "name": "stdout",
          "text": [
            "('Olivia', 'Emma', 'Charlotte', 'Amelia', 'Sophia', 'Mia', 'Ava', 'Romeo', 'Josue', 'Francisco', 'Bodhi', 'Cyrus', 'Koa', 'Angelo', 'Aidan', 'Naura', 'Ayesha')\n"
          ]
        }
      ]
    },
    {
      "cell_type": "markdown",
      "source": [
        "# Excercise: Level 2\n"
      ],
      "metadata": {
        "id": "El85CaFzLqGg"
      }
    },
    {
      "cell_type": "code",
      "source": [
        "# Unpack siblings and parents from family_members\n",
        "family_members = ('Olivia', 'Emma', 'Charlotte', 'Amelia', 'Sophia', 'Mia', 'Isabella', 'Ava', 'Romeo', 'Josue', 'Francisco', 'Bodhi', 'Cyrus', 'Koa', 'Angelo', 'Aidan', 'Naura', 'Ayesha')\n",
        "siblings, parents, *rest = family_members\n",
        "print(siblings)\n",
        "print(parents)"
      ],
      "metadata": {
        "colab": {
          "base_uri": "https://localhost:8080/"
        },
        "id": "tzEgo78fLVId",
        "outputId": "e54b21d1-6b87-404f-cfdb-0101e4ad21ac"
      },
      "execution_count": null,
      "outputs": [
        {
          "output_type": "stream",
          "name": "stdout",
          "text": [
            "Olivia\n",
            "Emma\n"
          ]
        }
      ]
    },
    {
      "cell_type": "code",
      "source": [
        "# Create fruits, vegetables and animal products tuples. Join the three tuples and assign it to a variable called food_stuff_tp.\n",
        "fruits = ('Apple','Orange','Banana','Mango')\n",
        "vegetable = ('Onion','Potato','Ladyfinger','Cucumber')\n",
        "animal = ('Dog','Lion','Tiger','Cat')\n",
        "food_stuff_tp = fruits + vegetable + animal\n",
        "print(food_stuff_tp)"
      ],
      "metadata": {
        "id": "AofIEyqzMNAZ",
        "colab": {
          "base_uri": "https://localhost:8080/"
        },
        "outputId": "f3a2e313-5c30-45ef-a034-37d5eb603d64"
      },
      "execution_count": null,
      "outputs": [
        {
          "output_type": "stream",
          "name": "stdout",
          "text": [
            "('Apple', 'Orange', 'Banana', 'Mango', 'Onion', 'Potato', 'Ladyfinger', 'Cucumber', 'Dog', 'Lion', 'Tiger', 'Cat')\n"
          ]
        }
      ]
    },
    {
      "cell_type": "code",
      "source": [
        "# Change the about food_stuff_tp tuple to a food_stuff_lt list\n",
        "food_stuff_lp = list(food_stuff_tp)\n",
        "print(food_stuff_lp)"
      ],
      "metadata": {
        "colab": {
          "base_uri": "https://localhost:8080/"
        },
        "id": "OtytxMd_jZLS",
        "outputId": "c42d514a-e499-4e81-bc67-34d7f0a7c4ae"
      },
      "execution_count": null,
      "outputs": [
        {
          "output_type": "stream",
          "name": "stdout",
          "text": [
            "['Apple', 'Orange', 'Banana', 'Mango', 'Onion', 'Potato', 'Ladyfinger', 'Cucumber', 'Dog', 'Lion', 'Tiger', 'Cat']\n"
          ]
        }
      ]
    },
    {
      "cell_type": "code",
      "source": [
        "# Slice out the middle item or items from the food_stuff_tp tuple or food_stuff_lt list.\n",
        "print(len(food_stuff_tp))\n",
        "print(food_stuff_tp[5:7])"
      ],
      "metadata": {
        "colab": {
          "base_uri": "https://localhost:8080/"
        },
        "id": "Rz5PpNGunaBM",
        "outputId": "829829c8-83c5-4038-8927-d4bcc605d7aa"
      },
      "execution_count": null,
      "outputs": [
        {
          "output_type": "stream",
          "name": "stdout",
          "text": [
            "12\n",
            "('Potato', 'Ladyfinger')\n"
          ]
        }
      ]
    },
    {
      "cell_type": "code",
      "source": [
        "# Slice out the first three items and the last three items from food_staff_lt list\n",
        "print(food_stuff_lp[0:3])\n",
        "print(food_stuff_lp[-3:])"
      ],
      "metadata": {
        "id": "ethQuFi7qnId",
        "colab": {
          "base_uri": "https://localhost:8080/"
        },
        "outputId": "821b1bb0-36e2-4d93-9512-16ee15d81465"
      },
      "execution_count": null,
      "outputs": [
        {
          "output_type": "stream",
          "name": "stdout",
          "text": [
            "['Apple', 'Orange', 'Banana']\n",
            "['Lion', 'Tiger', 'Cat']\n"
          ]
        }
      ]
    },
    {
      "cell_type": "code",
      "source": [
        "# Delete the food_staff_tp tuple completely\n",
        "del food_stuff_tp"
      ],
      "metadata": {
        "id": "k3Ui6SS9BTK-"
      },
      "execution_count": null,
      "outputs": []
    },
    {
      "cell_type": "code",
      "source": [
        "\n",
        "# Check if an item exists in tuple:\n",
        "# Check if 'Estonia' is a nordic country\n",
        "\n",
        "# Check if 'Iceland' is a nordic country\n",
        "nordic_countries = ('Denmark', 'Finland','Iceland', 'Norway', 'Sweden')\n",
        "print('Denmark' in nordic_countries)\n",
        "\n",
        "print('Estonia' in nordic_countries)\n",
        "print('Iceland' in nordic_countries)"
      ],
      "metadata": {
        "colab": {
          "base_uri": "https://localhost:8080/"
        },
        "id": "MGxz58YTBnPO",
        "outputId": "7887b7a1-4a1e-4ba0-fdac-28ae062207b0"
      },
      "execution_count": null,
      "outputs": [
        {
          "output_type": "stream",
          "name": "stdout",
          "text": [
            "True\n",
            "False\n",
            "True\n"
          ]
        }
      ]
    },
    {
      "cell_type": "markdown",
      "source": [
        "# Day 7\n",
        "# Sets"
      ],
      "metadata": {
        "id": "wzlZpwi3EFGw"
      }
    },
    {
      "cell_type": "code",
      "source": [
        "# # sets\n",
        "it_companies = {'Facebook', 'Google', 'Microsoft', 'Apple', 'IBM', 'Oracle', 'Amazon'}\n",
        "A = {19, 22, 24, 20, 25, 26}\n",
        "B = {19, 22, 20, 25, 26, 24, 28, 27}\n",
        "age = [22, 19, 24, 25, 26, 24, 25, 24]\n",
        "# Find the length of the set it_companies\n",
        "# Add 'Twitter' to it_companies\n",
        "# Insert multiple IT companies at once to the set it_companies\n",
        "# Remove one of the companies from the set it_companies\n",
        "# What is the difference between remove and discard\n",
        "print(len(it_companies))\n",
        "it_companies.add('Twitter')\n",
        "print(it_companies)\n",
        "it_companies.remove('Twitter')\n",
        "print(it_companies)\n",
        "nums = {2,4,6,7,10}\n",
        "nums.discard(4)\n",
        "nums.remove(2)\n",
        "print(nums)"
      ],
      "metadata": {
        "id": "SG9iPbWBDrya",
        "colab": {
          "base_uri": "https://localhost:8080/"
        },
        "outputId": "8eb47b9f-2c97-42da-d522-f85030ded421"
      },
      "execution_count": null,
      "outputs": [
        {
          "output_type": "stream",
          "name": "stdout",
          "text": [
            "7\n",
            "{'Apple', 'Amazon', 'Facebook', 'IBM', 'Microsoft', 'Twitter', 'Oracle', 'Google'}\n",
            "{'Apple', 'Amazon', 'Facebook', 'IBM', 'Microsoft', 'Oracle', 'Google'}\n",
            "{6, 7, 10}\n"
          ]
        }
      ]
    },
    {
      "cell_type": "code",
      "source": [
        "# Join A and B\n",
        "C = A.union(B)\n",
        "print(C)\n",
        "# Find A intersection B\n",
        "A = {19, 22, 24, 20, 25, 26}\n",
        "B = {19, 22, 20, 25, 26, 24, 28, 27}\n",
        "print(A.intersection(B))\n",
        "# Is A subset of B\n",
        "print(A.issubset(B))\n",
        "# Are A and B disjoint sets\n",
        "print(A.isdisjoint(B))\n",
        "num = {1,3,4,5,6}\n",
        "num1 = {2,7,8,9,0}\n",
        "print(num.isdisjoint(B))"
      ],
      "metadata": {
        "colab": {
          "base_uri": "https://localhost:8080/"
        },
        "id": "CPAw-UvUmqcS",
        "outputId": "a8a933f3-4b38-4556-ffe1-7bc0e1ebd329"
      },
      "execution_count": null,
      "outputs": [
        {
          "output_type": "stream",
          "name": "stdout",
          "text": [
            "{19, 20, 22, 24, 25, 26, 27, 28}\n",
            "{19, 20, 22, 24, 25, 26}\n",
            "True\n",
            "False\n",
            "True\n"
          ]
        }
      ]
    },
    {
      "cell_type": "code",
      "source": [
        "# Creating a Dictionary\n",
        "empty_dict = {}\n",
        "print(empty_dict)"
      ],
      "metadata": {
        "id": "zIB_S9sesk1Q",
        "colab": {
          "base_uri": "https://localhost:8080/"
        },
        "outputId": "b8295c01-b4ad-440a-ac96-cba49de24a6c"
      },
      "execution_count": null,
      "outputs": [
        {
          "output_type": "stream",
          "name": "stdout",
          "text": [
            "{}\n"
          ]
        }
      ]
    },
    {
      "cell_type": "code",
      "source": [
        "person = {\n",
        "    'first_name': 'John',\n",
        "    'last_name': 'Smith',\n",
        "    'age': 30,\n",
        "    'country': 'USA',\n",
        "}\n",
        "rperson = dict(first_name = 'John', last_name = 'Smith', age = 30, country = 'USA')\n",
        "print(person)\n",
        "print(rperson)"
      ],
      "metadata": {
        "colab": {
          "base_uri": "https://localhost:8080/"
        },
        "id": "EoA2TPtjcBn7",
        "outputId": "67dce399-54c5-44d1-c825-7074bf84dd51"
      },
      "execution_count": null,
      "outputs": [
        {
          "output_type": "stream",
          "name": "stdout",
          "text": [
            "{'first_name': 'John', 'last_name': 'Smith', 'age': 30, 'country': 'USA'}\n",
            "{'first_name': 'John', 'last_name': 'Smith', 'age': 30, 'country': 'USA'}\n"
          ]
        }
      ]
    },
    {
      "cell_type": "code",
      "source": [
        "person = dict(value_1 = '2', value_2 = ['4','4','6','7'], address = '{street = 34f4\\nzipcode = 63100}')\n",
        "print(person)\n",
        "print(len(person))\n",
        "print(person['address'])"
      ],
      "metadata": {
        "colab": {
          "base_uri": "https://localhost:8080/"
        },
        "id": "VsMO23qQfAnb",
        "outputId": "b2359e76-e9ac-455f-a0e2-5baf7e44b6ba"
      },
      "execution_count": null,
      "outputs": [
        {
          "output_type": "stream",
          "name": "stdout",
          "text": [
            "{'value_1': '2', 'value_2': ['4', '4', '6', '7'], 'address': '{street = 34f4\\nzipcode = 63100}'}\n",
            "3\n",
            "{street = 34f4\n",
            "zipcode = 63100}\n"
          ]
        }
      ]
    },
    {
      "cell_type": "code",
      "source": [
        "print(person.get('address'))\n",
        "(person['City']) = 'Bahawalpur'\n",
        "print(person)\n",
        "person['first_name'] = 'Salman'\n",
        "print(person)"
      ],
      "metadata": {
        "colab": {
          "base_uri": "https://localhost:8080/"
        },
        "id": "P-AV7mHafxZ-",
        "outputId": "190f5a33-cad3-48a5-f185-97047e6198d9"
      },
      "execution_count": null,
      "outputs": [
        {
          "output_type": "stream",
          "name": "stdout",
          "text": [
            "None\n",
            "{'first_name': 'Salman', 'last_name': 'Latif', 'age': 23, 'country': 'Pakistan', 'City': 'Bahawalpur'}\n",
            "{'first_name': 'Salman', 'last_name': 'Latif', 'age': 23, 'country': 'Pakistan', 'City': 'Bahawalpur'}\n"
          ]
        }
      ]
    },
    {
      "cell_type": "code",
      "source": [
        "person = dict(first_name = 'Salman',last_name = 'Latif',age = 23, country = 'Pakistan')\n",
        "key = person.keys()\n",
        "print(key)\n",
        "print(type(key))"
      ],
      "metadata": {
        "colab": {
          "base_uri": "https://localhost:8080/"
        },
        "id": "1DG905bu5OyA",
        "outputId": "db2b4e15-e2f9-484b-d480-b8dfe2355ab7"
      },
      "execution_count": null,
      "outputs": [
        {
          "output_type": "stream",
          "name": "stdout",
          "text": [
            "dict_keys(['first_name', 'last_name', 'age', 'country'])\n",
            "<class 'dict_keys'>\n"
          ]
        }
      ]
    },
    {
      "cell_type": "code",
      "source": [
        "person = dict(first_name = 'Salman',last_name = 'Latif',age = 23, country = 'Pakistan')\n",
        "value = person.values()\n",
        "print(value)\n",
        "print(type(value))"
      ],
      "metadata": {
        "colab": {
          "base_uri": "https://localhost:8080/"
        },
        "id": "uT7Y4V_3EWHO",
        "outputId": "897ea62c-6cab-4ce4-b3da-52b1c19f32f4"
      },
      "execution_count": null,
      "outputs": [
        {
          "output_type": "stream",
          "name": "stdout",
          "text": [
            "dict_values(['Salman', 'Latif', 23, 'Pakistan'])\n",
            "<class 'dict_values'>\n"
          ]
        }
      ]
    },
    {
      "cell_type": "code",
      "source": [
        "A = {19, 22, 24, 20, 25, 26}\n",
        "B = {19, 22, 20, 25, 26, 24, 28, 27}\n",
        "# Join A with B and B with A\n",
        "A.update(B)\n",
        "print(A)\n",
        "C = {23,45,68,4,54,23,23}\n",
        "print(C)\n",
        "B.update(A)\n",
        "print(B)"
      ],
      "metadata": {
        "id": "BL0qaKm1E4Ye",
        "colab": {
          "base_uri": "https://localhost:8080/"
        },
        "outputId": "38c14a9e-eb9c-40be-e3bd-3161c776f261"
      },
      "execution_count": null,
      "outputs": [
        {
          "output_type": "stream",
          "name": "stdout",
          "text": [
            "{19, 20, 22, 24, 25, 26, 27, 28}\n",
            "{4, 68, 54, 23, 45}\n",
            "{19, 20, 22, 24, 25, 26, 27, 28}\n"
          ]
        }
      ]
    },
    {
      "cell_type": "code",
      "source": [
        "# What is the symmetric difference between A and B\n",
        "A.symmetric_difference(B)\n",
        "# Convert the ages to a set and compare the length of the list and the set, which one is bigger?\n",
        "age = [22, 19, 24, 25, 26, 24, 25, 24]\n",
        "print(set(age))\n",
        "print(len(age) > len(list(age)))"
      ],
      "metadata": {
        "colab": {
          "base_uri": "https://localhost:8080/"
        },
        "id": "EbAS56JheQbc",
        "outputId": "17c53046-b360-4a7e-fd78-014886619721"
      },
      "execution_count": null,
      "outputs": [
        {
          "output_type": "stream",
          "name": "stdout",
          "text": [
            "{19, 22, 24, 25, 26}\n",
            "False\n"
          ]
        }
      ]
    },
    {
      "cell_type": "code",
      "source": [
        "# Explain the difference between the following data types: string, list, tuple and set\n",
        "Data = (1,3,3,5,7,8,34,46)\n",
        "print(str(Data))\n",
        "print(list(Data))\n",
        "print(tuple(Data))\n",
        "print(set(Data))"
      ],
      "metadata": {
        "colab": {
          "base_uri": "https://localhost:8080/"
        },
        "id": "cyDoGODbeWAb",
        "outputId": "b459696c-a537-495a-8b38-cf3242945c5d"
      },
      "execution_count": null,
      "outputs": [
        {
          "output_type": "stream",
          "name": "stdout",
          "text": [
            "(1, 3, 3, 5, 7, 8, 34, 46)\n",
            "[1, 3, 3, 5, 7, 8, 34, 46]\n",
            "(1, 3, 3, 5, 7, 8, 34, 46)\n",
            "{1, 34, 3, 5, 7, 8, 46}\n"
          ]
        }
      ]
    },
    {
      "cell_type": "code",
      "source": [
        "# I am a teacher and I love to inspire and teach people. How many unique words have been used in the sentence?\n",
        "# Use the split methods and set to get the unique words.\n",
        "\n",
        "sentence = 'I am a teacher and I love to inspire and teach people.'\n",
        "sentence.split()\n",
        "print(set(sentence))"
      ],
      "metadata": {
        "colab": {
          "base_uri": "https://localhost:8080/"
        },
        "id": "cA5MJcjceb4b",
        "outputId": "5caee2fd-3832-4462-fb31-7ea3b86c84fb"
      },
      "execution_count": null,
      "outputs": [
        {
          "output_type": "stream",
          "name": "stdout",
          "text": [
            "{'a', 'v', 'o', 'I', 'c', 'h', 'p', 'i', 'r', ' ', 'n', 's', '.', 'e', 'l', 'm', 't', 'd'}\n"
          ]
        }
      ]
    },
    {
      "cell_type": "code",
      "source": [
        "# Create an empty dictionary called dog\n",
        "dog = dict()\n",
        "print(dog)\n",
        "print(type(dog))\n",
        "# Add name, color, breed, legs, age to the dog dictionary\n",
        "dog = dict(name = 'Roy',color = 'white',breed = 'German',legs = 'four',age = '1.5 Year')\n",
        "print(dog)"
      ],
      "metadata": {
        "colab": {
          "base_uri": "https://localhost:8080/"
        },
        "id": "RQX8vP5Neg38",
        "outputId": "18cf9f97-2424-46b1-eb03-fba7034bb4e2"
      },
      "execution_count": null,
      "outputs": [
        {
          "output_type": "stream",
          "name": "stdout",
          "text": [
            "{}\n",
            "<class 'dict'>\n",
            "{'name': 'Roy', 'color': 'white', 'breed': 'German', 'legs': 'four', 'age': '1.5 Year'}\n"
          ]
        }
      ]
    },
    {
      "cell_type": "code",
      "source": [
        "# Create a student dictionary and add first_name, last_name, gender, age, marital status, skills,\n",
        "# country, city and address as keys for the dictionary\n",
        "student = dict(first_name = 'John',last_name = 'Wickson',gender = 'Male',age = 20,marital_status = 'unmarried',\n",
        "skills = ['Frontend Develpor','Backend Develpor','UI Designer'],country = 'United State',city = 'New York',address\n",
        "= '23 Street ML')\n",
        "print(student.keys())"
      ],
      "metadata": {
        "colab": {
          "base_uri": "https://localhost:8080/"
        },
        "id": "JNhWEoEvenoU",
        "outputId": "d39fd08e-6a9b-4481-f893-2a034cd846ef"
      },
      "execution_count": null,
      "outputs": [
        {
          "output_type": "stream",
          "name": "stdout",
          "text": [
            "dict_keys(['first_name', 'last_name', 'gender', 'age', 'marital_status', 'skills', 'country', 'city', 'address'])\n"
          ]
        }
      ]
    },
    {
      "cell_type": "code",
      "source": [
        "# Get the length of the student dictionary\n",
        "print(len(student))\n",
        "# Get the value of skills and check the data type, it should be a list\n",
        "print(student['skills'])\n",
        "print(type(student['skills']))"
      ],
      "metadata": {
        "colab": {
          "base_uri": "https://localhost:8080/"
        },
        "id": "-iY8UMO9eq_M",
        "outputId": "58de440c-2172-49fc-d3ba-af60563e2962"
      },
      "execution_count": null,
      "outputs": [
        {
          "output_type": "stream",
          "name": "stdout",
          "text": [
            "9\n",
            "['Frontend Develpor', 'Backend Develpor', 'UI Designer']\n",
            "<class 'list'>\n"
          ]
        }
      ]
    },
    {
      "cell_type": "code",
      "source": [
        "# Modify the skills values by adding one or two skills\n",
        "student['skills'] = 'AI Engineer','ML Engineer','Frontend Develpor','Backend Develpor','UI Designer'\n",
        "print(student)\n",
        "# Get the dictionary keys as a list\n",
        "print(list(student.keys()))\n",
        "# Get the dictionary values as a list\n",
        "print(list(student.values()))\n",
        "# Change the dictionary to a list of tuples using items() method\n",
        "print(student.items())\n",
        "# Delete one of the items in the dictionary\n",
        "del student['city']\n",
        "# Delete one of the dictionaries\n",
        "del student"
      ],
      "metadata": {
        "colab": {
          "base_uri": "https://localhost:8080/"
        },
        "id": "xaFDopZOevc8",
        "outputId": "a9808006-7979-4306-e01e-0d254300a181"
      },
      "execution_count": null,
      "outputs": [
        {
          "output_type": "stream",
          "name": "stdout",
          "text": [
            "{'first_name': 'John', 'last_name': 'Wickson', 'gender': 'Male', 'age': 20, 'marital_status': 'unmarried', 'skills': ('AI Engineer', 'ML Engineer', 'Frontend Develpor', 'Backend Develpor', 'UI Designer'), 'country': 'United State', 'city': 'New York', 'address': '23 Street ML'}\n",
            "['first_name', 'last_name', 'gender', 'age', 'marital_status', 'skills', 'country', 'city', 'address']\n",
            "['John', 'Wickson', 'Male', 20, 'unmarried', ('AI Engineer', 'ML Engineer', 'Frontend Develpor', 'Backend Develpor', 'UI Designer'), 'United State', 'New York', '23 Street ML']\n",
            "dict_items([('first_name', 'John'), ('last_name', 'Wickson'), ('gender', 'Male'), ('age', 20), ('marital_status', 'unmarried'), ('skills', ('AI Engineer', 'ML Engineer', 'Frontend Develpor', 'Backend Develpor', 'UI Designer')), ('country', 'United State'), ('city', 'New York'), ('address', '23 Street ML')])\n"
          ]
        }
      ]
    },
    {
      "cell_type": "markdown",
      "source": [
        "# Day 9\n",
        "# Conditions"
      ],
      "metadata": {
        "id": "5eTMbOo1fDcS"
      }
    },
    {
      "cell_type": "code",
      "source": [
        "a = int(input('Enter your number: '))\n",
        "if a > 0 and a % 2 == 0:\n",
        "    print('a is even and positive integer.')\n",
        "elif a > 0 and a % 2 != 20:\n",
        "    print('a is a positive integer')\n",
        "elif a == 0:\n",
        "    print('a is zero')\n",
        "else:\n",
        "    print('a is negative.')"
      ],
      "metadata": {
        "colab": {
          "base_uri": "https://localhost:8080/"
        },
        "id": "gh2D36QAezzU",
        "outputId": "758ad15d-5a45-4962-82cb-f4996f5e68a4"
      },
      "execution_count": null,
      "outputs": [
        {
          "output_type": "stream",
          "name": "stdout",
          "text": [
            "Enter your number: 12\n",
            "a is even and positive integer.\n"
          ]
        }
      ]
    },
    {
      "cell_type": "code",
      "source": [
        "User = str(input('Enter your name: '))\n",
        "access_level = int(input('Enter your access level: '))\n",
        "if User == 'Admin' or access_level >= 4:\n",
        "    print('Access granted!')\n",
        "else:\n",
        "    print('Access denied!')"
      ],
      "metadata": {
        "colab": {
          "base_uri": "https://localhost:8080/"
        },
        "id": "Q6HSEI_mfMCM",
        "outputId": "e6e2b23c-76b0-488a-c827-1d2a04027225"
      },
      "execution_count": null,
      "outputs": [
        {
          "output_type": "stream",
          "name": "stdout",
          "text": [
            "Enter your name: 12\n",
            "Enter your access level: 5\n",
            "Access granted!\n"
          ]
        }
      ]
    },
    {
      "cell_type": "markdown",
      "source": [
        "#💻 Exercises: Day 9\n",
        "#Exercises: Level 1"
      ],
      "metadata": {
        "id": "J1UNX9PLmKPJ"
      }
    },
    {
      "cell_type": "code",
      "source": [
        "# Get user input using input(“Enter your age: ”). If user is 18 or older, give feedback: You are old enough to drive.\n",
        "# If below 18 give feedback to wait for the missing amount of years. Output:\n",
        "user_age = int(input('Enter your age: '))\n",
        "if user_age > 18:\n",
        "    print('You are old enough to drive.')\n",
        "\n",
        "else:\n",
        "    missing_value = 18 - user_age\n",
        "    print(f'You need {missing_value} more years to learn drive.')\n",
        "\n"
      ],
      "metadata": {
        "colab": {
          "base_uri": "https://localhost:8080/"
        },
        "id": "aHRoomjDfPld",
        "outputId": "6e84da37-0367-4374-d7d2-04165264853a"
      },
      "execution_count": null,
      "outputs": [
        {
          "output_type": "stream",
          "name": "stdout",
          "text": [
            "Enter your age: 12\n",
            "You need 6 more years to learn drive.\n"
          ]
        }
      ]
    },
    {
      "cell_type": "code",
      "source": [
        "''' Compare the values of my_age and your_age using if … else. Who is older (me or you)? Use input(“Enter your age: ”)\n",
        "to get the age as input. You can use a nested condition to print 'year' for 1 year difference in age, 'years' for bigger\n",
        "differences, and a custom text if my_age = your_age. Output:'''\n",
        "my_age = 19\n",
        "your_age = int(input('Enter your age: '))\n",
        "if your_age > my_age:\n",
        "    difference = your_age - my_age\n",
        "    if difference == 1:\n",
        "      print(f'You are {difference} year older than me.')\n",
        "    else:\n",
        "      print(f'You are {difference} years older than me.')\n",
        "elif your_age < my_age:\n",
        "    difference = my_age - your_age\n",
        "    if difference == 1:\n",
        "      print(f'I am {difference} year older than you.')\n",
        "    else:\n",
        "      print(f'I am {difference} years older than you.')\n",
        "else:\n",
        "  print('We are same age.')"
      ],
      "metadata": {
        "colab": {
          "base_uri": "https://localhost:8080/"
        },
        "id": "P7a50cMrfVN9",
        "outputId": "652ca4cd-fe9a-4f7a-90af-532d22fd6923"
      },
      "execution_count": null,
      "outputs": [
        {
          "output_type": "stream",
          "name": "stdout",
          "text": [
            "Enter your age: 34\n",
            "You are 15 years older than me.\n"
          ]
        }
      ]
    },
    {
      "cell_type": "code",
      "source": [
        "# Get two numbers from the user using input prompt. If a is greater than b return a is greater than b, if a is less b return a is smaller than b, else a is equal to b. Output:\n",
        "# Enter number one: 4\n",
        "# Enter number two: 3\n",
        "# 4 is greater than 3\n",
        "a = int(input('Enter number one: '))\n",
        "b = int(input('Enter number two: '))\n",
        "if a > b:\n",
        "    print(f'{a} is greater than {b}.')\n",
        "elif a < b:\n",
        "    print(f'{a} is smaller than {b}.')\n",
        "else:\n",
        "    print(f'{a} is equal to {b}.')\n"
      ],
      "metadata": {
        "colab": {
          "base_uri": "https://localhost:8080/"
        },
        "id": "F0FcoBPeiyw6",
        "outputId": "16153564-5c73-428e-94db-ac11cb78190c"
      },
      "execution_count": null,
      "outputs": [
        {
          "output_type": "stream",
          "name": "stdout",
          "text": [
            "Enter number one: 336\n",
            "Enter number two: 23\n",
            "336 is greater than 23.\n"
          ]
        }
      ]
    },
    {
      "cell_type": "markdown",
      "source": [
        "# Exercises: Level 2\n"
      ],
      "metadata": {
        "id": "eIMDybjKmasO"
      }
    },
    {
      "cell_type": "code",
      "source": [
        "\n",
        "\n",
        "# Write a code which gives grade to students according to theirs scores:\n",
        "\n",
        "# 80-100, A\n",
        "# 70-89, B\n",
        "# 60-69, C\n",
        "# 50-59, D\n",
        "# 0-49, F\n",
        "\n",
        "student_marks = int(input('Enter your marks: '))\n",
        "if student_marks >= 80 and student_marks <= 100:\n",
        "    print('student get grade A.')\n",
        "elif student_marks >= 70 and student_marks <= 89:\n",
        "    print('student get grade B.')\n",
        "elif student_marks >= 60 and student_marks <= 69:\n",
        "    print('student get grade C.')\n",
        "elif student_marks >= 50 and student_marks <= 59:\n",
        "    print('student get grade D.')\n",
        "else:\n",
        "    if student_marks >= 0 and student_marks <= 49:\n",
        "     print('student get grade F.')\n",
        "    else:\n",
        "     print(\"Please input right numbers.\")\n",
        "\n",
        "\n"
      ],
      "metadata": {
        "colab": {
          "base_uri": "https://localhost:8080/"
        },
        "id": "YygOPvLgmZYc",
        "outputId": "fa0a37e9-7e5c-4b13-aa66-7400c73b4d46"
      },
      "execution_count": null,
      "outputs": [
        {
          "output_type": "stream",
          "name": "stdout",
          "text": [
            "Enter your marks: 67\n",
            "student get grade C.\n"
          ]
        }
      ]
    },
    {
      "cell_type": "code",
      "source": [
        "\n",
        "\n",
        "\n",
        "# Check if the season is Autumn, Winter, Spring or Summer.\n",
        "# If the user input is: September, October or November, the season is Autumn.\n",
        "# December, January or February, the season is Winter. March, April or May,\n",
        "# the season is Spring June, July or August, the season is Summer\n",
        "\n",
        "user_input = input('Enter your month: ')\n",
        "if user_input in ['September', 'October', 'November']:\n",
        "    print('The season is Autumn.')\n",
        "elif user_input in ['December', 'January' , 'February']:\n",
        "    print('The season is Winter.')\n",
        "elif user_input in ['March' , 'April' , 'May']:\n",
        "    print('The season is Spring.')\n",
        "else:\n",
        "    if user_input in ['June', 'July' , 'August']:\n",
        "        print('The season is Summer.')\n",
        "    else:\n",
        "        print('Please enter the right month.')\n",
        "\n",
        "\n"
      ],
      "metadata": {
        "id": "mU0uoZgPtq1T",
        "colab": {
          "base_uri": "https://localhost:8080/"
        },
        "outputId": "b49a8932-c879-4289-c7b0-bf466928ed5d"
      },
      "execution_count": null,
      "outputs": [
        {
          "output_type": "stream",
          "name": "stdout",
          "text": [
            "Enter your month: May\n",
            "The season is Spring.\n"
          ]
        }
      ]
    },
    {
      "cell_type": "code",
      "source": [
        "# The following list contains some fruits:\n",
        "\n",
        "# fruits = ['banana', 'orange', 'mango', 'lemon']\n",
        "# If a fruit doesn't exist in the list add the fruit to the list and print the modified list. If the fruit exists print('That fruit already exist in the list')\n",
        "\n",
        "fruits = ['banana','orange','mango','lemon']\n",
        "user_input = input('Enter your fruit name: ')\n",
        "if user_input not in fruits:\n",
        "    fruits.append(user_input)\n",
        "    print(fruits)\n",
        "else:\n",
        "    print('That fruit already exist in the list')"
      ],
      "metadata": {
        "id": "z2vuZZJSYsC8",
        "colab": {
          "base_uri": "https://localhost:8080/"
        },
        "outputId": "c957c1aa-c08d-4ac4-d11a-4171d1a66605"
      },
      "execution_count": null,
      "outputs": [
        {
          "output_type": "stream",
          "name": "stdout",
          "text": [
            "Enter your fruit name: Apple\n",
            "['banana', 'orange', 'mango', 'lemon', 'Apple']\n"
          ]
        }
      ]
    },
    {
      "cell_type": "markdown",
      "source": [
        "# Exercises: Level 3"
      ],
      "metadata": {
        "id": "6fmhC27XMW17"
      }
    },
    {
      "cell_type": "code",
      "source": [
        "# Here we have a person dictionary. Feel free to modify it!\n",
        "\n",
        "person={\n",
        "    'first_name': 'Asabeneh',\n",
        "    'last_name': 'Yetayeh',\n",
        "    'age': 250,\n",
        "    'country': 'Finland',\n",
        "    'is_marred': True,\n",
        "    'skills': ['JavaScript', 'React', 'Node', 'MongoDB', 'Python'],\n",
        "    'address': {\n",
        "        'street': 'Space street',\n",
        "        'zipcode': '02210'\n",
        "    }\n",
        "    }\n",
        "#Check if the person dictionary has skills key, if so print out the middle skill in the skills list.\n",
        "if 'skills' in person:\n",
        "    print(person['skills'][len(person['skills'])//2])\n",
        "#Check if the person dictionary has skills key, if so check if the person has 'Python' skill and print out the result.\n",
        "if 'skills' in person:\n",
        "  print('Python' in person['skills'])\n",
        "#  * If a person skills has only JavaScript and React, print('He is a front end developer'), if the person skills has Node, Python, MongoDB,\n",
        "# print('He is a backend developer'), if the person skills has React, Node and MongoDB, Print('He is a fullstack developer'),\n",
        "# else print('unknown title') - for more accurate results more conditions can be nested!\n",
        "if 'skills' in person:\n",
        "    ('JavaScript'and 'React' in person['skills'])\n",
        "    print('He is a front end developer.')\n"
      ],
      "metadata": {
        "id": "mtaP_0OUMTRn",
        "colab": {
          "base_uri": "https://localhost:8080/"
        },
        "outputId": "09215a2c-b22e-4c9b-afd6-c5be112bfd7f"
      },
      "execution_count": null,
      "outputs": [
        {
          "output_type": "stream",
          "name": "stdout",
          "text": [
            "Node\n",
            "True\n"
          ]
        }
      ]
    },
    {
      "cell_type": "code",
      "source": [
        "#  * If a person skills has only JavaScript and React, print('He is a front end developer'), if the person skills has Node, Python, MongoDB,\n",
        "# print('He is a backend developer'), if the person skills has React, Node and MongoDB, Print('He is a fullstack developer'),\n",
        "# else print('unknown title') - for more accurate results more conditions can be nested!\n",
        "person={\n",
        "    'first_name': 'Asabeneh',\n",
        "    'last_name': 'Yetayeh',\n",
        "    'age': 250,\n",
        "    'country': 'Finland',\n",
        "    'is_marred': True,\n",
        "    'skills': ['JavaScript', 'React', 'Node', 'MongoDB', 'Python'],\n",
        "    'address': {\n",
        "        'street': 'Space street',\n",
        "        'zipcode': '02210'\n",
        "    }\n",
        "    }\n",
        "if 'skills' in person:\n",
        "    ('Node'and 'MongoDB' in person['skills'])\n",
        "    print('He is a backend developer.')\n",
        "elif 'skills' in person:\n",
        "    print('He is a front end developer.')\n",
        "    ('JavaScript'and 'React'  in person['skills'])\n",
        "elif 'skills' in person:\n",
        "    ('Python' in person['skills'])\n",
        "    print('He is a fullstack developer.')\n",
        "else:\n",
        "  print('unknown title')"
      ],
      "metadata": {
        "colab": {
          "base_uri": "https://localhost:8080/"
        },
        "id": "S1doT6rgjKJx",
        "outputId": "7eecf61b-87c8-4dcc-f628-e189ea573252"
      },
      "execution_count": null,
      "outputs": [
        {
          "output_type": "stream",
          "name": "stdout",
          "text": [
            "He is a backend developer.\n"
          ]
        }
      ]
    },
    {
      "cell_type": "code",
      "source": [
        "#  * If the person is married and if he lives in Finland, print the information in the following format:\n",
        "if person[\"is_marred\"] and person[\"country\"] == 'Finland':\n",
        "    print(f'{person[\"first_name\"]} {person[\"last_name\"]} lives in {person[\"country\"]}. He is married')"
      ],
      "metadata": {
        "colab": {
          "base_uri": "https://localhost:8080/"
        },
        "id": "VedUrINE96ev",
        "outputId": "c137dc2a-74a3-49de-e9bf-e23545df8f2b"
      },
      "execution_count": null,
      "outputs": [
        {
          "output_type": "stream",
          "name": "stdout",
          "text": [
            "Asabeneh Yetayeh lives in Finland. He is married\n"
          ]
        }
      ]
    },
    {
      "cell_type": "markdown",
      "source": [
        "# Day 10\n",
        "# Loops\n"
      ],
      "metadata": {
        "id": "WkxDiJwg6Ih3"
      }
    },
    {
      "cell_type": "code",
      "source": [
        "person = {\n",
        "    'first_name:':'Asabeneh',\n",
        "    'last_name:':'Yetayeh',\n",
        "    'age:':250,\n",
        "    'country:':'Finland',\n",
        "    'is_marred:':True,\n",
        "    'skills:':['JavaScript', 'React', 'Node', 'MongoDB', 'Python'],\n",
        "    'address:':{\n",
        "        'street':'Space street',\n",
        "        'zipcode':'02210'\n",
        "    }\n",
        "}\n",
        "for key, value in person.items():\n",
        "    print(key, value) # this way we get both keys and values printed out"
      ],
      "metadata": {
        "colab": {
          "base_uri": "https://localhost:8080/"
        },
        "id": "1H1ZBwSP6Hcv",
        "outputId": "b2edc8dd-c47c-473d-cf11-72be1339e1ab"
      },
      "execution_count": null,
      "outputs": [
        {
          "output_type": "stream",
          "name": "stdout",
          "text": [
            "first_name: Asabeneh\n",
            "last_name: Yetayeh\n",
            "age: 250\n",
            "country: Finland\n",
            "is_marred: True\n",
            "skills: ['JavaScript', 'React', 'Node', 'MongoDB', 'Python']\n",
            "address: {'street': 'Space street', 'zipcode': '02210'}\n"
          ]
        }
      ]
    },
    {
      "cell_type": "code",
      "source": [
        "numbers = (0,1,2,3,4,5)\n",
        "for number in numbers:\n",
        "    print(number)\n",
        "    if number == 3:\n",
        "        continue\n",
        "    print('Next number should be ', number + 1) if number != 5 else print(\"loop's end\") # for short hand conditions need both if and else statements\n",
        "print('outside the loop')"
      ],
      "metadata": {
        "colab": {
          "base_uri": "https://localhost:8080/"
        },
        "id": "ikq-FRqo6sc3",
        "outputId": "60821390-b108-4518-e0c4-e4bde083c342"
      },
      "execution_count": null,
      "outputs": [
        {
          "output_type": "stream",
          "name": "stdout",
          "text": [
            "0\n",
            "Next number should be  1\n",
            "1\n",
            "Next number should be  2\n",
            "2\n",
            "Next number should be  3\n",
            "3\n",
            "4\n",
            "Next number should be  5\n",
            "5\n",
            "loop's end\n",
            "outside the loop\n"
          ]
        }
      ]
    },
    {
      "cell_type": "code",
      "source": [
        "person = {\n",
        "    'first_name': 'Asabeneh',\n",
        "    'last_name': 'Yetayeh',\n",
        "    'age': 250,\n",
        "    'country': 'Finland',\n",
        "    'is_marred': True,\n",
        "    'skills': ['JavaScript', 'React', 'Node', 'MongoDB', 'Python'],\n",
        "    'address': {\n",
        "        'street': 'Space street',\n",
        "        'zipcode': '02210'\n",
        "    }\n",
        "}\n",
        "for key in person:\n",
        "    if key == 'skills':\n",
        "        for skill in person['skills']:\n",
        "            print(skill)"
      ],
      "metadata": {
        "colab": {
          "base_uri": "https://localhost:8080/"
        },
        "id": "-t3W5C16814L",
        "outputId": "edac06ea-8d37-43dc-c96e-784ca899ce65"
      },
      "execution_count": null,
      "outputs": [
        {
          "output_type": "stream",
          "name": "stdout",
          "text": [
            "JavaScript\n",
            "React\n",
            "Node\n",
            "MongoDB\n",
            "Python\n"
          ]
        }
      ]
    },
    {
      "cell_type": "markdown",
      "source": [
        "# 💻 Exercises: Day 10\n",
        "Exercises: Level 1\n"
      ],
      "metadata": {
        "id": "eMNA7VUgA2hR"
      }
    },
    {
      "cell_type": "code",
      "source": [
        "# Iterate 0 to 10 using for loop, do the same using while loop.\n",
        "count = 0\n",
        "# for i in range(count,11):\n",
        "#   print(i)\n",
        "#   count = count + 1\n",
        "#   if count > 10:\n",
        "#     break\n",
        "# while loop\n",
        "while count <= 10:\n",
        "  count = count + 1\n",
        "  print(count)"
      ],
      "metadata": {
        "colab": {
          "base_uri": "https://localhost:8080/"
        },
        "id": "rjUgpG-7_9AD",
        "outputId": "c1c16c6e-de5d-4ede-9336-6578f158dd8b"
      },
      "execution_count": null,
      "outputs": [
        {
          "output_type": "stream",
          "name": "stdout",
          "text": [
            "1\n",
            "2\n",
            "3\n",
            "4\n",
            "5\n",
            "6\n",
            "7\n",
            "8\n",
            "9\n",
            "10\n",
            "11\n"
          ]
        }
      ]
    },
    {
      "cell_type": "code",
      "source": [
        "i = 10\n",
        "for i in range(10):\n",
        "  i = i - 1\n",
        "  print(i)\n",
        "\n",
        "\n",
        "\n",
        "\n",
        "\n",
        "\n",
        "\n",
        "\n",
        "# i = 5\n",
        "# while i >= 1:\n",
        "#     i = i - 1\n",
        "#     print(i)\n",
        "print('Loop Ended!')"
      ],
      "metadata": {
        "id": "nCKAzQtdFk44",
        "colab": {
          "base_uri": "https://localhost:8080/"
        },
        "outputId": "38b199bb-dc1a-4acb-99d8-ff3578b1e13c"
      },
      "execution_count": 1,
      "outputs": [
        {
          "output_type": "stream",
          "name": "stdout",
          "text": [
            "-1\n",
            "0\n",
            "1\n",
            "2\n",
            "3\n",
            "4\n",
            "5\n",
            "6\n",
            "7\n",
            "8\n",
            "Loop Ended!\n"
          ]
        }
      ]
    },
    {
      "cell_type": "code",
      "source": [
        "# table using while loop"
      ],
      "metadata": {
        "id": "2NNizL4PyqBj"
      },
      "execution_count": null,
      "outputs": []
    }
  ]
}